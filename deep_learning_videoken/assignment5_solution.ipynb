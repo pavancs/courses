{
 "cells": [
  {
   "cell_type": "markdown",
   "metadata": {},
   "source": [
    "# Assignment 5 - Stock Price Prediction\n",
    "\n",
    "\n",
    "For this assignment, we are asked to predict the percentage change in a financial instrument at a time 2 hours in the future.  \n",
    "\n",
    "https://www.kaggle.com/c/battlefin-s-big-data-combine-forecasting-challenge"
   ]
  },
  {
   "cell_type": "markdown",
   "metadata": {},
   "source": [
    "** Note **\n",
    "\n",
    "Based on given modified data, following is understood\n",
    "\n",
    "- There are 198 stocks to predict\n",
    "- At given point, there are 244 features\n",
    "- training data is given for 150 days at 5 mins interval with 55 entries\n",
    "- test data is given for 50 days at 5 mins interval with 55 entries\n",
    "- we need to predict 56th entiry"
   ]
  },
  {
   "cell_type": "markdown",
   "metadata": {},
   "source": [
    "**Observations**\n",
    "\n",
    "Two models were tried, one without feature and one with to observe effect of features.\n",
    "\n",
    "- Model without features saturated after 30 epochs and started performing worse\n",
    "- Model with features performed better and coveraged better after 100+ epoch"
   ]
  },
  {
   "cell_type": "code",
   "execution_count": 1,
   "metadata": {
    "collapsed": true
   },
   "outputs": [],
   "source": [
    "# import libraries\n",
    "\n",
    "import numpy as np\n",
    "import pandas as pd\n",
    "import glob\n",
    "import zipfile\n",
    "import os"
   ]
  },
  {
   "cell_type": "code",
   "execution_count": 2,
   "metadata": {
    "collapsed": true
   },
   "outputs": [],
   "source": [
    "# unzip data\n",
    "#zip_ref = zipfile.ZipFile('data/Week5.zip', 'r')\n",
    "#zip_ref.extractall('data/')\n",
    "#zip_ref.close()"
   ]
  },
  {
   "cell_type": "code",
   "execution_count": 3,
   "metadata": {
    "collapsed": true,
    "scrolled": true
   },
   "outputs": [],
   "source": [
    "#read train and test input data\n",
    "\n",
    "path =r'data/Week_5/train/' \n",
    "allFiles = sorted(glob.glob(path + \"/*.csv\"),key=os.path.getmtime)\n",
    "train_data = pd.DataFrame()\n",
    "list_ = []\n",
    "train_file_index = []\n",
    "for file_ in allFiles:\n",
    "    train_file_index.append(int(file_.split('/')[3].split('.')[0]))\n",
    "    df = pd.read_csv(file_,index_col=None, header=0)\n",
    "    list_.append(df)\n",
    "train_data = pd.concat(list_)\n",
    "\n",
    "\n",
    "path =r'data/Week_5/test/'\n",
    "allFiles = sorted(glob.glob(path + \"/*.csv\"),key=os.path.getmtime)\n",
    "test_data = pd.DataFrame()\n",
    "list_ = []\n",
    "test_file_index = []\n",
    "for file_ in allFiles:\n",
    "    test_file_index.append(int(file_.split('/')[3].split('.')[0]))\n",
    "    df = pd.read_csv(file_,index_col=None, header=0)\n",
    "    list_.append(df)\n",
    "test_data = pd.concat(list_)"
   ]
  },
  {
   "cell_type": "code",
   "execution_count": 4,
   "metadata": {},
   "outputs": [
    {
     "data": {
      "text/html": [
       "<div>\n",
       "<table border=\"1\" class=\"dataframe\">\n",
       "  <thead>\n",
       "    <tr style=\"text-align: right;\">\n",
       "      <th></th>\n",
       "      <th>O1</th>\n",
       "      <th>O2</th>\n",
       "      <th>O3</th>\n",
       "      <th>O4</th>\n",
       "      <th>O5</th>\n",
       "      <th>O6</th>\n",
       "      <th>O7</th>\n",
       "      <th>O8</th>\n",
       "      <th>O9</th>\n",
       "      <th>O10</th>\n",
       "      <th>...</th>\n",
       "      <th>I235</th>\n",
       "      <th>I236</th>\n",
       "      <th>I237</th>\n",
       "      <th>I238</th>\n",
       "      <th>I239</th>\n",
       "      <th>I240</th>\n",
       "      <th>I241</th>\n",
       "      <th>I242</th>\n",
       "      <th>I243</th>\n",
       "      <th>I244</th>\n",
       "    </tr>\n",
       "  </thead>\n",
       "  <tbody>\n",
       "    <tr>\n",
       "      <th>0</th>\n",
       "      <td>0.00</td>\n",
       "      <td>0.00</td>\n",
       "      <td>0.00</td>\n",
       "      <td>0.00</td>\n",
       "      <td>0.00</td>\n",
       "      <td>0.00</td>\n",
       "      <td>0.00</td>\n",
       "      <td>0.00</td>\n",
       "      <td>0.00</td>\n",
       "      <td>0.00</td>\n",
       "      <td>...</td>\n",
       "      <td>0.268207</td>\n",
       "      <td>0.523644</td>\n",
       "      <td>0.135028</td>\n",
       "      <td>0.226693</td>\n",
       "      <td>0.101070</td>\n",
       "      <td>0.094971</td>\n",
       "      <td>0.050332</td>\n",
       "      <td>0.299584</td>\n",
       "      <td>0.038816</td>\n",
       "      <td>0.081309</td>\n",
       "    </tr>\n",
       "    <tr>\n",
       "      <th>1</th>\n",
       "      <td>0.97</td>\n",
       "      <td>0.45</td>\n",
       "      <td>0.16</td>\n",
       "      <td>-0.04</td>\n",
       "      <td>0.21</td>\n",
       "      <td>0.29</td>\n",
       "      <td>0.61</td>\n",
       "      <td>0.79</td>\n",
       "      <td>0.90</td>\n",
       "      <td>-0.04</td>\n",
       "      <td>...</td>\n",
       "      <td>0.785809</td>\n",
       "      <td>1.033014</td>\n",
       "      <td>1.006048</td>\n",
       "      <td>1.132957</td>\n",
       "      <td>0.183963</td>\n",
       "      <td>0.144079</td>\n",
       "      <td>0.355715</td>\n",
       "      <td>0.314446</td>\n",
       "      <td>0.251952</td>\n",
       "      <td>0.206263</td>\n",
       "    </tr>\n",
       "    <tr>\n",
       "      <th>2</th>\n",
       "      <td>1.69</td>\n",
       "      <td>0.51</td>\n",
       "      <td>0.00</td>\n",
       "      <td>-0.04</td>\n",
       "      <td>0.31</td>\n",
       "      <td>0.30</td>\n",
       "      <td>0.67</td>\n",
       "      <td>0.81</td>\n",
       "      <td>0.96</td>\n",
       "      <td>0.18</td>\n",
       "      <td>...</td>\n",
       "      <td>0.745939</td>\n",
       "      <td>1.362954</td>\n",
       "      <td>0.945924</td>\n",
       "      <td>1.086542</td>\n",
       "      <td>0.366259</td>\n",
       "      <td>0.267723</td>\n",
       "      <td>0.630238</td>\n",
       "      <td>0.357783</td>\n",
       "      <td>0.510176</td>\n",
       "      <td>0.429069</td>\n",
       "    </tr>\n",
       "    <tr>\n",
       "      <th>3</th>\n",
       "      <td>1.71</td>\n",
       "      <td>0.64</td>\n",
       "      <td>0.00</td>\n",
       "      <td>-0.06</td>\n",
       "      <td>0.38</td>\n",
       "      <td>0.31</td>\n",
       "      <td>0.64</td>\n",
       "      <td>0.84</td>\n",
       "      <td>1.01</td>\n",
       "      <td>0.22</td>\n",
       "      <td>...</td>\n",
       "      <td>0.603695</td>\n",
       "      <td>1.209274</td>\n",
       "      <td>0.771079</td>\n",
       "      <td>0.880964</td>\n",
       "      <td>0.451086</td>\n",
       "      <td>0.333353</td>\n",
       "      <td>0.321455</td>\n",
       "      <td>0.388896</td>\n",
       "      <td>0.574862</td>\n",
       "      <td>0.511859</td>\n",
       "    </tr>\n",
       "    <tr>\n",
       "      <th>4</th>\n",
       "      <td>1.65</td>\n",
       "      <td>0.51</td>\n",
       "      <td>0.00</td>\n",
       "      <td>-0.06</td>\n",
       "      <td>0.41</td>\n",
       "      <td>0.25</td>\n",
       "      <td>0.58</td>\n",
       "      <td>0.81</td>\n",
       "      <td>0.99</td>\n",
       "      <td>0.18</td>\n",
       "      <td>...</td>\n",
       "      <td>0.466887</td>\n",
       "      <td>1.173604</td>\n",
       "      <td>0.706337</td>\n",
       "      <td>0.808645</td>\n",
       "      <td>0.514879</td>\n",
       "      <td>0.385068</td>\n",
       "      <td>0.050332</td>\n",
       "      <td>0.410417</td>\n",
       "      <td>0.569456</td>\n",
       "      <td>0.565194</td>\n",
       "    </tr>\n",
       "  </tbody>\n",
       "</table>\n",
       "<p>5 rows × 442 columns</p>\n",
       "</div>"
      ],
      "text/plain": [
       "     O1    O2    O3    O4    O5    O6    O7    O8    O9   O10    ...     \\\n",
       "0  0.00  0.00  0.00  0.00  0.00  0.00  0.00  0.00  0.00  0.00    ...      \n",
       "1  0.97  0.45  0.16 -0.04  0.21  0.29  0.61  0.79  0.90 -0.04    ...      \n",
       "2  1.69  0.51  0.00 -0.04  0.31  0.30  0.67  0.81  0.96  0.18    ...      \n",
       "3  1.71  0.64  0.00 -0.06  0.38  0.31  0.64  0.84  1.01  0.22    ...      \n",
       "4  1.65  0.51  0.00 -0.06  0.41  0.25  0.58  0.81  0.99  0.18    ...      \n",
       "\n",
       "       I235      I236      I237      I238      I239      I240      I241  \\\n",
       "0  0.268207  0.523644  0.135028  0.226693  0.101070  0.094971  0.050332   \n",
       "1  0.785809  1.033014  1.006048  1.132957  0.183963  0.144079  0.355715   \n",
       "2  0.745939  1.362954  0.945924  1.086542  0.366259  0.267723  0.630238   \n",
       "3  0.603695  1.209274  0.771079  0.880964  0.451086  0.333353  0.321455   \n",
       "4  0.466887  1.173604  0.706337  0.808645  0.514879  0.385068  0.050332   \n",
       "\n",
       "       I242      I243      I244  \n",
       "0  0.299584  0.038816  0.081309  \n",
       "1  0.314446  0.251952  0.206263  \n",
       "2  0.357783  0.510176  0.429069  \n",
       "3  0.388896  0.574862  0.511859  \n",
       "4  0.410417  0.569456  0.565194  \n",
       "\n",
       "[5 rows x 442 columns]"
      ]
     },
     "execution_count": 4,
     "metadata": {},
     "output_type": "execute_result"
    }
   ],
   "source": [
    "train_data.head()"
   ]
  },
  {
   "cell_type": "code",
   "execution_count": 5,
   "metadata": {
    "collapsed": true
   },
   "outputs": [],
   "source": [
    "# read train and test labels\n",
    "\n",
    "train_label = pd.read_csv('data/Week_5/trainLabels.csv',index_col=0, header=0)\n",
    "test_label = pd.read_csv('data/Week_5/testLabels.csv',index_col=0, header=0)"
   ]
  },
  {
   "cell_type": "code",
   "execution_count": 6,
   "metadata": {},
   "outputs": [
    {
     "data": {
      "text/html": [
       "<div>\n",
       "<table border=\"1\" class=\"dataframe\">\n",
       "  <thead>\n",
       "    <tr style=\"text-align: right;\">\n",
       "      <th></th>\n",
       "      <th>O1</th>\n",
       "      <th>O2</th>\n",
       "      <th>O3</th>\n",
       "      <th>O4</th>\n",
       "      <th>O5</th>\n",
       "      <th>O6</th>\n",
       "      <th>O7</th>\n",
       "      <th>O8</th>\n",
       "      <th>O9</th>\n",
       "      <th>O10</th>\n",
       "      <th>...</th>\n",
       "      <th>O189</th>\n",
       "      <th>O190</th>\n",
       "      <th>O191</th>\n",
       "      <th>O192</th>\n",
       "      <th>O193</th>\n",
       "      <th>O194</th>\n",
       "      <th>O195</th>\n",
       "      <th>O196</th>\n",
       "      <th>O197</th>\n",
       "      <th>O198</th>\n",
       "    </tr>\n",
       "    <tr>\n",
       "      <th>FileId</th>\n",
       "      <th></th>\n",
       "      <th></th>\n",
       "      <th></th>\n",
       "      <th></th>\n",
       "      <th></th>\n",
       "      <th></th>\n",
       "      <th></th>\n",
       "      <th></th>\n",
       "      <th></th>\n",
       "      <th></th>\n",
       "      <th></th>\n",
       "      <th></th>\n",
       "      <th></th>\n",
       "      <th></th>\n",
       "      <th></th>\n",
       "      <th></th>\n",
       "      <th></th>\n",
       "      <th></th>\n",
       "      <th></th>\n",
       "      <th></th>\n",
       "      <th></th>\n",
       "    </tr>\n",
       "  </thead>\n",
       "  <tbody>\n",
       "    <tr>\n",
       "      <th>1</th>\n",
       "      <td>2.53</td>\n",
       "      <td>1.03</td>\n",
       "      <td>0.12</td>\n",
       "      <td>0.01</td>\n",
       "      <td>0.07</td>\n",
       "      <td>0.88</td>\n",
       "      <td>1.30</td>\n",
       "      <td>1.82</td>\n",
       "      <td>2.13</td>\n",
       "      <td>1.34</td>\n",
       "      <td>...</td>\n",
       "      <td>-0.65</td>\n",
       "      <td>1.58</td>\n",
       "      <td>1.75</td>\n",
       "      <td>-0.10</td>\n",
       "      <td>0.04</td>\n",
       "      <td>0.60</td>\n",
       "      <td>2.04</td>\n",
       "      <td>3.69</td>\n",
       "      <td>3.56</td>\n",
       "      <td>2.03</td>\n",
       "    </tr>\n",
       "    <tr>\n",
       "      <th>2</th>\n",
       "      <td>-4.95</td>\n",
       "      <td>0.18</td>\n",
       "      <td>-0.24</td>\n",
       "      <td>-0.04</td>\n",
       "      <td>-0.49</td>\n",
       "      <td>0.68</td>\n",
       "      <td>0.80</td>\n",
       "      <td>0.64</td>\n",
       "      <td>0.92</td>\n",
       "      <td>0.58</td>\n",
       "      <td>...</td>\n",
       "      <td>0.14</td>\n",
       "      <td>0.64</td>\n",
       "      <td>0.47</td>\n",
       "      <td>0.56</td>\n",
       "      <td>0.47</td>\n",
       "      <td>1.34</td>\n",
       "      <td>1.06</td>\n",
       "      <td>1.22</td>\n",
       "      <td>-0.04</td>\n",
       "      <td>0.38</td>\n",
       "    </tr>\n",
       "    <tr>\n",
       "      <th>3</th>\n",
       "      <td>0.16</td>\n",
       "      <td>0.00</td>\n",
       "      <td>0.20</td>\n",
       "      <td>-0.20</td>\n",
       "      <td>-0.11</td>\n",
       "      <td>0.76</td>\n",
       "      <td>0.88</td>\n",
       "      <td>0.18</td>\n",
       "      <td>0.45</td>\n",
       "      <td>0.26</td>\n",
       "      <td>...</td>\n",
       "      <td>0.33</td>\n",
       "      <td>0.84</td>\n",
       "      <td>1.22</td>\n",
       "      <td>0.25</td>\n",
       "      <td>1.50</td>\n",
       "      <td>0.70</td>\n",
       "      <td>1.79</td>\n",
       "      <td>-0.04</td>\n",
       "      <td>1.30</td>\n",
       "      <td>1.61</td>\n",
       "    </tr>\n",
       "    <tr>\n",
       "      <th>4</th>\n",
       "      <td>4.43</td>\n",
       "      <td>0.06</td>\n",
       "      <td>-0.20</td>\n",
       "      <td>-0.45</td>\n",
       "      <td>-0.62</td>\n",
       "      <td>0.13</td>\n",
       "      <td>4.35</td>\n",
       "      <td>1.47</td>\n",
       "      <td>0.36</td>\n",
       "      <td>2.65</td>\n",
       "      <td>...</td>\n",
       "      <td>-0.27</td>\n",
       "      <td>-0.49</td>\n",
       "      <td>-0.99</td>\n",
       "      <td>0.75</td>\n",
       "      <td>0.30</td>\n",
       "      <td>0.47</td>\n",
       "      <td>-0.02</td>\n",
       "      <td>-0.79</td>\n",
       "      <td>-0.43</td>\n",
       "      <td>-0.53</td>\n",
       "    </tr>\n",
       "    <tr>\n",
       "      <th>5</th>\n",
       "      <td>0.76</td>\n",
       "      <td>0.11</td>\n",
       "      <td>0.12</td>\n",
       "      <td>0.08</td>\n",
       "      <td>-0.25</td>\n",
       "      <td>0.12</td>\n",
       "      <td>-0.44</td>\n",
       "      <td>0.60</td>\n",
       "      <td>0.11</td>\n",
       "      <td>0.10</td>\n",
       "      <td>...</td>\n",
       "      <td>0.20</td>\n",
       "      <td>0.48</td>\n",
       "      <td>0.24</td>\n",
       "      <td>-0.11</td>\n",
       "      <td>0.08</td>\n",
       "      <td>0.40</td>\n",
       "      <td>-0.51</td>\n",
       "      <td>1.85</td>\n",
       "      <td>-0.53</td>\n",
       "      <td>-0.57</td>\n",
       "    </tr>\n",
       "  </tbody>\n",
       "</table>\n",
       "<p>5 rows × 198 columns</p>\n",
       "</div>"
      ],
      "text/plain": [
       "          O1    O2    O3    O4    O5    O6    O7    O8    O9   O10  ...   \\\n",
       "FileId                                                              ...    \n",
       "1       2.53  1.03  0.12  0.01  0.07  0.88  1.30  1.82  2.13  1.34  ...    \n",
       "2      -4.95  0.18 -0.24 -0.04 -0.49  0.68  0.80  0.64  0.92  0.58  ...    \n",
       "3       0.16  0.00  0.20 -0.20 -0.11  0.76  0.88  0.18  0.45  0.26  ...    \n",
       "4       4.43  0.06 -0.20 -0.45 -0.62  0.13  4.35  1.47  0.36  2.65  ...    \n",
       "5       0.76  0.11  0.12  0.08 -0.25  0.12 -0.44  0.60  0.11  0.10  ...    \n",
       "\n",
       "        O189  O190  O191  O192  O193  O194  O195  O196  O197  O198  \n",
       "FileId                                                              \n",
       "1      -0.65  1.58  1.75 -0.10  0.04  0.60  2.04  3.69  3.56  2.03  \n",
       "2       0.14  0.64  0.47  0.56  0.47  1.34  1.06  1.22 -0.04  0.38  \n",
       "3       0.33  0.84  1.22  0.25  1.50  0.70  1.79 -0.04  1.30  1.61  \n",
       "4      -0.27 -0.49 -0.99  0.75  0.30  0.47 -0.02 -0.79 -0.43 -0.53  \n",
       "5       0.20  0.48  0.24 -0.11  0.08  0.40 -0.51  1.85 -0.53 -0.57  \n",
       "\n",
       "[5 rows x 198 columns]"
      ]
     },
     "execution_count": 6,
     "metadata": {},
     "output_type": "execute_result"
    }
   ],
   "source": [
    "train_label.head()"
   ]
  },
  {
   "cell_type": "code",
   "execution_count": 7,
   "metadata": {
    "collapsed": true
   },
   "outputs": [],
   "source": [
    "# sort labels based on how files are read\n",
    "\n",
    "train_label = train_label.loc[train_file_index]\n",
    "test_label = test_label.loc[test_file_index]"
   ]
  },
  {
   "cell_type": "code",
   "execution_count": 8,
   "metadata": {},
   "outputs": [
    {
     "data": {
      "text/html": [
       "<div>\n",
       "<table border=\"1\" class=\"dataframe\">\n",
       "  <thead>\n",
       "    <tr style=\"text-align: right;\">\n",
       "      <th></th>\n",
       "      <th>O1</th>\n",
       "      <th>O2</th>\n",
       "      <th>O3</th>\n",
       "      <th>O4</th>\n",
       "      <th>O5</th>\n",
       "      <th>O6</th>\n",
       "      <th>O7</th>\n",
       "      <th>O8</th>\n",
       "      <th>O9</th>\n",
       "      <th>O10</th>\n",
       "      <th>...</th>\n",
       "      <th>O189</th>\n",
       "      <th>O190</th>\n",
       "      <th>O191</th>\n",
       "      <th>O192</th>\n",
       "      <th>O193</th>\n",
       "      <th>O194</th>\n",
       "      <th>O195</th>\n",
       "      <th>O196</th>\n",
       "      <th>O197</th>\n",
       "      <th>O198</th>\n",
       "    </tr>\n",
       "    <tr>\n",
       "      <th>FileId</th>\n",
       "      <th></th>\n",
       "      <th></th>\n",
       "      <th></th>\n",
       "      <th></th>\n",
       "      <th></th>\n",
       "      <th></th>\n",
       "      <th></th>\n",
       "      <th></th>\n",
       "      <th></th>\n",
       "      <th></th>\n",
       "      <th></th>\n",
       "      <th></th>\n",
       "      <th></th>\n",
       "      <th></th>\n",
       "      <th></th>\n",
       "      <th></th>\n",
       "      <th></th>\n",
       "      <th></th>\n",
       "      <th></th>\n",
       "      <th></th>\n",
       "      <th></th>\n",
       "    </tr>\n",
       "  </thead>\n",
       "  <tbody>\n",
       "    <tr>\n",
       "      <th>1</th>\n",
       "      <td>2.53</td>\n",
       "      <td>1.03</td>\n",
       "      <td>0.12</td>\n",
       "      <td>0.01</td>\n",
       "      <td>0.07</td>\n",
       "      <td>0.88</td>\n",
       "      <td>1.30</td>\n",
       "      <td>1.82</td>\n",
       "      <td>2.13</td>\n",
       "      <td>1.34</td>\n",
       "      <td>...</td>\n",
       "      <td>-0.65</td>\n",
       "      <td>1.58</td>\n",
       "      <td>1.75</td>\n",
       "      <td>-0.10</td>\n",
       "      <td>0.04</td>\n",
       "      <td>0.60</td>\n",
       "      <td>2.04</td>\n",
       "      <td>3.69</td>\n",
       "      <td>3.56</td>\n",
       "      <td>2.03</td>\n",
       "    </tr>\n",
       "    <tr>\n",
       "      <th>10</th>\n",
       "      <td>3.19</td>\n",
       "      <td>0.18</td>\n",
       "      <td>-0.10</td>\n",
       "      <td>-0.10</td>\n",
       "      <td>0.46</td>\n",
       "      <td>0.47</td>\n",
       "      <td>1.36</td>\n",
       "      <td>1.19</td>\n",
       "      <td>0.72</td>\n",
       "      <td>0.80</td>\n",
       "      <td>...</td>\n",
       "      <td>0.78</td>\n",
       "      <td>0.27</td>\n",
       "      <td>0.17</td>\n",
       "      <td>0.60</td>\n",
       "      <td>0.75</td>\n",
       "      <td>1.12</td>\n",
       "      <td>-0.38</td>\n",
       "      <td>1.05</td>\n",
       "      <td>1.94</td>\n",
       "      <td>0.11</td>\n",
       "    </tr>\n",
       "    <tr>\n",
       "      <th>100</th>\n",
       "      <td>2.55</td>\n",
       "      <td>1.33</td>\n",
       "      <td>0.40</td>\n",
       "      <td>-0.43</td>\n",
       "      <td>1.33</td>\n",
       "      <td>1.36</td>\n",
       "      <td>0.30</td>\n",
       "      <td>2.18</td>\n",
       "      <td>1.54</td>\n",
       "      <td>0.28</td>\n",
       "      <td>...</td>\n",
       "      <td>-0.46</td>\n",
       "      <td>2.23</td>\n",
       "      <td>2.13</td>\n",
       "      <td>0.24</td>\n",
       "      <td>0.03</td>\n",
       "      <td>1.64</td>\n",
       "      <td>1.83</td>\n",
       "      <td>5.85</td>\n",
       "      <td>4.37</td>\n",
       "      <td>1.41</td>\n",
       "    </tr>\n",
       "    <tr>\n",
       "      <th>101</th>\n",
       "      <td>-6.16</td>\n",
       "      <td>0.12</td>\n",
       "      <td>0.30</td>\n",
       "      <td>0.04</td>\n",
       "      <td>-0.46</td>\n",
       "      <td>-0.76</td>\n",
       "      <td>-0.74</td>\n",
       "      <td>-2.60</td>\n",
       "      <td>-0.89</td>\n",
       "      <td>-3.07</td>\n",
       "      <td>...</td>\n",
       "      <td>-1.27</td>\n",
       "      <td>-1.01</td>\n",
       "      <td>-1.00</td>\n",
       "      <td>-0.47</td>\n",
       "      <td>-0.72</td>\n",
       "      <td>-0.15</td>\n",
       "      <td>-1.13</td>\n",
       "      <td>-3.37</td>\n",
       "      <td>-2.92</td>\n",
       "      <td>-1.22</td>\n",
       "    </tr>\n",
       "    <tr>\n",
       "      <th>102</th>\n",
       "      <td>5.31</td>\n",
       "      <td>-0.18</td>\n",
       "      <td>0.09</td>\n",
       "      <td>0.00</td>\n",
       "      <td>0.50</td>\n",
       "      <td>-0.03</td>\n",
       "      <td>-0.34</td>\n",
       "      <td>-0.05</td>\n",
       "      <td>-0.12</td>\n",
       "      <td>0.47</td>\n",
       "      <td>...</td>\n",
       "      <td>0.77</td>\n",
       "      <td>-0.19</td>\n",
       "      <td>0.13</td>\n",
       "      <td>-0.03</td>\n",
       "      <td>0.11</td>\n",
       "      <td>0.23</td>\n",
       "      <td>-0.51</td>\n",
       "      <td>0.95</td>\n",
       "      <td>-0.61</td>\n",
       "      <td>-0.60</td>\n",
       "    </tr>\n",
       "  </tbody>\n",
       "</table>\n",
       "<p>5 rows × 198 columns</p>\n",
       "</div>"
      ],
      "text/plain": [
       "          O1    O2    O3    O4    O5    O6    O7    O8    O9   O10  ...   \\\n",
       "FileId                                                              ...    \n",
       "1       2.53  1.03  0.12  0.01  0.07  0.88  1.30  1.82  2.13  1.34  ...    \n",
       "10      3.19  0.18 -0.10 -0.10  0.46  0.47  1.36  1.19  0.72  0.80  ...    \n",
       "100     2.55  1.33  0.40 -0.43  1.33  1.36  0.30  2.18  1.54  0.28  ...    \n",
       "101    -6.16  0.12  0.30  0.04 -0.46 -0.76 -0.74 -2.60 -0.89 -3.07  ...    \n",
       "102     5.31 -0.18  0.09  0.00  0.50 -0.03 -0.34 -0.05 -0.12  0.47  ...    \n",
       "\n",
       "        O189  O190  O191  O192  O193  O194  O195  O196  O197  O198  \n",
       "FileId                                                              \n",
       "1      -0.65  1.58  1.75 -0.10  0.04  0.60  2.04  3.69  3.56  2.03  \n",
       "10      0.78  0.27  0.17  0.60  0.75  1.12 -0.38  1.05  1.94  0.11  \n",
       "100    -0.46  2.23  2.13  0.24  0.03  1.64  1.83  5.85  4.37  1.41  \n",
       "101    -1.27 -1.01 -1.00 -0.47 -0.72 -0.15 -1.13 -3.37 -2.92 -1.22  \n",
       "102     0.77 -0.19  0.13 -0.03  0.11  0.23 -0.51  0.95 -0.61 -0.60  \n",
       "\n",
       "[5 rows x 198 columns]"
      ]
     },
     "execution_count": 8,
     "metadata": {},
     "output_type": "execute_result"
    }
   ],
   "source": [
    "train_label.head()"
   ]
  },
  {
   "cell_type": "code",
   "execution_count": 55,
   "metadata": {},
   "outputs": [
    {
     "data": {
      "text/html": [
       "<div>\n",
       "<table border=\"1\" class=\"dataframe\">\n",
       "  <thead>\n",
       "    <tr style=\"text-align: right;\">\n",
       "      <th></th>\n",
       "      <th>O1</th>\n",
       "      <th>O2</th>\n",
       "      <th>O3</th>\n",
       "      <th>O4</th>\n",
       "      <th>O5</th>\n",
       "      <th>O6</th>\n",
       "      <th>O7</th>\n",
       "      <th>O8</th>\n",
       "      <th>O9</th>\n",
       "      <th>O10</th>\n",
       "      <th>...</th>\n",
       "      <th>O189</th>\n",
       "      <th>O190</th>\n",
       "      <th>O191</th>\n",
       "      <th>O192</th>\n",
       "      <th>O193</th>\n",
       "      <th>O194</th>\n",
       "      <th>O195</th>\n",
       "      <th>O196</th>\n",
       "      <th>O197</th>\n",
       "      <th>O198</th>\n",
       "    </tr>\n",
       "    <tr>\n",
       "      <th>FileId</th>\n",
       "      <th></th>\n",
       "      <th></th>\n",
       "      <th></th>\n",
       "      <th></th>\n",
       "      <th></th>\n",
       "      <th></th>\n",
       "      <th></th>\n",
       "      <th></th>\n",
       "      <th></th>\n",
       "      <th></th>\n",
       "      <th></th>\n",
       "      <th></th>\n",
       "      <th></th>\n",
       "      <th></th>\n",
       "      <th></th>\n",
       "      <th></th>\n",
       "      <th></th>\n",
       "      <th></th>\n",
       "      <th></th>\n",
       "      <th></th>\n",
       "      <th></th>\n",
       "    </tr>\n",
       "  </thead>\n",
       "  <tbody>\n",
       "    <tr>\n",
       "      <th>151</th>\n",
       "      <td>-5.16</td>\n",
       "      <td>-1.18</td>\n",
       "      <td>-0.04</td>\n",
       "      <td>0.01</td>\n",
       "      <td>-1.83</td>\n",
       "      <td>-0.90</td>\n",
       "      <td>-1.49</td>\n",
       "      <td>-1.04</td>\n",
       "      <td>-0.63</td>\n",
       "      <td>-0.79</td>\n",
       "      <td>...</td>\n",
       "      <td>-0.61</td>\n",
       "      <td>-1.23</td>\n",
       "      <td>-0.75</td>\n",
       "      <td>-0.12</td>\n",
       "      <td>-0.94</td>\n",
       "      <td>-0.95</td>\n",
       "      <td>-0.46</td>\n",
       "      <td>-1.86</td>\n",
       "      <td>-2.25</td>\n",
       "      <td>-1.35</td>\n",
       "    </tr>\n",
       "    <tr>\n",
       "      <th>152</th>\n",
       "      <td>0.95</td>\n",
       "      <td>-0.92</td>\n",
       "      <td>0.20</td>\n",
       "      <td>-0.15</td>\n",
       "      <td>0.21</td>\n",
       "      <td>-0.40</td>\n",
       "      <td>-0.39</td>\n",
       "      <td>-0.02</td>\n",
       "      <td>0.14</td>\n",
       "      <td>0.16</td>\n",
       "      <td>...</td>\n",
       "      <td>0.17</td>\n",
       "      <td>-1.05</td>\n",
       "      <td>-0.14</td>\n",
       "      <td>-0.31</td>\n",
       "      <td>-0.56</td>\n",
       "      <td>-0.20</td>\n",
       "      <td>-0.48</td>\n",
       "      <td>-1.34</td>\n",
       "      <td>-0.62</td>\n",
       "      <td>-0.30</td>\n",
       "    </tr>\n",
       "    <tr>\n",
       "      <th>153</th>\n",
       "      <td>2.55</td>\n",
       "      <td>-0.58</td>\n",
       "      <td>0.16</td>\n",
       "      <td>0.07</td>\n",
       "      <td>0.82</td>\n",
       "      <td>0.49</td>\n",
       "      <td>0.00</td>\n",
       "      <td>0.46</td>\n",
       "      <td>0.59</td>\n",
       "      <td>-0.18</td>\n",
       "      <td>...</td>\n",
       "      <td>0.70</td>\n",
       "      <td>0.32</td>\n",
       "      <td>-0.50</td>\n",
       "      <td>-0.03</td>\n",
       "      <td>-0.14</td>\n",
       "      <td>0.32</td>\n",
       "      <td>-0.35</td>\n",
       "      <td>-1.01</td>\n",
       "      <td>-0.49</td>\n",
       "      <td>-0.71</td>\n",
       "    </tr>\n",
       "    <tr>\n",
       "      <th>154</th>\n",
       "      <td>0.39</td>\n",
       "      <td>0.40</td>\n",
       "      <td>-0.36</td>\n",
       "      <td>0.51</td>\n",
       "      <td>-0.82</td>\n",
       "      <td>-0.81</td>\n",
       "      <td>-0.87</td>\n",
       "      <td>0.43</td>\n",
       "      <td>0.14</td>\n",
       "      <td>0.43</td>\n",
       "      <td>...</td>\n",
       "      <td>0.28</td>\n",
       "      <td>-0.49</td>\n",
       "      <td>-0.73</td>\n",
       "      <td>-0.66</td>\n",
       "      <td>-1.03</td>\n",
       "      <td>-0.50</td>\n",
       "      <td>-0.48</td>\n",
       "      <td>-0.54</td>\n",
       "      <td>-0.19</td>\n",
       "      <td>-0.09</td>\n",
       "    </tr>\n",
       "    <tr>\n",
       "      <th>156</th>\n",
       "      <td>0.62</td>\n",
       "      <td>0.12</td>\n",
       "      <td>-0.08</td>\n",
       "      <td>-0.04</td>\n",
       "      <td>0.79</td>\n",
       "      <td>-0.02</td>\n",
       "      <td>0.29</td>\n",
       "      <td>0.47</td>\n",
       "      <td>0.02</td>\n",
       "      <td>-0.64</td>\n",
       "      <td>...</td>\n",
       "      <td>0.01</td>\n",
       "      <td>0.06</td>\n",
       "      <td>0.32</td>\n",
       "      <td>-0.42</td>\n",
       "      <td>0.04</td>\n",
       "      <td>-0.08</td>\n",
       "      <td>-0.11</td>\n",
       "      <td>2.17</td>\n",
       "      <td>1.25</td>\n",
       "      <td>-0.30</td>\n",
       "    </tr>\n",
       "  </tbody>\n",
       "</table>\n",
       "<p>5 rows × 198 columns</p>\n",
       "</div>"
      ],
      "text/plain": [
       "          O1    O2    O3    O4    O5    O6    O7    O8    O9   O10  ...   \\\n",
       "FileId                                                              ...    \n",
       "151    -5.16 -1.18 -0.04  0.01 -1.83 -0.90 -1.49 -1.04 -0.63 -0.79  ...    \n",
       "152     0.95 -0.92  0.20 -0.15  0.21 -0.40 -0.39 -0.02  0.14  0.16  ...    \n",
       "153     2.55 -0.58  0.16  0.07  0.82  0.49  0.00  0.46  0.59 -0.18  ...    \n",
       "154     0.39  0.40 -0.36  0.51 -0.82 -0.81 -0.87  0.43  0.14  0.43  ...    \n",
       "156     0.62  0.12 -0.08 -0.04  0.79 -0.02  0.29  0.47  0.02 -0.64  ...    \n",
       "\n",
       "        O189  O190  O191  O192  O193  O194  O195  O196  O197  O198  \n",
       "FileId                                                              \n",
       "151    -0.61 -1.23 -0.75 -0.12 -0.94 -0.95 -0.46 -1.86 -2.25 -1.35  \n",
       "152     0.17 -1.05 -0.14 -0.31 -0.56 -0.20 -0.48 -1.34 -0.62 -0.30  \n",
       "153     0.70  0.32 -0.50 -0.03 -0.14  0.32 -0.35 -1.01 -0.49 -0.71  \n",
       "154     0.28 -0.49 -0.73 -0.66 -1.03 -0.50 -0.48 -0.54 -0.19 -0.09  \n",
       "156     0.01  0.06  0.32 -0.42  0.04 -0.08 -0.11  2.17  1.25 -0.30  \n",
       "\n",
       "[5 rows x 198 columns]"
      ]
     },
     "execution_count": 55,
     "metadata": {},
     "output_type": "execute_result"
    }
   ],
   "source": [
    "test_label.head()"
   ]
  },
  {
   "cell_type": "code",
   "execution_count": null,
   "metadata": {
    "collapsed": true
   },
   "outputs": [],
   "source": [
    "test_file_index"
   ]
  },
  {
   "cell_type": "markdown",
   "metadata": {},
   "source": [
    "### Data Preprocessing\n",
    "\n",
    "Following steps are performed as part of data preprocessing\n",
    "\n",
    " - a. reshape training dataset to (150 \\* 198,55,199)\n",
    "  - where 150 \\* 198 is number of days \\* number of stocks\n",
    "  - 55 is number of entries per day\n",
    "  - 199 is stock value (1) + one hot encoding of stocks index (198)\n",
    "  \n",
    "  \n",
    "  \n",
    " - b. reshape test dataset to (50 \\* 198,55,199)\n",
    "  - where 50 \\* 198 is number of days \\* number of stocks\n",
    "  - 55 is number of entries per day\n",
    "  - stock value (1) + one hot encoding of stocks index (198)\n",
    "  \n",
    " - c. stock features are treated as embedding for each day and converted to embedding matrix which is concatenated while training the model\n",
    "\n",
    " - d. reshape train label to (150 \\* 198,55,1)\n",
    " \n",
    " - e. reshape test label to (50 \\* 198,55,1)\n"
   ]
  },
  {
   "cell_type": "code",
   "execution_count": 9,
   "metadata": {
    "collapsed": true
   },
   "outputs": [],
   "source": [
    "feature_col_index = list(range(198,442))"
   ]
  },
  {
   "cell_type": "code",
   "execution_count": 10,
   "metadata": {
    "collapsed": true
   },
   "outputs": [],
   "source": [
    "# add feature index\n",
    "\n",
    "feature_index = np.array(range(train_data.shape[0]))\n",
    "\n",
    "train_data['feature_index'] = feature_index\n",
    "\n",
    "feature_index = np.array(range(train_data.shape[0],train_data.shape[0] + test_data.shape[0]))\n",
    "\n",
    "test_data['feature_index'] = feature_index"
   ]
  },
  {
   "cell_type": "code",
   "execution_count": 11,
   "metadata": {
    "collapsed": true
   },
   "outputs": [],
   "source": [
    "embedding_matrix = pd.concat([train_data[:][feature_col_index],test_data[:][feature_col_index]],axis = 0)"
   ]
  },
  {
   "cell_type": "code",
   "execution_count": 12,
   "metadata": {
    "collapsed": true
   },
   "outputs": [],
   "source": [
    "def one_hot_encoding(i):\n",
    "    one_hot_encode = [0] * 198\n",
    "    \n",
    "    one_hot_encode[i] = 1\n",
    "    \n",
    "    one_hot_matrix = []\n",
    "    \n",
    "    for j in range(55):\n",
    "        one_hot_matrix.append(one_hot_encode)\n",
    "    \n",
    "    one_hot_matrix = pd.DataFrame(one_hot_matrix)\n",
    "\n",
    "    return one_hot_matrix\n",
    "    \n",
    "\n",
    "def generate_matrix(day_data):\n",
    "    \n",
    "    #this function generate data in format (198,55,245) for each day\n",
    "    \n",
    "    col_n = [442]\n",
    "    \n",
    "    new_matrix = np.array([])\n",
    "    matrix_feature_index = np.array([])\n",
    "    \n",
    "    for i in range(198):\n",
    "        \n",
    "        idx = [i]\n",
    "        \n",
    "        row_data = day_data[:][idx]\n",
    "        \n",
    "        matrix = one_hot_encoding(i)\n",
    "        \n",
    "        row_data = pd.concat([row_data,matrix],axis = 1)\n",
    "        \n",
    "        row_data = row_data.as_matrix()\n",
    "        \n",
    "        row_data = np.reshape(row_data,(1,55,199))\n",
    "        \n",
    "        temp_feature = day_data[:][col_n].as_matrix()\n",
    "        \n",
    "        temp_feature = np.reshape(temp_feature,(1,55))\n",
    "        \n",
    "        \n",
    "        if i == 0:\n",
    "            new_matrix = row_data\n",
    "            matrix_feature_index = temp_feature\n",
    "        else:\n",
    "            new_matrix = np.append(new_matrix,row_data,axis = 0)\n",
    "            matrix_feature_index = np.append(matrix_feature_index,temp_feature,axis = 0)\n",
    "            \n",
    "              \n",
    "    return new_matrix,matrix_feature_index"
   ]
  },
  {
   "cell_type": "code",
   "execution_count": 13,
   "metadata": {
    "scrolled": true
   },
   "outputs": [
    {
     "name": "stdout",
     "output_type": "stream",
     "text": [
      "Processed 0.0 days\n",
      "Processed 10.0 days\n",
      "Processed 20.0 days\n",
      "Processed 30.0 days\n",
      "Processed 40.0 days\n",
      "Processed 50.0 days\n",
      "Processed 60.0 days\n",
      "Processed 70.0 days\n",
      "Processed 80.0 days\n",
      "Processed 90.0 days\n",
      "Processed 100.0 days\n",
      "Processed 110.0 days\n",
      "Processed 120.0 days\n",
      "Processed 130.0 days\n",
      "Processed 140.0 days\n"
     ]
    }
   ],
   "source": [
    "train_matrix = np.array([])\n",
    "train_matrix_feature_index = np.array([])\n",
    "\n",
    "\n",
    "for day_i in range(0,train_data.shape[0],55):\n",
    "    if day_i == 0:\n",
    "        train_matrix, train_matrix_feature_index = generate_matrix(train_data[day_i:day_i+ 55])\n",
    "        \n",
    "    else:\n",
    "        a,b = generate_matrix(train_data[day_i:day_i+ 55])\n",
    "        train_matrix = np.append(train_matrix,a,axis = 0)\n",
    "        train_matrix_feature_index = np.append(train_matrix_feature_index,b,axis = 0)\n",
    "        \n",
    "    if day_i/55 % 10 == 0:\n",
    "        print(\"Processed %s days\"% str(day_i/55))"
   ]
  },
  {
   "cell_type": "code",
   "execution_count": 14,
   "metadata": {},
   "outputs": [
    {
     "name": "stdout",
     "output_type": "stream",
     "text": [
      "Processed 0.0 days\n",
      "Processed 10.0 days\n",
      "Processed 20.0 days\n",
      "Processed 30.0 days\n",
      "Processed 40.0 days\n"
     ]
    }
   ],
   "source": [
    "test_matrix = np.array([])\n",
    "test_matrix_feature_index = np.array([])\n",
    "\n",
    "for day_i in range(0,test_data.shape[0],55):\n",
    "    if day_i == 0:\n",
    "        test_matrix, test_matrix_feature_index = generate_matrix(test_data[day_i:day_i+ 55])\n",
    "    else:\n",
    "        a,b = generate_matrix(test_data[day_i:day_i+ 55])\n",
    "        test_matrix = np.append(test_matrix,a,axis = 0)\n",
    "        test_matrix_feature_index = np.append(test_matrix_feature_index,b,axis = 0)\n",
    "        \n",
    "    if day_i/55 % 10 == 0:\n",
    "        print(\"Processed %s days\"% str(day_i/55))\n",
    "        "
   ]
  },
  {
   "cell_type": "code",
   "execution_count": 15,
   "metadata": {},
   "outputs": [
    {
     "data": {
      "text/plain": [
       "(9900, 55, 199)"
      ]
     },
     "execution_count": 15,
     "metadata": {},
     "output_type": "execute_result"
    }
   ],
   "source": [
    "test_matrix.shape"
   ]
  },
  {
   "cell_type": "code",
   "execution_count": 16,
   "metadata": {},
   "outputs": [
    {
     "data": {
      "text/plain": [
       "(29700, 55)"
      ]
     },
     "execution_count": 16,
     "metadata": {},
     "output_type": "execute_result"
    }
   ],
   "source": [
    "train_matrix_feature_index.shape"
   ]
  },
  {
   "cell_type": "code",
   "execution_count": 17,
   "metadata": {
    "collapsed": true,
    "scrolled": true
   },
   "outputs": [],
   "source": [
    "train_labels = []\n",
    "\n",
    "for i in range(150):\n",
    "    temp = []\n",
    "    for j in range(198):\n",
    "        temp.append(train_label.iloc[i,j])\n",
    "    \n",
    "    train_labels.extend(temp)"
   ]
  },
  {
   "cell_type": "code",
   "execution_count": 18,
   "metadata": {
    "collapsed": true
   },
   "outputs": [],
   "source": [
    "train_labels = np.array(train_labels)"
   ]
  },
  {
   "cell_type": "code",
   "execution_count": 19,
   "metadata": {
    "collapsed": true
   },
   "outputs": [],
   "source": [
    "test_labels = []\n",
    "\n",
    "for i in range(50):\n",
    "    temp = []\n",
    "    for j in range(198):\n",
    "        temp.append(test_label.iloc[i,j])\n",
    "    \n",
    "    test_labels.extend(temp)"
   ]
  },
  {
   "cell_type": "code",
   "execution_count": 20,
   "metadata": {
    "collapsed": true
   },
   "outputs": [],
   "source": [
    "test_labels = np.array(test_labels)"
   ]
  },
  {
   "cell_type": "code",
   "execution_count": 21,
   "metadata": {},
   "outputs": [
    {
     "data": {
      "text/plain": [
       "(9900,)"
      ]
     },
     "execution_count": 21,
     "metadata": {},
     "output_type": "execute_result"
    }
   ],
   "source": [
    "test_labels.shape"
   ]
  },
  {
   "cell_type": "markdown",
   "metadata": {},
   "source": [
    "## Build Model"
   ]
  },
  {
   "cell_type": "markdown",
   "metadata": {},
   "source": [
    "** LSTM Model** "
   ]
  },
  {
   "cell_type": "code",
   "execution_count": 22,
   "metadata": {},
   "outputs": [
    {
     "name": "stderr",
     "output_type": "stream",
     "text": [
      "Using TensorFlow backend.\n"
     ]
    }
   ],
   "source": [
    "from keras.layers import Input, Dense, Embedding, concatenate, LSTM, AveragePooling1D, Reshape, Activation\n",
    "from keras.models import Model\n",
    "from keras import optimizers"
   ]
  },
  {
   "cell_type": "code",
   "execution_count": 23,
   "metadata": {
    "collapsed": true
   },
   "outputs": [],
   "source": [
    "# create embedding layer\n",
    "\n",
    "embedding_dim = 244\n",
    "\n",
    "embedding_layer = Embedding(embedding_matrix.shape[0],\n",
    "                            embedding_dim,\n",
    "                            weights=[embedding_matrix],\n",
    "                            input_length=55,\n",
    "                            trainable=False)"
   ]
  },
  {
   "cell_type": "code",
   "execution_count": 24,
   "metadata": {},
   "outputs": [
    {
     "data": {
      "text/plain": [
       "(11000, 244)"
      ]
     },
     "execution_count": 24,
     "metadata": {},
     "output_type": "execute_result"
    }
   ],
   "source": [
    "embedding_matrix.shape"
   ]
  },
  {
   "cell_type": "markdown",
   "metadata": {},
   "source": [
    "###  Model 1 without features"
   ]
  },
  {
   "cell_type": "code",
   "execution_count": 40,
   "metadata": {},
   "outputs": [
    {
     "name": "stdout",
     "output_type": "stream",
     "text": [
      "Input layer shape (?, 55, 199)\n",
      "LSTM layer output shape (?, 64)\n"
     ]
    }
   ],
   "source": [
    "input_matrix = Input(shape=(55,199,))\n",
    "#input_features = Input(shape=(55,))\n",
    "\n",
    "#embedded_features = embedding_layer(input_features)\n",
    "#input_layer = concatenate([input_matrix,embedded_features])\n",
    "\n",
    "input_layer = input_matrix\n",
    "\n",
    "print(\"Input layer shape %s\" % input_layer.shape)\n",
    "\n",
    "lstm_layer = LSTM(64,dropout=0.3)\n",
    "\n",
    "encoded_layer = lstm_layer(input_layer)\n",
    "\n",
    "print(\"LSTM layer output shape %s\" % encoded_layer.shape)\n",
    "\n",
    "dense_layer = Dense(1)(encoded_layer)\n",
    "\n",
    "prediction = Activation('linear')(dense_layer)\n",
    "\n",
    "#print(\"Output layer shape %s\" % avg_pooling_layer.shape)\n",
    "\n",
    "#model = Model([input_matrix,input_features], [prediction])\n",
    "model1 = Model([input_matrix], [prediction])\n",
    "\n",
    "\n",
    "model1.compile(optimizer = 'adam', loss = 'mean_squared_error')"
   ]
  },
  {
   "cell_type": "code",
   "execution_count": 41,
   "metadata": {
    "scrolled": true
   },
   "outputs": [
    {
     "name": "stderr",
     "output_type": "stream",
     "text": [
      "/opt/conda/lib/python3.5/site-packages/ipykernel_launcher.py:7: UserWarning: The `nb_epoch` argument in `fit` has been renamed `epochs`.\n",
      "  import sys\n",
      "/opt/conda/lib/python3.5/site-packages/keras/backend/tensorflow_backend.py:2252: UserWarning: Expected no kwargs, you passed 1\n",
      "kwargs passed to function are ignored with Tensorflow backend\n",
      "  warnings.warn('\\n'.join(msg))\n"
     ]
    },
    {
     "name": "stdout",
     "output_type": "stream",
     "text": [
      "Train on 23760 samples, validate on 5940 samples\n",
      "Epoch 1/25\n",
      "24s - loss: 44.6455 - val_loss: 53.2745\n",
      "Epoch 2/25\n",
      "22s - loss: 43.0737 - val_loss: 52.2503\n",
      "Epoch 3/25\n",
      "23s - loss: 42.6193 - val_loss: 51.7599\n",
      "Epoch 4/25\n",
      "23s - loss: 42.0538 - val_loss: 51.2248\n",
      "Epoch 5/25\n",
      "22s - loss: 41.4870 - val_loss: 50.3103\n",
      "Epoch 6/25\n",
      "21s - loss: 41.0332 - val_loss: 50.0805\n",
      "Epoch 7/25\n",
      "23s - loss: 40.5193 - val_loss: 49.2752\n",
      "Epoch 8/25\n",
      "22s - loss: 40.0850 - val_loss: 48.8466\n",
      "Epoch 9/25\n",
      "22s - loss: 39.7651 - val_loss: 48.2941\n",
      "Epoch 10/25\n",
      "22s - loss: 39.2041 - val_loss: 48.6729\n",
      "Epoch 11/25\n",
      "22s - loss: 39.0069 - val_loss: 47.5018\n",
      "Epoch 12/25\n",
      "21s - loss: 38.6706 - val_loss: 46.6968\n",
      "Epoch 13/25\n",
      "22s - loss: 37.6611 - val_loss: 46.0723\n",
      "Epoch 14/25\n",
      "22s - loss: 37.3143 - val_loss: 45.7428\n",
      "Epoch 15/25\n",
      "23s - loss: 37.4533 - val_loss: 45.5193\n",
      "Epoch 16/25\n",
      "22s - loss: 37.3714 - val_loss: 44.9739\n",
      "Epoch 17/25\n",
      "23s - loss: 36.8652 - val_loss: 45.0226\n",
      "Epoch 18/25\n",
      "23s - loss: 36.5479 - val_loss: 44.5586\n",
      "Epoch 19/25\n",
      "23s - loss: 36.1798 - val_loss: 43.8224\n",
      "Epoch 20/25\n",
      "23s - loss: 36.1805 - val_loss: 44.1561\n",
      "Epoch 21/25\n",
      "23s - loss: 35.4489 - val_loss: 43.4336\n",
      "Epoch 22/25\n",
      "23s - loss: 35.8021 - val_loss: 43.0990\n",
      "Epoch 23/25\n",
      "23s - loss: 35.1384 - val_loss: 42.6723\n",
      "Epoch 24/25\n",
      "22s - loss: 35.0086 - val_loss: 42.7387\n",
      "Epoch 25/25\n",
      "22s - loss: 34.2072 - val_loss: 42.8592\n"
     ]
    }
   ],
   "source": [
    "history = model1.fit([train_matrix], \n",
    "          [train_labels],\n",
    "          nb_epoch=25,\n",
    "          verbose=2,\n",
    "          batch_size = 128,\n",
    "         shuffle = True,\n",
    "         validation_split=0.2)"
   ]
  },
  {
   "cell_type": "code",
   "execution_count": 42,
   "metadata": {},
   "outputs": [
    {
     "data": {
      "image/png": "[encoded data removed]",
      "text/plain": [
       "<matplotlib.figure.Figure at 0x7f2b47ae6eb8>"
      ]
     },
     "metadata": {},
     "output_type": "display_data"
    }
   ],
   "source": [
    "import matplotlib.pyplot as plt\n",
    "\n",
    "# summarize history for loss\n",
    "plt.plot(history.history['loss'])\n",
    "plt.plot(history.history['val_loss'])\n",
    "plt.title('model loss')\n",
    "plt.ylabel('loss')\n",
    "plt.xlabel('epoch')\n",
    "plt.legend(['train', 'test'], loc='upper left')\n",
    "plt.show()"
   ]
  },
  {
   "cell_type": "code",
   "execution_count": 48,
   "metadata": {
    "scrolled": true
   },
   "outputs": [
    {
     "name": "stderr",
     "output_type": "stream",
     "text": [
      "/opt/conda/lib/python3.5/site-packages/ipykernel_launcher.py:7: UserWarning: The `nb_epoch` argument in `fit` has been renamed `epochs`.\n",
      "  import sys\n"
     ]
    },
    {
     "name": "stdout",
     "output_type": "stream",
     "text": [
      "Train on 23760 samples, validate on 5940 samples\n",
      "Epoch 1/25\n",
      "22s - loss: 33.8425 - val_loss: 42.0698\n",
      "Epoch 2/25\n",
      "22s - loss: 33.9787 - val_loss: 41.5460\n",
      "Epoch 3/25\n",
      "21s - loss: 32.7462 - val_loss: 41.0992\n",
      "Epoch 4/25\n",
      "22s - loss: 33.4861 - val_loss: 40.8019\n",
      "Epoch 5/25\n",
      "22s - loss: 33.3108 - val_loss: 40.1670\n",
      "Epoch 6/25\n",
      "22s - loss: 32.9800 - val_loss: 39.8857\n",
      "Epoch 7/25\n",
      "22s - loss: 32.8885 - val_loss: 40.0548\n",
      "Epoch 8/25\n",
      "22s - loss: 31.9103 - val_loss: 40.1777\n",
      "Epoch 9/25\n",
      "22s - loss: 30.7317 - val_loss: 39.5887\n",
      "Epoch 10/25\n",
      "22s - loss: 31.7314 - val_loss: 39.4338\n",
      "Epoch 11/25\n",
      "22s - loss: 32.2074 - val_loss: 38.7243\n",
      "Epoch 12/25\n",
      "22s - loss: 31.0436 - val_loss: 38.2160\n",
      "Epoch 13/25\n",
      "22s - loss: 30.9034 - val_loss: 37.7794\n",
      "Epoch 14/25\n",
      "22s - loss: 30.9682 - val_loss: 42.0517\n",
      "Epoch 15/25\n",
      "22s - loss: 32.7176 - val_loss: 40.1576\n",
      "Epoch 16/25\n",
      "22s - loss: 31.1118 - val_loss: 40.4883\n",
      "Epoch 17/25\n",
      "22s - loss: 31.2465 - val_loss: 39.8183\n",
      "Epoch 18/25\n",
      "22s - loss: 30.2785 - val_loss: 39.4761\n",
      "Epoch 19/25\n",
      "22s - loss: 30.8078 - val_loss: 40.0968\n",
      "Epoch 20/25\n",
      "22s - loss: 30.9522 - val_loss: 39.9316\n",
      "Epoch 21/25\n",
      "22s - loss: 31.0781 - val_loss: 39.3179\n",
      "Epoch 22/25\n",
      "22s - loss: 31.1162 - val_loss: 38.9791\n",
      "Epoch 23/25\n",
      "22s - loss: 29.2141 - val_loss: 40.4003\n",
      "Epoch 24/25\n",
      "22s - loss: 29.4111 - val_loss: 39.0091\n",
      "Epoch 25/25\n",
      "22s - loss: 29.5048 - val_loss: 38.7867\n"
     ]
    }
   ],
   "source": [
    "history = model1.fit([train_matrix], \n",
    "          [train_labels],\n",
    "          nb_epoch=25,\n",
    "          verbose=2,\n",
    "          batch_size = 128,\n",
    "         shuffle = True,\n",
    "         validation_split=0.2)"
   ]
  },
  {
   "cell_type": "code",
   "execution_count": 49,
   "metadata": {},
   "outputs": [
    {
     "data": {
      "image/png": "[encoded data removed]",
      "text/plain": [
       "<matplotlib.figure.Figure at 0x7f2b46add7b8>"
      ]
     },
     "metadata": {},
     "output_type": "display_data"
    }
   ],
   "source": [
    "import matplotlib.pyplot as plt\n",
    "\n",
    "# summarize history for loss\n",
    "plt.plot(history.history['loss'])\n",
    "plt.plot(history.history['val_loss'])\n",
    "plt.title('model loss')\n",
    "plt.ylabel('loss')\n",
    "plt.xlabel('epoch')\n",
    "plt.legend(['train', 'test'], loc='upper left')\n",
    "plt.show()"
   ]
  },
  {
   "cell_type": "code",
   "execution_count": 43,
   "metadata": {},
   "outputs": [
    {
     "name": "stdout",
     "output_type": "stream",
     "text": [
      "9824/9900 [============================>.] - ETA: 0s"
     ]
    },
    {
     "data": {
      "text/plain": [
       "124.76258658086712"
      ]
     },
     "execution_count": 43,
     "metadata": {},
     "output_type": "execute_result"
    }
   ],
   "source": [
    "model1.evaluate([test_matrix],[test_labels])"
   ]
  },
  {
   "cell_type": "markdown",
   "metadata": {},
   "source": [
    "###  Model 2 with features"
   ]
  },
  {
   "cell_type": "code",
   "execution_count": 44,
   "metadata": {},
   "outputs": [
    {
     "name": "stdout",
     "output_type": "stream",
     "text": [
      "Input layer shape (?, 55, 443)\n",
      "LSTM layer output shape (?, 64)\n",
      "Output layer shape (?, 1)\n"
     ]
    }
   ],
   "source": [
    "input_matrix = Input(shape=(55,199,))\n",
    "input_features = Input(shape=(55,))\n",
    "\n",
    "embedded_features = embedding_layer(input_features)\n",
    "input_layer = concatenate([input_matrix,embedded_features])\n",
    "\n",
    "\n",
    "print(\"Input layer shape %s\" % input_layer.shape)\n",
    "\n",
    "lstm_layer = LSTM(64,dropout=0.3)\n",
    "\n",
    "encoded_layer = lstm_layer(input_layer)\n",
    "\n",
    "print(\"LSTM layer output shape %s\" % encoded_layer.shape)\n",
    "\n",
    "dense_layer = Dense(1)(encoded_layer)\n",
    "\n",
    "prediction = Activation('linear')(dense_layer)\n",
    "\n",
    "print(\"Output layer shape %s\" % dense_layer.shape)\n",
    "\n",
    "model2 = Model([input_matrix,input_features], [prediction])\n",
    "\n",
    "model2.compile(optimizer = 'adam', loss = 'mean_squared_error')"
   ]
  },
  {
   "cell_type": "code",
   "execution_count": 45,
   "metadata": {
    "scrolled": true
   },
   "outputs": [
    {
     "name": "stderr",
     "output_type": "stream",
     "text": [
      "/opt/conda/lib/python3.5/site-packages/ipykernel_launcher.py:7: UserWarning: The `nb_epoch` argument in `fit` has been renamed `epochs`.\n",
      "  import sys\n",
      "/opt/conda/lib/python3.5/site-packages/keras/backend/tensorflow_backend.py:2252: UserWarning: Expected no kwargs, you passed 1\n",
      "kwargs passed to function are ignored with Tensorflow backend\n",
      "  warnings.warn('\\n'.join(msg))\n"
     ]
    },
    {
     "name": "stdout",
     "output_type": "stream",
     "text": [
      "Train on 23760 samples, validate on 5940 samples\n",
      "Epoch 1/25\n",
      "28s - loss: 46.9571 - val_loss: 57.3918\n",
      "Epoch 2/25\n",
      "26s - loss: 45.6402 - val_loss: 53.9760\n",
      "Epoch 3/25\n",
      "27s - loss: 44.2071 - val_loss: 52.3109\n",
      "Epoch 4/25\n",
      "27s - loss: 43.6114 - val_loss: 51.7481\n",
      "Epoch 5/25\n",
      "27s - loss: 43.2925 - val_loss: 51.1707\n",
      "Epoch 6/25\n",
      "27s - loss: 42.6946 - val_loss: 50.5255\n",
      "Epoch 7/25\n",
      "27s - loss: 42.3065 - val_loss: 50.0150\n",
      "Epoch 8/25\n",
      "27s - loss: 41.7829 - val_loss: 49.3182\n",
      "Epoch 9/25\n",
      "28s - loss: 41.2323 - val_loss: 48.7182\n",
      "Epoch 10/25\n",
      "28s - loss: 41.0076 - val_loss: 48.2747\n",
      "Epoch 11/25\n",
      "28s - loss: 40.7681 - val_loss: 47.7843\n",
      "Epoch 12/25\n",
      "28s - loss: 40.7174 - val_loss: 47.3616\n",
      "Epoch 13/25\n",
      "29s - loss: 41.0204 - val_loss: 47.0939\n",
      "Epoch 14/25\n",
      "29s - loss: 39.6805 - val_loss: 46.6391\n",
      "Epoch 15/25\n",
      "27s - loss: 39.5346 - val_loss: 46.1973\n",
      "Epoch 16/25\n",
      "29s - loss: 38.6378 - val_loss: 45.2858\n",
      "Epoch 17/25\n",
      "29s - loss: 38.7925 - val_loss: 45.0449\n",
      "Epoch 18/25\n",
      "29s - loss: 38.4180 - val_loss: 44.3302\n",
      "Epoch 19/25\n",
      "31s - loss: 38.4688 - val_loss: 44.0797\n",
      "Epoch 20/25\n",
      "33s - loss: 37.4706 - val_loss: 43.6167\n",
      "Epoch 21/25\n",
      "34s - loss: 38.2498 - val_loss: 43.2453\n",
      "Epoch 22/25\n",
      "34s - loss: 37.0473 - val_loss: 42.8095\n",
      "Epoch 23/25\n",
      "35s - loss: 35.9401 - val_loss: 41.9382\n",
      "Epoch 24/25\n",
      "35s - loss: 35.5510 - val_loss: 41.5743\n",
      "Epoch 25/25\n",
      "35s - loss: 35.3949 - val_loss: 41.0977\n"
     ]
    }
   ],
   "source": [
    "history = model2.fit([train_matrix,train_matrix_feature_index], \n",
    "          [train_labels],\n",
    "          nb_epoch=25,\n",
    "          verbose=2,\n",
    "          batch_size = 128,\n",
    "         shuffle = True,\n",
    "         validation_split=0.2)"
   ]
  },
  {
   "cell_type": "code",
   "execution_count": 46,
   "metadata": {},
   "outputs": [
    {
     "data": {
      "image/png": "[encoded data removed]",
      "text/plain": [
       "<matplotlib.figure.Figure at 0x7f2b46d61128>"
      ]
     },
     "metadata": {},
     "output_type": "display_data"
    }
   ],
   "source": [
    "import matplotlib.pyplot as plt\n",
    "\n",
    "# summarize history for loss\n",
    "plt.plot(history.history['loss'])\n",
    "plt.plot(history.history['val_loss'])\n",
    "plt.title('model loss')\n",
    "plt.ylabel('loss')\n",
    "plt.xlabel('epoch')\n",
    "plt.legend(['train', 'test'], loc='upper left')\n",
    "plt.show()"
   ]
  },
  {
   "cell_type": "code",
   "execution_count": 50,
   "metadata": {
    "scrolled": true
   },
   "outputs": [
    {
     "name": "stderr",
     "output_type": "stream",
     "text": [
      "/opt/conda/lib/python3.5/site-packages/ipykernel_launcher.py:7: UserWarning: The `nb_epoch` argument in `fit` has been renamed `epochs`.\n",
      "  import sys\n"
     ]
    },
    {
     "name": "stdout",
     "output_type": "stream",
     "text": [
      "Train on 23760 samples, validate on 5940 samples\n",
      "Epoch 1/25\n",
      "27s - loss: 35.9497 - val_loss: 40.5893\n",
      "Epoch 2/25\n",
      "26s - loss: 35.2091 - val_loss: 40.1198\n",
      "Epoch 3/25\n",
      "27s - loss: 35.0387 - val_loss: 39.3872\n",
      "Epoch 4/25\n",
      "27s - loss: 34.1944 - val_loss: 38.8612\n",
      "Epoch 5/25\n",
      "26s - loss: 35.3365 - val_loss: 38.7325\n",
      "Epoch 6/25\n",
      "27s - loss: 33.3244 - val_loss: 38.3249\n",
      "Epoch 7/25\n",
      "26s - loss: 33.2199 - val_loss: 37.7330\n",
      "Epoch 8/25\n",
      "27s - loss: 32.4010 - val_loss: 37.1319\n",
      "Epoch 9/25\n",
      "27s - loss: 32.4508 - val_loss: 36.8917\n",
      "Epoch 10/25\n",
      "27s - loss: 32.8510 - val_loss: 36.4274\n",
      "Epoch 11/25\n",
      "27s - loss: 32.5711 - val_loss: 36.3482\n",
      "Epoch 12/25\n",
      "27s - loss: 31.3705 - val_loss: 35.7549\n",
      "Epoch 13/25\n",
      "26s - loss: 30.2669 - val_loss: 35.2584\n",
      "Epoch 14/25\n",
      "27s - loss: 31.1960 - val_loss: 34.9265\n",
      "Epoch 15/25\n",
      "27s - loss: 31.7647 - val_loss: 34.5050\n",
      "Epoch 16/25\n",
      "26s - loss: 30.8219 - val_loss: 34.2452\n",
      "Epoch 17/25\n",
      "27s - loss: 29.3143 - val_loss: 33.8555\n",
      "Epoch 18/25\n",
      "26s - loss: 31.6972 - val_loss: 33.5989\n",
      "Epoch 19/25\n",
      "27s - loss: 30.1183 - val_loss: 32.9096\n",
      "Epoch 20/25\n",
      "26s - loss: 29.8457 - val_loss: 32.6154\n",
      "Epoch 21/25\n",
      "26s - loss: 31.2547 - val_loss: 32.2799\n",
      "Epoch 22/25\n",
      "27s - loss: 28.3198 - val_loss: 32.0513\n",
      "Epoch 23/25\n",
      "27s - loss: 30.7422 - val_loss: 31.4692\n",
      "Epoch 24/25\n",
      "26s - loss: 28.5220 - val_loss: 31.3228\n",
      "Epoch 25/25\n",
      "27s - loss: 29.0282 - val_loss: 31.1142\n"
     ]
    }
   ],
   "source": [
    "history = model2.fit([train_matrix,train_matrix_feature_index], \n",
    "          [train_labels],\n",
    "          nb_epoch=25,\n",
    "          verbose=2,\n",
    "          batch_size = 128,\n",
    "         shuffle = True,\n",
    "         validation_split=0.2)"
   ]
  },
  {
   "cell_type": "code",
   "execution_count": 51,
   "metadata": {
    "scrolled": false
   },
   "outputs": [
    {
     "data": {
      "image/png": "[encoded data removed]",
      "text/plain": [
       "<matplotlib.figure.Figure at 0x7f2b46abeac8>"
      ]
     },
     "metadata": {},
     "output_type": "display_data"
    }
   ],
   "source": [
    "import matplotlib.pyplot as plt\n",
    "\n",
    "# summarize history for loss\n",
    "plt.plot(history.history['loss'])\n",
    "plt.plot(history.history['val_loss'])\n",
    "plt.title('model loss')\n",
    "plt.ylabel('loss')\n",
    "plt.xlabel('epoch')\n",
    "plt.legend(['train', 'test'], loc='upper left')\n",
    "plt.show()"
   ]
  },
  {
   "cell_type": "code",
   "execution_count": 53,
   "metadata": {
    "scrolled": true
   },
   "outputs": [
    {
     "name": "stderr",
     "output_type": "stream",
     "text": [
      "/opt/conda/lib/python3.5/site-packages/ipykernel_launcher.py:7: UserWarning: The `nb_epoch` argument in `fit` has been renamed `epochs`.\n",
      "  import sys\n"
     ]
    },
    {
     "name": "stdout",
     "output_type": "stream",
     "text": [
      "Train on 23760 samples, validate on 5940 samples\n",
      "Epoch 1/15\n",
      "27s - loss: 28.7985 - val_loss: 30.8027\n",
      "Epoch 2/15\n",
      "27s - loss: 28.2546 - val_loss: 29.9916\n",
      "Epoch 3/15\n",
      "27s - loss: 27.7983 - val_loss: 29.8013\n",
      "Epoch 4/15\n",
      "27s - loss: 26.1187 - val_loss: 29.3945\n",
      "Epoch 5/15\n",
      "27s - loss: 29.0163 - val_loss: 29.9820\n",
      "Epoch 6/15\n",
      "26s - loss: 25.7947 - val_loss: 28.4893\n",
      "Epoch 7/15\n",
      "27s - loss: 26.6242 - val_loss: 28.1244\n",
      "Epoch 8/15\n",
      "27s - loss: 28.1561 - val_loss: 27.8944\n",
      "Epoch 9/15\n",
      "27s - loss: 26.7734 - val_loss: 27.5495\n",
      "Epoch 10/15\n",
      "27s - loss: 26.1674 - val_loss: 27.3652\n",
      "Epoch 11/15\n",
      "27s - loss: 26.2504 - val_loss: 26.9831\n",
      "Epoch 12/15\n",
      "27s - loss: 24.2858 - val_loss: 26.7581\n",
      "Epoch 13/15\n",
      "27s - loss: 24.5617 - val_loss: 26.6294\n",
      "Epoch 14/15\n",
      "27s - loss: 23.7045 - val_loss: 26.1160\n",
      "Epoch 15/15\n",
      "26s - loss: 25.7804 - val_loss: 25.4190\n"
     ]
    }
   ],
   "source": [
    "history = model2.fit([train_matrix,train_matrix_feature_index], \n",
    "          [train_labels],\n",
    "          nb_epoch=15,\n",
    "          verbose=2,\n",
    "          batch_size = 128,\n",
    "         shuffle = True,\n",
    "         validation_split=0.2)"
   ]
  },
  {
   "cell_type": "code",
   "execution_count": 54,
   "metadata": {},
   "outputs": [
    {
     "data": {
      "image/png": "[encoded data removed]",
      "text/plain": [
       "<matplotlib.figure.Figure at 0x7f2b46ba82b0>"
      ]
     },
     "metadata": {},
     "output_type": "display_data"
    }
   ],
   "source": [
    "import matplotlib.pyplot as plt\n",
    "\n",
    "# summarize history for loss\n",
    "plt.plot(history.history['loss'])\n",
    "plt.plot(history.history['val_loss'])\n",
    "plt.title('model loss')\n",
    "plt.ylabel('loss')\n",
    "plt.xlabel('epoch')\n",
    "plt.legend(['train', 'test'], loc='upper left')\n",
    "plt.show()"
   ]
  },
  {
   "cell_type": "code",
   "execution_count": 58,
   "metadata": {
    "scrolled": true
   },
   "outputs": [
    {
     "name": "stderr",
     "output_type": "stream",
     "text": [
      "/opt/conda/lib/python3.5/site-packages/ipykernel_launcher.py:7: UserWarning: The `nb_epoch` argument in `fit` has been renamed `epochs`.\n",
      "  import sys\n"
     ]
    },
    {
     "name": "stdout",
     "output_type": "stream",
     "text": [
      "Train on 23760 samples, validate on 5940 samples\n",
      "Epoch 1/15\n",
      "27s - loss: 24.1610 - val_loss: 25.3295\n",
      "Epoch 2/15\n",
      "27s - loss: 25.0004 - val_loss: 24.8502\n",
      "Epoch 3/15\n",
      "26s - loss: 26.0639 - val_loss: 24.5670\n",
      "Epoch 4/15\n",
      "26s - loss: 25.2604 - val_loss: 24.5056\n",
      "Epoch 5/15\n",
      "27s - loss: 23.8055 - val_loss: 23.9989\n",
      "Epoch 6/15\n",
      "27s - loss: 25.6435 - val_loss: 23.8220\n",
      "Epoch 7/15\n",
      "27s - loss: 24.7213 - val_loss: 23.9630\n",
      "Epoch 8/15\n",
      "27s - loss: 24.9239 - val_loss: 23.7087\n",
      "Epoch 9/15\n",
      "27s - loss: 25.8134 - val_loss: 23.0721\n",
      "Epoch 10/15\n",
      "27s - loss: 24.4506 - val_loss: 22.9219\n",
      "Epoch 11/15\n",
      "26s - loss: 24.6030 - val_loss: 23.2578\n",
      "Epoch 12/15\n",
      "26s - loss: 23.8027 - val_loss: 22.7464\n",
      "Epoch 13/15\n",
      "27s - loss: 21.9395 - val_loss: 22.3985\n",
      "Epoch 14/15\n",
      "27s - loss: 24.9289 - val_loss: 22.1117\n",
      "Epoch 15/15\n",
      "27s - loss: 21.8976 - val_loss: 21.9694\n"
     ]
    }
   ],
   "source": [
    "history = model2.fit([train_matrix,train_matrix_feature_index], \n",
    "          [train_labels],\n",
    "          nb_epoch=15,\n",
    "          verbose=2,\n",
    "          batch_size = 128,\n",
    "         shuffle = True,\n",
    "         validation_split=0.2)"
   ]
  },
  {
   "cell_type": "code",
   "execution_count": 59,
   "metadata": {},
   "outputs": [
    {
     "data": {
      "image/png": "[encoded data removed]",
      "text/plain": [
       "<matplotlib.figure.Figure at 0x7f2b46d1c400>"
      ]
     },
     "metadata": {},
     "output_type": "display_data"
    }
   ],
   "source": [
    "import matplotlib.pyplot as plt\n",
    "\n",
    "# summarize history for loss\n",
    "plt.plot(history.history['loss'])\n",
    "plt.plot(history.history['val_loss'])\n",
    "plt.title('model loss')\n",
    "plt.ylabel('loss')\n",
    "plt.xlabel('epoch')\n",
    "plt.legend(['train', 'test'], loc='upper left')\n",
    "plt.show()"
   ]
  },
  {
   "cell_type": "code",
   "execution_count": 61,
   "metadata": {},
   "outputs": [
    {
     "name": "stdout",
     "output_type": "stream",
     "text": [
      "9888/9900 [============================>.] - ETA: 0s"
     ]
    },
    {
     "data": {
      "text/plain": [
       "99.063144264382245"
      ]
     },
     "execution_count": 61,
     "metadata": {},
     "output_type": "execute_result"
    }
   ],
   "source": [
    "model2.evaluate([test_matrix,test_matrix_feature_index],[test_labels])"
   ]
  },
  {
   "cell_type": "code",
   "execution_count": 62,
   "metadata": {
    "scrolled": true
   },
   "outputs": [
    {
     "name": "stderr",
     "output_type": "stream",
     "text": [
      "/opt/conda/lib/python3.5/site-packages/ipykernel_launcher.py:7: UserWarning: The `nb_epoch` argument in `fit` has been renamed `epochs`.\n",
      "  import sys\n"
     ]
    },
    {
     "name": "stdout",
     "output_type": "stream",
     "text": [
      "Train on 23760 samples, validate on 5940 samples\n",
      "Epoch 1/25\n",
      "27s - loss: 22.3074 - val_loss: 21.5141\n",
      "Epoch 2/25\n",
      "27s - loss: 23.9214 - val_loss: 21.2459\n",
      "Epoch 3/25\n",
      "27s - loss: 21.4213 - val_loss: 20.8935\n",
      "Epoch 4/25\n",
      "27s - loss: 21.0984 - val_loss: 20.7440\n",
      "Epoch 5/25\n",
      "27s - loss: 20.5634 - val_loss: 20.3835\n",
      "Epoch 6/25\n",
      "27s - loss: 18.7014 - val_loss: 20.0935\n",
      "Epoch 7/25\n",
      "27s - loss: 18.9822 - val_loss: 19.6909\n",
      "Epoch 8/25\n",
      "26s - loss: 23.8805 - val_loss: 19.3160\n",
      "Epoch 9/25\n",
      "27s - loss: 21.5338 - val_loss: 19.1475\n",
      "Epoch 10/25\n",
      "26s - loss: 18.1170 - val_loss: 18.9981\n",
      "Epoch 11/25\n",
      "27s - loss: 18.9385 - val_loss: 18.6748\n",
      "Epoch 12/25\n",
      "27s - loss: 20.0491 - val_loss: 18.2888\n",
      "Epoch 13/25\n",
      "27s - loss: 20.9088 - val_loss: 18.1082\n",
      "Epoch 14/25\n",
      "27s - loss: 17.9969 - val_loss: 17.6351\n",
      "Epoch 15/25\n",
      "27s - loss: 18.8865 - val_loss: 17.3923\n",
      "Epoch 16/25\n",
      "27s - loss: 18.9848 - val_loss: 18.0567\n",
      "Epoch 17/25\n",
      "27s - loss: 19.6962 - val_loss: 16.8421\n",
      "Epoch 18/25\n",
      "27s - loss: 18.2130 - val_loss: 16.5149\n",
      "Epoch 19/25\n",
      "27s - loss: 19.0673 - val_loss: 16.4067\n",
      "Epoch 20/25\n",
      "27s - loss: 16.5481 - val_loss: 16.1335\n",
      "Epoch 21/25\n",
      "26s - loss: 16.4018 - val_loss: 15.8317\n",
      "Epoch 22/25\n",
      "27s - loss: 17.9027 - val_loss: 15.7967\n",
      "Epoch 23/25\n",
      "26s - loss: 16.9114 - val_loss: 15.5868\n",
      "Epoch 24/25\n",
      "27s - loss: 19.4968 - val_loss: 15.2037\n",
      "Epoch 25/25\n",
      "27s - loss: 22.1304 - val_loss: 15.1020\n"
     ]
    }
   ],
   "source": [
    "history = model2.fit([train_matrix,train_matrix_feature_index], \n",
    "          [train_labels],\n",
    "          nb_epoch=25,\n",
    "          verbose=2,\n",
    "          batch_size = 128,\n",
    "         shuffle = True,\n",
    "         validation_split=0.2)"
   ]
  },
  {
   "cell_type": "code",
   "execution_count": 63,
   "metadata": {},
   "outputs": [
    {
     "data": {
      "image/png": "[encoded data removed]",
      "text/plain": [
       "<matplotlib.figure.Figure at 0x7f2b46c6aba8>"
      ]
     },
     "metadata": {},
     "output_type": "display_data"
    }
   ],
   "source": [
    "import matplotlib.pyplot as plt\n",
    "\n",
    "# summarize history for loss\n",
    "plt.plot(history.history['loss'])\n",
    "plt.plot(history.history['val_loss'])\n",
    "plt.title('model loss')\n",
    "plt.ylabel('loss')\n",
    "plt.xlabel('epoch')\n",
    "plt.legend(['train', 'test'], loc='upper left')\n",
    "plt.show()"
   ]
  },
  {
   "cell_type": "code",
   "execution_count": 64,
   "metadata": {},
   "outputs": [
    {
     "name": "stdout",
     "output_type": "stream",
     "text": [
      "9888/9900 [============================>.] - ETA: 0s"
     ]
    },
    {
     "data": {
      "text/plain": [
       "89.298652412000322"
      ]
     },
     "execution_count": 64,
     "metadata": {},
     "output_type": "execute_result"
    }
   ],
   "source": [
    "model2.evaluate([test_matrix,test_matrix_feature_index],[test_labels])"
   ]
  },
  {
   "cell_type": "code",
   "execution_count": 65,
   "metadata": {
    "scrolled": true
   },
   "outputs": [
    {
     "name": "stderr",
     "output_type": "stream",
     "text": [
      "/opt/conda/lib/python3.5/site-packages/ipykernel_launcher.py:7: UserWarning: The `nb_epoch` argument in `fit` has been renamed `epochs`.\n",
      "  import sys\n"
     ]
    },
    {
     "name": "stdout",
     "output_type": "stream",
     "text": [
      "Train on 23760 samples, validate on 5940 samples\n",
      "Epoch 1/25\n",
      "27s - loss: 17.2250 - val_loss: 14.8628\n",
      "Epoch 2/25\n",
      "27s - loss: 16.3829 - val_loss: 14.5203\n",
      "Epoch 3/25\n",
      "27s - loss: 21.1319 - val_loss: 15.8412\n",
      "Epoch 4/25\n",
      "27s - loss: 15.1444 - val_loss: 14.3633\n",
      "Epoch 5/25\n",
      "27s - loss: 17.4988 - val_loss: 14.1222\n",
      "Epoch 6/25\n",
      "27s - loss: 15.9547 - val_loss: 13.9652\n",
      "Epoch 7/25\n",
      "26s - loss: 14.2916 - val_loss: 13.6751\n",
      "Epoch 8/25\n",
      "27s - loss: 16.8559 - val_loss: 13.6520\n",
      "Epoch 9/25\n",
      "26s - loss: 16.3910 - val_loss: 13.1840\n",
      "Epoch 10/25\n",
      "26s - loss: 13.4714 - val_loss: 13.0789\n",
      "Epoch 11/25\n",
      "26s - loss: 16.1046 - val_loss: 13.1191\n",
      "Epoch 12/25\n",
      "27s - loss: 13.4335 - val_loss: 12.5792\n",
      "Epoch 13/25\n",
      "27s - loss: 14.5459 - val_loss: 12.3369\n",
      "Epoch 14/25\n",
      "27s - loss: 17.8550 - val_loss: 12.2921\n",
      "Epoch 15/25\n",
      "27s - loss: 15.8884 - val_loss: 11.9303\n",
      "Epoch 16/25\n",
      "27s - loss: 15.0284 - val_loss: 11.8979\n",
      "Epoch 17/25\n",
      "27s - loss: 15.4551 - val_loss: 11.7696\n",
      "Epoch 18/25\n",
      "27s - loss: 14.5630 - val_loss: 11.3591\n",
      "Epoch 19/25\n",
      "27s - loss: 15.3212 - val_loss: 11.2795\n",
      "Epoch 20/25\n",
      "27s - loss: 15.2933 - val_loss: 11.1945\n",
      "Epoch 21/25\n",
      "26s - loss: 16.8227 - val_loss: 10.9157\n",
      "Epoch 22/25\n",
      "27s - loss: 14.6137 - val_loss: 10.7618\n",
      "Epoch 23/25\n",
      "26s - loss: 14.3533 - val_loss: 10.6354\n",
      "Epoch 24/25\n",
      "27s - loss: 12.8067 - val_loss: 10.5494\n",
      "Epoch 25/25\n",
      "27s - loss: 15.6654 - val_loss: 10.3708\n"
     ]
    }
   ],
   "source": [
    "history = model2.fit([train_matrix,train_matrix_feature_index], \n",
    "          [train_labels],\n",
    "          nb_epoch=25,\n",
    "          verbose=2,\n",
    "          batch_size = 128,\n",
    "         shuffle = True,\n",
    "         validation_split=0.2)"
   ]
  },
  {
   "cell_type": "code",
   "execution_count": 66,
   "metadata": {},
   "outputs": [
    {
     "data": {
      "image/png": "[encoded data removed]",
      "text/plain": [
       "<matplotlib.figure.Figure at 0x7f2b46c1a0f0>"
      ]
     },
     "metadata": {},
     "output_type": "display_data"
    }
   ],
   "source": [
    "import matplotlib.pyplot as plt\n",
    "\n",
    "# summarize history for loss\n",
    "plt.plot(history.history['loss'])\n",
    "plt.plot(history.history['val_loss'])\n",
    "plt.title('model loss')\n",
    "plt.ylabel('loss')\n",
    "plt.xlabel('epoch')\n",
    "plt.legend(['train', 'test'], loc='upper left')\n",
    "plt.show()"
   ]
  },
  {
   "cell_type": "code",
   "execution_count": 67,
   "metadata": {},
   "outputs": [
    {
     "name": "stdout",
     "output_type": "stream",
     "text": [
      "9856/9900 [============================>.] - ETA: 0s"
     ]
    },
    {
     "data": {
      "text/plain": [
       "80.842761237410585"
      ]
     },
     "execution_count": 67,
     "metadata": {},
     "output_type": "execute_result"
    }
   ],
   "source": [
    "model2.evaluate([test_matrix,test_matrix_feature_index],[test_labels])"
   ]
  },
  {
   "cell_type": "code",
   "execution_count": 68,
   "metadata": {},
   "outputs": [
    {
     "name": "stderr",
     "output_type": "stream",
     "text": [
      "/opt/conda/lib/python3.5/site-packages/ipykernel_launcher.py:7: UserWarning: The `nb_epoch` argument in `fit` has been renamed `epochs`.\n",
      "  import sys\n"
     ]
    },
    {
     "name": "stdout",
     "output_type": "stream",
     "text": [
      "Train on 23760 samples, validate on 5940 samples\n",
      "Epoch 1/25\n",
      "29s - loss: 12.5975 - val_loss: 10.3973\n",
      "Epoch 2/25\n",
      "28s - loss: 11.0557 - val_loss: 9.9626\n",
      "Epoch 3/25\n",
      "27s - loss: 11.9368 - val_loss: 9.9687\n",
      "Epoch 4/25\n",
      "27s - loss: 13.1966 - val_loss: 9.8667\n",
      "Epoch 5/25\n",
      "27s - loss: 13.8535 - val_loss: 9.4778\n",
      "Epoch 6/25\n",
      "27s - loss: 14.4301 - val_loss: 9.4451\n",
      "Epoch 7/25\n",
      "27s - loss: 14.0014 - val_loss: 9.4064\n",
      "Epoch 8/25\n",
      "27s - loss: 11.3939 - val_loss: 8.8980\n",
      "Epoch 9/25\n",
      "27s - loss: 12.5250 - val_loss: 9.0973\n",
      "Epoch 10/25\n",
      "27s - loss: 10.6188 - val_loss: 8.6832\n",
      "Epoch 11/25\n",
      "27s - loss: 8.6507 - val_loss: 8.7338\n",
      "Epoch 12/25\n",
      "27s - loss: 11.6290 - val_loss: 8.3844\n",
      "Epoch 13/25\n",
      "27s - loss: 12.3125 - val_loss: 8.3286\n",
      "Epoch 14/25\n",
      "27s - loss: 9.6837 - val_loss: 8.1783\n",
      "Epoch 15/25\n",
      "26s - loss: 9.6722 - val_loss: 8.1272\n",
      "Epoch 16/25\n",
      "27s - loss: 12.2742 - val_loss: 7.9274\n",
      "Epoch 17/25\n",
      "27s - loss: 10.4337 - val_loss: 7.6577\n",
      "Epoch 18/25\n",
      "27s - loss: 12.2919 - val_loss: 8.6878\n",
      "Epoch 19/25\n",
      "27s - loss: 9.4675 - val_loss: 7.3669\n",
      "Epoch 20/25\n",
      "27s - loss: 9.3931 - val_loss: 7.1342\n",
      "Epoch 21/25\n",
      "27s - loss: 10.6862 - val_loss: 7.0098\n",
      "Epoch 22/25\n",
      "27s - loss: 12.9485 - val_loss: 6.8434\n",
      "Epoch 23/25\n",
      "27s - loss: 13.0566 - val_loss: 6.6594\n",
      "Epoch 24/25\n",
      "27s - loss: 16.3784 - val_loss: 6.6770\n",
      "Epoch 25/25\n",
      "28s - loss: 8.2606 - val_loss: 6.7224\n"
     ]
    }
   ],
   "source": [
    "history = model2.fit([train_matrix,train_matrix_feature_index], \n",
    "          [train_labels],\n",
    "          nb_epoch=25,\n",
    "          verbose=2,\n",
    "          batch_size = 128,\n",
    "         shuffle = True,\n",
    "         validation_split=0.2)"
   ]
  },
  {
   "cell_type": "code",
   "execution_count": 69,
   "metadata": {},
   "outputs": [
    {
     "data": {
      "image/png": "[encoded data removed]",
      "text/plain": [
       "<matplotlib.figure.Figure at 0x7f2b46b0d128>"
      ]
     },
     "metadata": {},
     "output_type": "display_data"
    }
   ],
   "source": [
    "import matplotlib.pyplot as plt\n",
    "\n",
    "# summarize history for loss\n",
    "plt.plot(history.history['loss'])\n",
    "plt.plot(history.history['val_loss'])\n",
    "plt.title('model loss')\n",
    "plt.ylabel('loss')\n",
    "plt.xlabel('epoch')\n",
    "plt.legend(['train', 'test'], loc='upper left')\n",
    "plt.show()"
   ]
  },
  {
   "cell_type": "code",
   "execution_count": 70,
   "metadata": {},
   "outputs": [
    {
     "name": "stdout",
     "output_type": "stream",
     "text": [
      "9888/9900 [============================>.] - ETA: 0s"
     ]
    },
    {
     "data": {
      "text/plain": [
       "73.617885222398868"
      ]
     },
     "execution_count": 70,
     "metadata": {},
     "output_type": "execute_result"
    }
   ],
   "source": [
    "model2.evaluate([test_matrix,test_matrix_feature_index],[test_labels])"
   ]
  },
  {
   "cell_type": "markdown",
   "metadata": {},
   "source": [
    "**Observation **\n",
    "\n",
    "Solution is converaging better. More epochs would result in better solution"
   ]
  },
  {
   "cell_type": "code",
   "execution_count": 78,
   "metadata": {},
   "outputs": [
    {
     "name": "stderr",
     "output_type": "stream",
     "text": [
      "/opt/conda/lib/python3.5/site-packages/ipykernel_launcher.py:7: UserWarning: The `nb_epoch` argument in `fit` has been renamed `epochs`.\n",
      "  import sys\n"
     ]
    },
    {
     "name": "stdout",
     "output_type": "stream",
     "text": [
      "Train on 23760 samples, validate on 5940 samples\n",
      "Epoch 1/50\n",
      "27s - loss: 5.1582 - val_loss: 1.3732\n",
      "Epoch 2/50\n",
      "27s - loss: 5.1198 - val_loss: 1.9226\n",
      "Epoch 3/50\n",
      "28s - loss: 2.6158 - val_loss: 1.3178\n",
      "Epoch 4/50\n",
      "27s - loss: 2.8285 - val_loss: 1.1452\n",
      "Epoch 5/50\n",
      "28s - loss: 1.9917 - val_loss: 1.4094\n",
      "Epoch 6/50\n",
      "27s - loss: 8.7745 - val_loss: 1.7811\n",
      "Epoch 7/50\n",
      "27s - loss: 4.4866 - val_loss: 2.1999\n",
      "Epoch 8/50\n",
      "27s - loss: 4.6455 - val_loss: 1.7140\n",
      "Epoch 9/50\n",
      "27s - loss: 4.0267 - val_loss: 1.6474\n",
      "Epoch 10/50\n",
      "28s - loss: 3.7168 - val_loss: 1.5064\n",
      "Epoch 11/50\n",
      "27s - loss: 6.4476 - val_loss: 1.3042\n",
      "Epoch 12/50\n",
      "27s - loss: 5.6906 - val_loss: 1.6957\n",
      "Epoch 13/50\n",
      "27s - loss: 5.6398 - val_loss: 1.2791\n",
      "Epoch 14/50\n",
      "26s - loss: 4.4407 - val_loss: 1.6611\n",
      "Epoch 15/50\n",
      "27s - loss: 3.3118 - val_loss: 1.3090\n",
      "Epoch 16/50\n",
      "27s - loss: 3.0608 - val_loss: 1.2741\n",
      "Epoch 17/50\n",
      "27s - loss: 3.5541 - val_loss: 1.4104\n",
      "Epoch 18/50\n",
      "27s - loss: 4.5317 - val_loss: 1.3505\n",
      "Epoch 19/50\n",
      "27s - loss: 4.6166 - val_loss: 1.4485\n",
      "Epoch 20/50\n",
      "27s - loss: 8.9046 - val_loss: 1.4426\n",
      "Epoch 21/50\n",
      "27s - loss: 3.5692 - val_loss: 1.2434\n",
      "Epoch 22/50\n",
      "28s - loss: 4.9091 - val_loss: 1.1986\n",
      "Epoch 23/50\n",
      "27s - loss: 3.4880 - val_loss: 1.1881\n",
      "Epoch 24/50\n",
      "27s - loss: 3.6507 - val_loss: 1.1987\n",
      "Epoch 25/50\n",
      "27s - loss: 6.0845 - val_loss: 1.4066\n",
      "Epoch 26/50\n",
      "27s - loss: 3.4835 - val_loss: 1.4177\n",
      "Epoch 27/50\n",
      "27s - loss: 3.0628 - val_loss: 1.2879\n",
      "Epoch 28/50\n",
      "27s - loss: 3.1102 - val_loss: 1.2920\n",
      "Epoch 29/50\n",
      "27s - loss: 2.4200 - val_loss: 1.4205\n",
      "Epoch 30/50\n",
      "28s - loss: 3.1646 - val_loss: 1.2802\n",
      "Epoch 31/50\n",
      "27s - loss: 4.7065 - val_loss: 1.3328\n",
      "Epoch 32/50\n",
      "27s - loss: 2.7509 - val_loss: 1.4983\n",
      "Epoch 33/50\n",
      "27s - loss: 2.2699 - val_loss: 1.4264\n",
      "Epoch 34/50\n",
      "27s - loss: 6.4033 - val_loss: 1.3836\n",
      "Epoch 35/50\n",
      "27s - loss: 3.0834 - val_loss: 1.4495\n",
      "Epoch 36/50\n",
      "27s - loss: 2.1247 - val_loss: 1.2883\n",
      "Epoch 37/50\n",
      "27s - loss: 2.6289 - val_loss: 1.2203\n",
      "Epoch 38/50\n",
      "27s - loss: 3.2184 - val_loss: 1.2527\n",
      "Epoch 39/50\n",
      "27s - loss: 3.6962 - val_loss: 1.1599\n",
      "Epoch 40/50\n",
      "27s - loss: 2.1140 - val_loss: 1.2513\n",
      "Epoch 41/50\n",
      "27s - loss: 3.0509 - val_loss: 1.1103\n",
      "Epoch 42/50\n",
      "27s - loss: 3.4161 - val_loss: 1.2436\n",
      "Epoch 43/50\n",
      "27s - loss: 2.9554 - val_loss: 1.3017\n",
      "Epoch 44/50\n",
      "27s - loss: 2.2912 - val_loss: 1.3207\n",
      "Epoch 45/50\n",
      "26s - loss: 2.8530 - val_loss: 1.2681\n",
      "Epoch 46/50\n",
      "26s - loss: 2.5970 - val_loss: 1.3825\n",
      "Epoch 47/50\n",
      "26s - loss: 3.5532 - val_loss: 1.1987\n",
      "Epoch 48/50\n",
      "26s - loss: 2.5494 - val_loss: 1.1587\n",
      "Epoch 49/50\n",
      "27s - loss: 2.8166 - val_loss: 1.0836\n",
      "Epoch 50/50\n",
      "27s - loss: 2.0863 - val_loss: 0.9871\n"
     ]
    }
   ],
   "source": [
    "history = model2.fit([train_matrix,train_matrix_feature_index], \n",
    "          [train_labels],\n",
    "          nb_epoch=50,\n",
    "          verbose=2,\n",
    "          batch_size = 128,\n",
    "         shuffle = True,\n",
    "         validation_split=0.2)"
   ]
  },
  {
   "cell_type": "code",
   "execution_count": null,
   "metadata": {},
   "outputs": [
    {
     "data": {
      "image/png": "[encoded data removed]",
      "text/plain": [
       "<matplotlib.figure.Figure at 0x7f2b468a70f0>"
      ]
     },
     "metadata": {},
     "output_type": "display_data"
    }
   ],
   "source": [
    "import matplotlib.pyplot as plt\n",
    "\n",
    "# summarize history for loss\n",
    "plt.plot(history.history['loss'])\n",
    "plt.plot(history.history['val_loss'])\n",
    "plt.title('model loss')\n",
    "plt.ylabel('loss')\n",
    "plt.xlabel('epoch')\n",
    "plt.legend(['train', 'test'], loc='upper left')\n",
    "plt.show()"
   ]
  },
  {
   "cell_type": "code",
   "execution_count": null,
   "metadata": {},
   "outputs": [
    {
     "name": "stdout",
     "output_type": "stream",
     "text": [
      "6240/9900 [=================>............] - ETA: 2s ETA"
     ]
    }
   ],
   "source": [
    "model2.evaluate([test_matrix,test_matrix_feature_index],[test_labels])"
   ]
  },
  {
   "cell_type": "code",
   "execution_count": null,
   "metadata": {
    "collapsed": true
   },
   "outputs": [],
   "source": []
  }
 ],
 "metadata": {
  "kernelspec": {
   "display_name": "Python 3",
   "language": "python",
   "name": "python3"
  },
  "language_info": {
   "codemirror_mode": {
    "name": "ipython",
    "version": 3
   },
   "file_extension": ".py",
   "mimetype": "text/x-python",
   "name": "python",
   "nbconvert_exporter": "python",
   "pygments_lexer": "ipython3",
   "version": "3.5.2"
  }
 },
 "nbformat": 4,
 "nbformat_minor": 2
}
