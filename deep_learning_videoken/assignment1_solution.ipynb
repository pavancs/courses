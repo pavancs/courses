{
 "cells": [
  {
   "cell_type": "markdown",
   "metadata": {},
   "source": [
    "# Assignment 1: Forecast Eurovision Voting"
   ]
  },
  {
   "cell_type": "markdown",
   "metadata": {},
   "source": [
    " - Date: 18th May 2017\n",
    " - Code Version : 1.0\n",
    " - Python Version: 3"
   ]
  },
  {
   "cell_type": "markdown",
   "metadata": {
    "collapsed": true
   },
   "source": [
    "## Problem Details\n",
    "\n",
    "The intrigue of Eurovision - the modeller's delight\n",
    "\n",
    "Since its inauguration in 1956, the Eurovision Song Contest has transfixed millions of viewers worldwide with its bubblegum pop, quirks, ballads and flops.  During its tenure as one of the world's longest-running television programs, it has attracted its fair share of controversy, with claims that the voting outcomes don't simply reflect performance quality but are influenced by factors such as regional politics, expatriate populations, alliances, and artists' sexual appeal.  Patterns have appeared over time which support this hypothesis. \n",
    "\n",
    "Here we will attempt to exploit these patterns in order to predict the voting for the 2010 Eurovision Song Contest.\n",
    "\n",
    "\n",
    "** kaggle competition link **\n",
    "\n",
    "https://www.kaggle.com/c/Eurovision2010\n",
    "\n",
    "\n",
    "## Solutions:\n",
    "\n",
    " - We tried modeling this problem both has linear regression and classification problem\n",
    " - Linear regression preformed better\n",
    " - We observed adding more layer to network or widening didn't result in better accuracy\n",
    " \n",
    " \n",
    " ** WE ACHEVIED ABSOLUTE ERROR OF 2512.0**\n",
    " \n",
    " Which put us, 6 on leaders board :)\n",
    " \n",
    " \n"
   ]
  },
  {
   "cell_type": "markdown",
   "metadata": {},
   "source": [
    "## Data\n",
    "\n",
    " - train.csv : training data\n",
    " - test.csv : test data without labels\n",
    " - test_withlabels.csv : test data with labels to evaluate "
   ]
  },
  {
   "cell_type": "markdown",
   "metadata": {},
   "source": [
    "### Data exploration"
   ]
  },
  {
   "cell_type": "code",
   "execution_count": 2,
   "metadata": {
    "collapsed": true
   },
   "outputs": [],
   "source": [
    "# import libraries\n",
    "import pandas as pd\n",
    "import numpy as np"
   ]
  },
  {
   "cell_type": "code",
   "execution_count": 18,
   "metadata": {
    "collapsed": true
   },
   "outputs": [],
   "source": [
    "# load data\n",
    "train_data = pd.read_csv('data/train.csv',encoding = \"ISO-8859-1\")\n",
    "test_data = pd.read_csv('data/test.csv',encoding = \"ISO-8859-1\")\n",
    "eval_data = pd.read_csv('data/test_withlabels.csv',encoding = \"ISO-8859-1\")"
   ]
  },
  {
   "cell_type": "code",
   "execution_count": 19,
   "metadata": {
    "scrolled": true
   },
   "outputs": [
    {
     "name": "stdout",
     "output_type": "stream",
     "text": [
      "Train data shape:(266, 63)\n",
      "Test data shape:(25, 63)\n"
     ]
    },
    {
     "data": {
      "text/html": [
       "<div>\n",
       "<table border=\"1\" class=\"dataframe\">\n",
       "  <thead>\n",
       "    <tr style=\"text-align: right;\">\n",
       "      <th></th>\n",
       "      <th>Year</th>\n",
       "      <th>Country</th>\n",
       "      <th>Region</th>\n",
       "      <th>Song language</th>\n",
       "      <th>Artist</th>\n",
       "      <th>Song</th>\n",
       "      <th>English translation</th>\n",
       "      <th>Artist gender</th>\n",
       "      <th>Group/Solo</th>\n",
       "      <th>Place</th>\n",
       "      <th>...</th>\n",
       "      <th>Serbia</th>\n",
       "      <th>Serbia &amp; Montenegro</th>\n",
       "      <th>Slovakia</th>\n",
       "      <th>Slovenia</th>\n",
       "      <th>Spain</th>\n",
       "      <th>Sweden</th>\n",
       "      <th>Switzerland</th>\n",
       "      <th>Turkey</th>\n",
       "      <th>Ukraine</th>\n",
       "      <th>United Kingdom</th>\n",
       "    </tr>\n",
       "  </thead>\n",
       "  <tbody>\n",
       "    <tr>\n",
       "      <th>0</th>\n",
       "      <td>2008</td>\n",
       "      <td>Romania</td>\n",
       "      <td>Former Socialist Bloc</td>\n",
       "      <td>Romanian, Italian</td>\n",
       "      <td>Nico and Vlad</td>\n",
       "      <td>\"Pe-o margine de lume\"</td>\n",
       "      <td>On an edge of the world</td>\n",
       "      <td>Both</td>\n",
       "      <td>Group</td>\n",
       "      <td>20</td>\n",
       "      <td>...</td>\n",
       "      <td>0.0</td>\n",
       "      <td>NaN</td>\n",
       "      <td>NaN</td>\n",
       "      <td>0.0</td>\n",
       "      <td>12.0</td>\n",
       "      <td>0.0</td>\n",
       "      <td>0.0</td>\n",
       "      <td>0.0</td>\n",
       "      <td>0.0</td>\n",
       "      <td>0.0</td>\n",
       "    </tr>\n",
       "    <tr>\n",
       "      <th>1</th>\n",
       "      <td>2008</td>\n",
       "      <td>United Kingdom</td>\n",
       "      <td>Independent</td>\n",
       "      <td>English</td>\n",
       "      <td>Andy Abraham</td>\n",
       "      <td>\"Even If\"</td>\n",
       "      <td>?</td>\n",
       "      <td>Male</td>\n",
       "      <td>Solo</td>\n",
       "      <td>25</td>\n",
       "      <td>...</td>\n",
       "      <td>0.0</td>\n",
       "      <td>NaN</td>\n",
       "      <td>NaN</td>\n",
       "      <td>0.0</td>\n",
       "      <td>0.0</td>\n",
       "      <td>0.0</td>\n",
       "      <td>0.0</td>\n",
       "      <td>0.0</td>\n",
       "      <td>0.0</td>\n",
       "      <td>NaN</td>\n",
       "    </tr>\n",
       "    <tr>\n",
       "      <th>2</th>\n",
       "      <td>2008</td>\n",
       "      <td>Albania</td>\n",
       "      <td>Former Socialist Bloc</td>\n",
       "      <td>Albanian</td>\n",
       "      <td>Olta Boka</td>\n",
       "      <td>\"Zemrn e lam peng\"</td>\n",
       "      <td>Hearts trapped in time</td>\n",
       "      <td>Female</td>\n",
       "      <td>Solo</td>\n",
       "      <td>17</td>\n",
       "      <td>...</td>\n",
       "      <td>0.0</td>\n",
       "      <td>NaN</td>\n",
       "      <td>NaN</td>\n",
       "      <td>4.0</td>\n",
       "      <td>0.0</td>\n",
       "      <td>0.0</td>\n",
       "      <td>8.0</td>\n",
       "      <td>1.0</td>\n",
       "      <td>0.0</td>\n",
       "      <td>0.0</td>\n",
       "    </tr>\n",
       "    <tr>\n",
       "      <th>3</th>\n",
       "      <td>2008</td>\n",
       "      <td>Germany</td>\n",
       "      <td>Western Europe</td>\n",
       "      <td>English</td>\n",
       "      <td>No Angels</td>\n",
       "      <td>\"Disappear\"</td>\n",
       "      <td>?</td>\n",
       "      <td>Female</td>\n",
       "      <td>Group</td>\n",
       "      <td>23</td>\n",
       "      <td>...</td>\n",
       "      <td>0.0</td>\n",
       "      <td>NaN</td>\n",
       "      <td>NaN</td>\n",
       "      <td>0.0</td>\n",
       "      <td>0.0</td>\n",
       "      <td>0.0</td>\n",
       "      <td>2.0</td>\n",
       "      <td>0.0</td>\n",
       "      <td>0.0</td>\n",
       "      <td>0.0</td>\n",
       "    </tr>\n",
       "    <tr>\n",
       "      <th>4</th>\n",
       "      <td>2008</td>\n",
       "      <td>Armenia</td>\n",
       "      <td>Former Socialist Bloc</td>\n",
       "      <td>English, Armenian</td>\n",
       "      <td>Sirusho</td>\n",
       "      <td>\"Ql, Ql\"</td>\n",
       "      <td>Come on, come on</td>\n",
       "      <td>Female</td>\n",
       "      <td>Solo</td>\n",
       "      <td>4</td>\n",
       "      <td>...</td>\n",
       "      <td>5.0</td>\n",
       "      <td>NaN</td>\n",
       "      <td>NaN</td>\n",
       "      <td>5.0</td>\n",
       "      <td>10.0</td>\n",
       "      <td>2.0</td>\n",
       "      <td>0.0</td>\n",
       "      <td>10.0</td>\n",
       "      <td>7.0</td>\n",
       "      <td>0.0</td>\n",
       "    </tr>\n",
       "  </tbody>\n",
       "</table>\n",
       "<p>5 rows × 63 columns</p>\n",
       "</div>"
      ],
      "text/plain": [
       "   Year      Country                    Region      Song language  \\\n",
       "0  2008         Romania  Former Socialist Bloc  Romanian, Italian   \n",
       "1  2008  United Kingdom            Independent            English   \n",
       "2  2008         Albania  Former Socialist Bloc           Albanian   \n",
       "3  2008         Germany         Western Europe            English   \n",
       "4  2008         Armenia  Former Socialist Bloc  English, Armenian   \n",
       "\n",
       "       Artist                    Song        English translation   \\\n",
       "0  Nico and Vlad  \"Pe-o margine de lume\"  On an edge of the world   \n",
       "1   Andy Abraham               \"Even If\"                        ?   \n",
       "2      Olta Boka    \"Zemrn e lam peng\"   Hearts trapped in time   \n",
       "3      No Angels             \"Disappear\"                        ?   \n",
       "4        Sirusho            \"Ql, Ql\"         Come on, come on   \n",
       "\n",
       "  Artist gender Group/Solo  Place       ...         Serbia   \\\n",
       "0          Both      Group     20       ...             0.0   \n",
       "1          Male       Solo     25       ...             0.0   \n",
       "2        Female       Solo     17       ...             0.0   \n",
       "3        Female      Group     23       ...             0.0   \n",
       "4        Female       Solo      4       ...             5.0   \n",
       "\n",
       "  Serbia & Montenegro Slovakia  Slovenia  Spain   Sweden   Switzerland   \\\n",
       "0                 NaN       NaN       0.0   12.0      0.0           0.0   \n",
       "1                 NaN       NaN       0.0    0.0      0.0           0.0   \n",
       "2                 NaN       NaN       4.0    0.0      0.0           8.0   \n",
       "3                 NaN       NaN       0.0    0.0      0.0           2.0   \n",
       "4                 NaN       NaN       5.0   10.0      2.0           0.0   \n",
       "\n",
       "   Turkey   Ukraine   United Kingdom   \n",
       "0      0.0       0.0              0.0  \n",
       "1      0.0       0.0              NaN  \n",
       "2      1.0       0.0              0.0  \n",
       "3      0.0       0.0              0.0  \n",
       "4     10.0       7.0              0.0  \n",
       "\n",
       "[5 rows x 63 columns]"
      ]
     },
     "execution_count": 19,
     "metadata": {},
     "output_type": "execute_result"
    }
   ],
   "source": [
    "#visualize data\n",
    "print(\"Train data shape:\" + str(train_data.shape))\n",
    "print(\"Test data shape:\" + str(test_data.shape))\n",
    "\n",
    "train_data.head()"
   ]
  },
  {
   "cell_type": "markdown",
   "metadata": {},
   "source": [
    "### Data preprocessing"
   ]
  },
  {
   "cell_type": "markdown",
   "metadata": {},
   "source": [
    "**Features columns in data:**\n",
    "\n",
    "'Year', 'Country   ', 'Region', 'Song language', 'Artist   ', 'Song   ',\n",
    "       'English translation ', 'Artist gender', 'Group/Solo', 'Place',\n",
    "       'Points', 'Host Country', 'Host region', 'Home/Away Country',\n",
    "       'Home/Away Region', 'Approximate Betting Prices'\n",
    "       \n",
    "**Label columns in data:**\n",
    "\n",
    "'Albania ', 'Andorra ', 'Armenia ', 'Austria', 'Azerbaijan ',\n",
    "       'Belarus ', 'Belgium ', 'Bosnia and Herzegovina ', 'Bulgaria ',\n",
    "       'Croatia ', 'Cyprus ', 'Czech Republic ', 'Denmark ', 'Estonia ',\n",
    "       'Finland ', 'France ', 'Georgia', 'Germany ', 'Greece ', 'Hungary ',\n",
    "       'Iceland ', 'Ireland ', 'Israel ', 'Latvia ', 'Lithuania ',\n",
    "       'Macedonia ', 'Malta ', 'Moldova ', 'Monaco', 'Montenegro ',\n",
    "       'Netherlands ', 'Norway ', 'Poland ', 'Portugal ', 'Romania ',\n",
    "       'Russia ', 'San Marino', 'Serbia ', 'Serbia & Montenegro', 'Slovakia ',\n",
    "       'Slovenia ', 'Spain ', 'Sweden ', 'Switzerland ', 'Turkey ', 'Ukraine ',\n",
    "       'United Kingdom '"
   ]
  },
  {
   "cell_type": "code",
   "execution_count": 20,
   "metadata": {
    "collapsed": true
   },
   "outputs": [],
   "source": [
    "# fill all NaN with -1\n",
    "train_data = train_data.fillna('-1')\n",
    "test_data = test_data.fillna('-1')\n",
    "eval_data = eval_data.fillna('-1')"
   ]
  },
  {
   "cell_type": "markdown",
   "metadata": {},
   "source": [
    "To make data trainable.. melting label columns into create two new columns\n",
    "\n",
    " - \"Scoring Country\" : Which country is scoring\n",
    " - \"Score\" : Corresponding countries code"
   ]
  },
  {
   "cell_type": "code",
   "execution_count": 21,
   "metadata": {
    "collapsed": true
   },
   "outputs": [],
   "source": [
    "#melt scoring country in data \n",
    "\n",
    "feature_columns = ['Year', 'Country   ', 'Region', 'Song language', 'Artist   ', 'Song   ',\n",
    "       'English translation ', 'Artist gender', 'Group/Solo', 'Place',\n",
    "       'Points', 'Host Country', 'Host region', 'Home/Away Country',\n",
    "       'Home/Away Region', 'Approximate Betting Prices']\n",
    "\n",
    "label_columns = ['Albania ', 'Andorra ', 'Armenia ', 'Austria', 'Azerbaijan ',\n",
    "       'Belarus ', 'Belgium ', 'Bosnia and Herzegovina ', 'Bulgaria ',\n",
    "       'Croatia ', 'Cyprus ', 'Czech Republic ', 'Denmark ', 'Estonia ',\n",
    "       'Finland ', 'France ', 'Georgia', 'Germany ', 'Greece ', 'Hungary ',\n",
    "       'Iceland ', 'Ireland ', 'Israel ', 'Latvia ', 'Lithuania ',\n",
    "       'Macedonia ', 'Malta ', 'Moldova ', 'Monaco', 'Montenegro ',\n",
    "       'Netherlands ', 'Norway ', 'Poland ', 'Portugal ', 'Romania ',\n",
    "       'Russia ', 'San Marino', 'Serbia ', 'Serbia & Montenegro', 'Slovakia ',\n",
    "       'Slovenia ', 'Spain ', 'Sweden ', 'Switzerland ', 'Turkey ', 'Ukraine ',\n",
    "       'United Kingdom ']\n",
    "\n",
    "train_data = pd.melt(train_data, id_vars=feature_columns, value_vars= label_columns,var_name='Scoring Country',value_name='Score')\n",
    "test_data = pd.melt(test_data, id_vars=feature_columns, value_vars= label_columns,var_name='Scoring Country',value_name='Score')\n",
    "eval_data = pd.melt(eval_data, id_vars=feature_columns, value_vars= label_columns,var_name='Scoring Country',value_name='Score')"
   ]
  },
  {
   "cell_type": "markdown",
   "metadata": {},
   "source": [
    "** Handling when Score is empty **\n",
    "\n",
    "Scores are empty when,\n",
    "\n",
    "- A country didn't participate\n",
    "- Same country is performing\n",
    "\n",
    "Hence where scorings are not availible, row are dropped"
   ]
  },
  {
   "cell_type": "code",
   "execution_count": 22,
   "metadata": {
    "collapsed": true
   },
   "outputs": [],
   "source": [
    "train_data = train_data.drop(train_data[train_data['Score'] == '-1'].index)"
   ]
  },
  {
   "cell_type": "code",
   "execution_count": 23,
   "metadata": {
    "collapsed": true
   },
   "outputs": [],
   "source": [
    "eval_data = eval_data.drop(eval_data[eval_data['Score'] == '-1'].index)"
   ]
  },
  {
   "cell_type": "code",
   "execution_count": 24,
   "metadata": {
    "scrolled": true
   },
   "outputs": [
    {
     "data": {
      "text/html": [
       "<div>\n",
       "<table border=\"1\" class=\"dataframe\">\n",
       "  <thead>\n",
       "    <tr style=\"text-align: right;\">\n",
       "      <th></th>\n",
       "      <th>Year</th>\n",
       "      <th>Country</th>\n",
       "      <th>Region</th>\n",
       "      <th>Song language</th>\n",
       "      <th>Artist</th>\n",
       "      <th>Song</th>\n",
       "      <th>English translation</th>\n",
       "      <th>Artist gender</th>\n",
       "      <th>Group/Solo</th>\n",
       "      <th>Place</th>\n",
       "      <th>Points</th>\n",
       "      <th>Host Country</th>\n",
       "      <th>Host region</th>\n",
       "      <th>Home/Away Country</th>\n",
       "      <th>Home/Away Region</th>\n",
       "      <th>Approximate Betting Prices</th>\n",
       "      <th>Scoring Country</th>\n",
       "      <th>Score</th>\n",
       "    </tr>\n",
       "  </thead>\n",
       "  <tbody>\n",
       "    <tr>\n",
       "      <th>0</th>\n",
       "      <td>2008</td>\n",
       "      <td>Romania</td>\n",
       "      <td>Former Socialist Bloc</td>\n",
       "      <td>Romanian, Italian</td>\n",
       "      <td>Nico and Vlad</td>\n",
       "      <td>\"Pe-o margine de lume\"</td>\n",
       "      <td>On an edge of the world</td>\n",
       "      <td>Both</td>\n",
       "      <td>Group</td>\n",
       "      <td>20</td>\n",
       "      <td>45</td>\n",
       "      <td>Serbia</td>\n",
       "      <td>Former Yugoslavia</td>\n",
       "      <td>Away</td>\n",
       "      <td>Away</td>\n",
       "      <td>95</td>\n",
       "      <td>Albania</td>\n",
       "      <td>0</td>\n",
       "    </tr>\n",
       "    <tr>\n",
       "      <th>1</th>\n",
       "      <td>2008</td>\n",
       "      <td>United Kingdom</td>\n",
       "      <td>Independent</td>\n",
       "      <td>English</td>\n",
       "      <td>Andy Abraham</td>\n",
       "      <td>\"Even If\"</td>\n",
       "      <td>?</td>\n",
       "      <td>Male</td>\n",
       "      <td>Solo</td>\n",
       "      <td>25</td>\n",
       "      <td>14</td>\n",
       "      <td>Serbia</td>\n",
       "      <td>Former Yugoslavia</td>\n",
       "      <td>Away</td>\n",
       "      <td>Away</td>\n",
       "      <td>265</td>\n",
       "      <td>Albania</td>\n",
       "      <td>0</td>\n",
       "    </tr>\n",
       "    <tr>\n",
       "      <th>3</th>\n",
       "      <td>2008</td>\n",
       "      <td>Germany</td>\n",
       "      <td>Western Europe</td>\n",
       "      <td>English</td>\n",
       "      <td>No Angels</td>\n",
       "      <td>\"Disappear\"</td>\n",
       "      <td>?</td>\n",
       "      <td>Female</td>\n",
       "      <td>Group</td>\n",
       "      <td>23</td>\n",
       "      <td>14</td>\n",
       "      <td>Serbia</td>\n",
       "      <td>Former Yugoslavia</td>\n",
       "      <td>Away</td>\n",
       "      <td>Away</td>\n",
       "      <td>348</td>\n",
       "      <td>Albania</td>\n",
       "      <td>0</td>\n",
       "    </tr>\n",
       "    <tr>\n",
       "      <th>4</th>\n",
       "      <td>2008</td>\n",
       "      <td>Armenia</td>\n",
       "      <td>Former Socialist Bloc</td>\n",
       "      <td>English, Armenian</td>\n",
       "      <td>Sirusho</td>\n",
       "      <td>\"Ql, Ql\"</td>\n",
       "      <td>Come on, come on</td>\n",
       "      <td>Female</td>\n",
       "      <td>Solo</td>\n",
       "      <td>4</td>\n",
       "      <td>198</td>\n",
       "      <td>Serbia</td>\n",
       "      <td>Former Yugoslavia</td>\n",
       "      <td>Away</td>\n",
       "      <td>Away</td>\n",
       "      <td>14</td>\n",
       "      <td>Albania</td>\n",
       "      <td>2</td>\n",
       "    </tr>\n",
       "    <tr>\n",
       "      <th>5</th>\n",
       "      <td>2008</td>\n",
       "      <td>Bosnia and Herzegovina</td>\n",
       "      <td>Former Yugoslavia</td>\n",
       "      <td>Bosnian</td>\n",
       "      <td>Laka</td>\n",
       "      <td>\"Poku?aj\"</td>\n",
       "      <td>Try</td>\n",
       "      <td>Male</td>\n",
       "      <td>Solo</td>\n",
       "      <td>10</td>\n",
       "      <td>105</td>\n",
       "      <td>Serbia</td>\n",
       "      <td>Former Yugoslavia</td>\n",
       "      <td>Away</td>\n",
       "      <td>Home</td>\n",
       "      <td>29</td>\n",
       "      <td>Albania</td>\n",
       "      <td>0</td>\n",
       "    </tr>\n",
       "  </tbody>\n",
       "</table>\n",
       "</div>"
      ],
      "text/plain": [
       "   Year              Country                    Region      Song language  \\\n",
       "0  2008                 Romania  Former Socialist Bloc  Romanian, Italian   \n",
       "1  2008          United Kingdom            Independent            English   \n",
       "3  2008                 Germany         Western Europe            English   \n",
       "4  2008                 Armenia  Former Socialist Bloc  English, Armenian   \n",
       "5  2008  Bosnia and Herzegovina      Former Yugoslavia            Bosnian   \n",
       "\n",
       "       Artist                    Song        English translation   \\\n",
       "0  Nico and Vlad  \"Pe-o margine de lume\"  On an edge of the world   \n",
       "1   Andy Abraham               \"Even If\"                        ?   \n",
       "3      No Angels             \"Disappear\"                        ?   \n",
       "4        Sirusho            \"Ql, Ql\"         Come on, come on   \n",
       "5           Laka               \"Poku?aj\"                      Try   \n",
       "\n",
       "  Artist gender Group/Solo  Place  Points Host Country        Host region  \\\n",
       "0          Both      Group     20      45       Serbia  Former Yugoslavia   \n",
       "1          Male       Solo     25      14       Serbia  Former Yugoslavia   \n",
       "3        Female      Group     23      14       Serbia  Former Yugoslavia   \n",
       "4        Female       Solo      4     198       Serbia  Former Yugoslavia   \n",
       "5          Male       Solo     10     105       Serbia  Former Yugoslavia   \n",
       "\n",
       "  Home/Away Country Home/Away Region Approximate Betting Prices  \\\n",
       "0              Away             Away                         95   \n",
       "1              Away             Away                        265   \n",
       "3              Away             Away                        348   \n",
       "4              Away             Away                         14   \n",
       "5              Away             Home                         29   \n",
       "\n",
       "  Scoring Country Score  \n",
       "0        Albania      0  \n",
       "1        Albania      0  \n",
       "3        Albania      0  \n",
       "4        Albania      2  \n",
       "5        Albania      0  "
      ]
     },
     "execution_count": 24,
     "metadata": {},
     "output_type": "execute_result"
    }
   ],
   "source": [
    "train_data.head()"
   ]
  },
  {
   "cell_type": "markdown",
   "metadata": {},
   "source": [
    "To try out modeling current problem as an classification problem, scores are casted to classes 0,1,2,3,4,56,7,8,9,10 and 12"
   ]
  },
  {
   "cell_type": "code",
   "execution_count": 25,
   "metadata": {
    "collapsed": true
   },
   "outputs": [],
   "source": [
    "# get features and lables\n",
    "\n",
    "new_feature_columns = feature_columns + ['Scoring Country']\n",
    "\n",
    "new_label_columns = ['Score']\n",
    "\n",
    "train_data_features = train_data[new_feature_columns]\n",
    "train_data_label = train_data[new_label_columns]\n",
    "\n",
    "test_data_features = test_data[new_feature_columns]\n",
    "\n",
    "eval_data_features = eval_data[new_feature_columns]\n",
    "eval_data_label = eval_data[new_label_columns]"
   ]
  },
  {
   "cell_type": "markdown",
   "metadata": {},
   "source": [
    "** Label Encoding **\n",
    "\n",
    "As neural network takes only numeric values as inputs, encode all categorical lables.\n",
    "\n",
    "** Columns considered: **\n",
    "\n",
    "\n",
    "'Year', 'Country   ', 'Region', 'Song language', 'Artist   ', 'Song   ',\n",
    "       'English translation ', 'Artist gender', 'Group/Solo', \n",
    "       'Host Country', 'Host region', 'Home/Away Country',\n",
    "       'Home/Away Region'"
   ]
  },
  {
   "cell_type": "code",
   "execution_count": 26,
   "metadata": {
    "collapsed": true
   },
   "outputs": [],
   "source": [
    "from sklearn.preprocessing import LabelEncoder\n",
    "from sklearn.pipeline import Pipeline\n",
    "\n",
    "\n",
    "class MultiColumnLabelEncoder:\n",
    "    def __init__(self,columns = None):\n",
    "        self.columns = columns # array of column names to encode\n",
    "\n",
    "    def fit(self,X,y=None):\n",
    "        return self # not relevant here\n",
    "\n",
    "    def transform(self,X):\n",
    "        '''\n",
    "        Transforms columns of X specified in self.columns using\n",
    "        LabelEncoder(). If no columns specified, transforms all\n",
    "        columns in X.\n",
    "        '''\n",
    "        output = X.copy()\n",
    "        if self.columns is not None:\n",
    "            for col in self.columns:\n",
    "                output[col] = LabelEncoder().fit_transform(output[col])\n",
    "        else:\n",
    "            for colname,col in output.iteritems():\n",
    "                output[colname] = LabelEncoder().fit_transform(col)\n",
    "        return output\n",
    "\n",
    "    def fit_transform(self,X,y=None):\n",
    "        return self.fit(X,y).transform(X)"
   ]
  },
  {
   "cell_type": "code",
   "execution_count": 27,
   "metadata": {
    "collapsed": true
   },
   "outputs": [],
   "source": [
    "def label_encode(data1,data2):\n",
    "    \n",
    "    print('shape of data1: ' + str(data1.shape))\n",
    "    print('shape of data2: ' + str(data2.shape))\n",
    "    \n",
    "    feature_data = pd.concat([data1,data2])\n",
    "    \n",
    "    print('shape of complete_data: ' + str(feature_data.shape))\n",
    "    \n",
    "    encoded_data = MultiColumnLabelEncoder(['Year', 'Country   ','Region', 'Song language', 'Artist   ', 'Song   ',\n",
    "                         'English translation ', 'Artist gender', 'Group/Solo','Host Country',\n",
    "                         'Host region', 'Home/Away Country',\n",
    "                         'Home/Away Region','Scoring Country']).fit_transform(feature_data)\n",
    "    \n",
    "    print('After encoding....')\n",
    "    \n",
    "    print(data1.shape[0])\n",
    "    data1 = encoded_data[:data1.shape[0]]\n",
    "    data2 = encoded_data[data1.shape[0]:data1.shape[0]+data2.shape[0]]\n",
    "    \n",
    "    print('shape of data1: ' + str(data1.shape))\n",
    "    print('shape of data2: ' + str(data2.shape))\n",
    "    \n",
    "    return data1,data2"
   ]
  },
  {
   "cell_type": "code",
   "execution_count": 28,
   "metadata": {},
   "outputs": [
    {
     "name": "stdout",
     "output_type": "stream",
     "text": [
      "shape of data1: (8040, 17)\n",
      "shape of data2: (1025, 17)\n",
      "shape of complete_data: (9065, 17)\n",
      "After encoding....\n",
      "8040\n",
      "shape of data1: (8040, 17)\n",
      "shape of data2: (1025, 17)\n"
     ]
    }
   ],
   "source": [
    "(train_data_features,eval_data_features) = label_encode(train_data_features,eval_data_features)"
   ]
  },
  {
   "cell_type": "code",
   "execution_count": 29,
   "metadata": {},
   "outputs": [
    {
     "data": {
      "text/html": [
       "<div>\n",
       "<table border=\"1\" class=\"dataframe\">\n",
       "  <thead>\n",
       "    <tr style=\"text-align: right;\">\n",
       "      <th></th>\n",
       "      <th>Year</th>\n",
       "      <th>Country</th>\n",
       "      <th>Region</th>\n",
       "      <th>Song language</th>\n",
       "      <th>Artist</th>\n",
       "      <th>Song</th>\n",
       "      <th>English translation</th>\n",
       "      <th>Artist gender</th>\n",
       "      <th>Group/Solo</th>\n",
       "      <th>Place</th>\n",
       "      <th>Points</th>\n",
       "      <th>Host Country</th>\n",
       "      <th>Host region</th>\n",
       "      <th>Home/Away Country</th>\n",
       "      <th>Home/Away Region</th>\n",
       "      <th>Approximate Betting Prices</th>\n",
       "      <th>Scoring Country</th>\n",
       "    </tr>\n",
       "  </thead>\n",
       "  <tbody>\n",
       "    <tr>\n",
       "      <th>0</th>\n",
       "      <td>10</td>\n",
       "      <td>31</td>\n",
       "      <td>0</td>\n",
       "      <td>56</td>\n",
       "      <td>180</td>\n",
       "      <td>191</td>\n",
       "      <td>76</td>\n",
       "      <td>1</td>\n",
       "      <td>1</td>\n",
       "      <td>20</td>\n",
       "      <td>45</td>\n",
       "      <td>7</td>\n",
       "      <td>1</td>\n",
       "      <td>0</td>\n",
       "      <td>0</td>\n",
       "      <td>95</td>\n",
       "      <td>0</td>\n",
       "    </tr>\n",
       "    <tr>\n",
       "      <th>1</th>\n",
       "      <td>10</td>\n",
       "      <td>42</td>\n",
       "      <td>2</td>\n",
       "      <td>8</td>\n",
       "      <td>13</td>\n",
       "      <td>63</td>\n",
       "      <td>0</td>\n",
       "      <td>3</td>\n",
       "      <td>2</td>\n",
       "      <td>25</td>\n",
       "      <td>14</td>\n",
       "      <td>7</td>\n",
       "      <td>1</td>\n",
       "      <td>0</td>\n",
       "      <td>0</td>\n",
       "      <td>265</td>\n",
       "      <td>0</td>\n",
       "    </tr>\n",
       "    <tr>\n",
       "      <th>3</th>\n",
       "      <td>10</td>\n",
       "      <td>16</td>\n",
       "      <td>4</td>\n",
       "      <td>8</td>\n",
       "      <td>185</td>\n",
       "      <td>47</td>\n",
       "      <td>0</td>\n",
       "      <td>2</td>\n",
       "      <td>1</td>\n",
       "      <td>23</td>\n",
       "      <td>14</td>\n",
       "      <td>7</td>\n",
       "      <td>1</td>\n",
       "      <td>0</td>\n",
       "      <td>0</td>\n",
       "      <td>348</td>\n",
       "      <td>0</td>\n",
       "    </tr>\n",
       "    <tr>\n",
       "      <th>4</th>\n",
       "      <td>10</td>\n",
       "      <td>1</td>\n",
       "      <td>0</td>\n",
       "      <td>10</td>\n",
       "      <td>235</td>\n",
       "      <td>197</td>\n",
       "      <td>16</td>\n",
       "      <td>2</td>\n",
       "      <td>2</td>\n",
       "      <td>4</td>\n",
       "      <td>198</td>\n",
       "      <td>7</td>\n",
       "      <td>1</td>\n",
       "      <td>0</td>\n",
       "      <td>0</td>\n",
       "      <td>14</td>\n",
       "      <td>0</td>\n",
       "    </tr>\n",
       "    <tr>\n",
       "      <th>5</th>\n",
       "      <td>10</td>\n",
       "      <td>6</td>\n",
       "      <td>1</td>\n",
       "      <td>1</td>\n",
       "      <td>125</td>\n",
       "      <td>193</td>\n",
       "      <td>101</td>\n",
       "      <td>3</td>\n",
       "      <td>2</td>\n",
       "      <td>10</td>\n",
       "      <td>105</td>\n",
       "      <td>7</td>\n",
       "      <td>1</td>\n",
       "      <td>0</td>\n",
       "      <td>1</td>\n",
       "      <td>29</td>\n",
       "      <td>0</td>\n",
       "    </tr>\n",
       "  </tbody>\n",
       "</table>\n",
       "</div>"
      ],
      "text/plain": [
       "   Year  Country     Region  Song language  Artist     Song     \\\n",
       "0    10          31       0             56        180      191   \n",
       "1    10          42       2              8         13       63   \n",
       "3    10          16       4              8        185       47   \n",
       "4    10           1       0             10        235      197   \n",
       "5    10           6       1              1        125      193   \n",
       "\n",
       "   English translation   Artist gender  Group/Solo Place  Points  \\\n",
       "0                    76              1           1    20      45   \n",
       "1                     0              3           2    25      14   \n",
       "3                     0              2           1    23      14   \n",
       "4                    16              2           2     4     198   \n",
       "5                   101              3           2    10     105   \n",
       "\n",
       "   Host Country  Host region  Home/Away Country  Home/Away Region  \\\n",
       "0             7            1                  0                 0   \n",
       "1             7            1                  0                 0   \n",
       "3             7            1                  0                 0   \n",
       "4             7            1                  0                 0   \n",
       "5             7            1                  0                 1   \n",
       "\n",
       "  Approximate Betting Prices  Scoring Country  \n",
       "0                         95                0  \n",
       "1                        265                0  \n",
       "3                        348                0  \n",
       "4                         14                0  \n",
       "5                         29                0  "
      ]
     },
     "execution_count": 29,
     "metadata": {},
     "output_type": "execute_result"
    }
   ],
   "source": [
    "train_data_features.head()"
   ]
  },
  {
   "cell_type": "markdown",
   "metadata": {},
   "source": [
    "# Neural Network Model - A linear regession model\n",
    "\n",
    "Here problem is modelled as an linear regression problem where we will try to predict score"
   ]
  },
  {
   "cell_type": "code",
   "execution_count": 30,
   "metadata": {},
   "outputs": [
    {
     "name": "stderr",
     "output_type": "stream",
     "text": [
      "Using TensorFlow backend.\n"
     ]
    }
   ],
   "source": [
    "#import keras packages \n",
    "\n",
    "from keras.models import Sequential\n",
    "from keras.layers import Dense, Activation, Dropout"
   ]
  },
  {
   "cell_type": "markdown",
   "metadata": {},
   "source": [
    "To train model following columns are dropped\n",
    "\n",
    " - Year: As it is not relavent while prediction\n",
    " - Point and place: As both wont be availible for prediction\n"
   ]
  },
  {
   "cell_type": "code",
   "execution_count": 31,
   "metadata": {
    "collapsed": true
   },
   "outputs": [],
   "source": [
    "#feature coulmns to consider for train\n",
    "\n",
    "features = ['Country   ', 'Region', 'Song language', 'Artist   ', 'Song   ',\n",
    "       'English translation ', 'Artist gender', 'Group/Solo','Host Country', 'Host region', 'Home/Away Country',\n",
    "       'Home/Away Region', 'Approximate Betting Prices','Scoring Country']\n",
    "\n",
    "labels = ['Score']"
   ]
  },
  {
   "cell_type": "code",
   "execution_count": 32,
   "metadata": {
    "collapsed": true
   },
   "outputs": [],
   "source": [
    "#convert pandas dataframe to numpy array\n",
    "train_x = train_data_features[features].as_matrix(columns=None)\n",
    "train_y = train_data_label[labels].as_matrix(columns=None)\n",
    "\n",
    "test_x  = eval_data_features[features].as_matrix(columns=None)\n",
    "test_y = eval_data_label[labels].as_matrix(columns=None)"
   ]
  },
  {
   "cell_type": "markdown",
   "metadata": {},
   "source": [
    "One short come of linear regression approach is, it will predict score linearly.\n",
    "\n",
    "But in reality, only one team can get score 1 to 12 each from a country. So to bring this into model, after training, based on highest to lowest score, countries are awarded 12 to 1 each and reaming 0."
   ]
  },
  {
   "cell_type": "code",
   "execution_count": 41,
   "metadata": {
    "collapsed": true
   },
   "outputs": [],
   "source": [
    "# funtion to predict actual score after train\n",
    "\n",
    "from itertools import chain\n",
    "\n",
    "\n",
    "def scale_score(scores):\n",
    "    \n",
    "    scores = scores.tolist()\n",
    "    \n",
    "    possible_scores = [12.0,10.0,8.0,7.0,6.0,5.0,4.0,3.0,2.0,1.0,0.0]\n",
    "    \n",
    "    sorted_scores = sorted(scores,reverse=True)\n",
    "    \n",
    "    new_score = [0] * len(scores)\n",
    "    \n",
    "    for i,score in enumerate(sorted_scores):\n",
    "        if i <= 10:\n",
    "            new_score[scores.index(score)] = possible_scores[i]\n",
    "        else:\n",
    "            new_score[scores.index(score)] = 0\n",
    "    \n",
    "    return new_score\n",
    "\n",
    "def predict_actual_score(predicted_scores,actual_scores):\n",
    "    \n",
    "    no_of_country = 25\n",
    "    \n",
    "    absolute_error = []\n",
    "    predicted_actual_score = []\n",
    "    \n",
    "    actual_scores = list(chain(*actual_scores))\n",
    "    \n",
    "    \n",
    "    for i in range(0,len(predicted_scores),no_of_country):\n",
    "        predicted_country_score =  scale_score(predicted_scores[i:i + no_of_country])\n",
    "        actual_country_score = actual_scores[i:i + no_of_country]\n",
    "        \n",
    "        \n",
    "        predicted_country_score = np.array(predicted_country_score)\n",
    "        actual_country_score = np.array(actual_country_score)\n",
    "        \n",
    "        predicted_actual_score.extend(predicted_country_score)\n",
    "        \n",
    "        temp = np.sum(np.abs(np.subtract(predicted_country_score , actual_country_score)))\n",
    "        \n",
    "        \n",
    "        absolute_error.extend([temp])\n",
    "        \n",
    "    \n",
    "    print(\"Total absolute error : %s \"% sum(absolute_error))\n",
    "    \n",
    "    return predicted_actual_score,sum(absolute_error)"
   ]
  },
  {
   "cell_type": "code",
   "execution_count": 42,
   "metadata": {
    "collapsed": true
   },
   "outputs": [],
   "source": [
    "#Build keras model\n",
    "model = Sequential()\n",
    "model.add(Dense(units=14, input_dim=14,kernel_initializer='random_uniform'))\n",
    "model.add(Activation('relu'))\n",
    "model.add(Dense(units=1))\n",
    "model.add(Activation('relu'))"
   ]
  },
  {
   "cell_type": "code",
   "execution_count": 43,
   "metadata": {
    "collapsed": true
   },
   "outputs": [],
   "source": [
    "model.compile(loss='mean_squared_error',\n",
    "              optimizer='adam')"
   ]
  },
  {
   "cell_type": "code",
   "execution_count": 44,
   "metadata": {},
   "outputs": [
    {
     "name": "stdout",
     "output_type": "stream",
     "text": [
      "_________________________________________________________________\n",
      "Layer (type)                 Output Shape              Param #   \n",
      "=================================================================\n",
      "dense_3 (Dense)              (None, 14)                210       \n",
      "_________________________________________________________________\n",
      "activation_3 (Activation)    (None, 14)                0         \n",
      "_________________________________________________________________\n",
      "dense_4 (Dense)              (None, 1)                 15        \n",
      "_________________________________________________________________\n",
      "activation_4 (Activation)    (None, 1)                 0         \n",
      "=================================================================\n",
      "Total params: 225\n",
      "Trainable params: 225\n",
      "Non-trainable params: 0\n",
      "_________________________________________________________________\n"
     ]
    }
   ],
   "source": [
    "model.summary()"
   ]
  },
  {
   "cell_type": "code",
   "execution_count": 45,
   "metadata": {
    "scrolled": true
   },
   "outputs": [
    {
     "name": "stderr",
     "output_type": "stream",
     "text": [
      "/opt/conda/lib/python3.5/site-packages/keras/backend/tensorflow_backend.py:2252: UserWarning: Expected no kwargs, you passed 1\n",
      "kwargs passed to function are ignored with Tensorflow backend\n",
      "  warnings.warn('\\n'.join(msg))\n"
     ]
    },
    {
     "name": "stdout",
     "output_type": "stream",
     "text": [
      "Epoch 1/30\n",
      "0s - loss: 13.2112\n",
      "Epoch 2/30\n",
      "0s - loss: 12.3445\n",
      "Epoch 3/30\n",
      "0s - loss: 12.0774\n",
      "Epoch 4/30\n",
      "0s - loss: 12.0204\n",
      "Epoch 5/30\n",
      "0s - loss: 11.9048\n",
      "Epoch 6/30\n",
      "0s - loss: 11.7420\n",
      "Epoch 7/30\n",
      "0s - loss: 11.7619\n",
      "Epoch 8/30\n",
      "0s - loss: 11.7038\n",
      "Epoch 9/30\n",
      "0s - loss: 11.6241\n",
      "Epoch 10/30\n",
      "0s - loss: 11.6058\n",
      "Epoch 11/30\n",
      "0s - loss: 11.5827\n",
      "Epoch 12/30\n",
      "0s - loss: 11.6051\n",
      "Epoch 13/30\n",
      "0s - loss: 11.4934\n",
      "Epoch 14/30\n",
      "0s - loss: 11.4870\n",
      "Epoch 15/30\n",
      "0s - loss: 11.3869\n",
      "Epoch 16/30\n",
      "0s - loss: 11.4038\n",
      "Epoch 17/30\n",
      "0s - loss: 11.2793\n",
      "Epoch 18/30\n",
      "0s - loss: 11.2726\n",
      "Epoch 19/30\n",
      "0s - loss: 11.2866\n",
      "Epoch 20/30\n",
      "0s - loss: 11.2671\n",
      "Epoch 21/30\n",
      "0s - loss: 11.2341\n",
      "Epoch 22/30\n",
      "0s - loss: 11.1683\n",
      "Epoch 23/30\n",
      "0s - loss: 11.1011\n",
      "Epoch 24/30\n",
      "0s - loss: 11.1122\n",
      "Epoch 25/30\n",
      "0s - loss: 11.0997\n",
      "Epoch 26/30\n",
      "0s - loss: 11.1167\n",
      "Epoch 27/30\n",
      "0s - loss: 11.0625\n",
      "Epoch 28/30\n",
      "0s - loss: 11.0943\n",
      "Epoch 29/30\n",
      "0s - loss: 10.9769\n",
      "Epoch 30/30\n",
      "0s - loss: 10.9969\n"
     ]
    }
   ],
   "source": [
    "history = model.fit(train_x, train_y, epochs=30, batch_size=16,verbose = 2,shuffle = True)"
   ]
  },
  {
   "cell_type": "markdown",
   "metadata": {},
   "source": [
    "### Results"
   ]
  },
  {
   "cell_type": "code",
   "execution_count": 46,
   "metadata": {},
   "outputs": [
    {
     "name": "stderr",
     "output_type": "stream",
     "text": [
      "/opt/conda/lib/python3.5/site-packages/keras/backend/tensorflow_backend.py:2252: UserWarning: Expected no kwargs, you passed 1\n",
      "kwargs passed to function are ignored with Tensorflow backend\n",
      "  warnings.warn('\\n'.join(msg))\n"
     ]
    },
    {
     "data": {
      "text/plain": [
       "10.386084901646869"
      ]
     },
     "execution_count": 46,
     "metadata": {},
     "output_type": "execute_result"
    }
   ],
   "source": [
    "model.evaluate(test_x,test_y,verbose = 2)"
   ]
  },
  {
   "cell_type": "code",
   "execution_count": 47,
   "metadata": {},
   "outputs": [
    {
     "name": "stdout",
     "output_type": "stream",
     "text": [
      "Total absolute error : 2512.0 \n"
     ]
    },
    {
     "name": "stderr",
     "output_type": "stream",
     "text": [
      "/opt/conda/lib/python3.5/site-packages/keras/backend/tensorflow_backend.py:2252: UserWarning: Expected no kwargs, you passed 1\n",
      "kwargs passed to function are ignored with Tensorflow backend\n",
      "  warnings.warn('\\n'.join(msg))\n"
     ]
    }
   ],
   "source": [
    "predicted_actual_score,absolute_error = predict_actual_score(model.predict(test_x),test_y)"
   ]
  },
  {
   "cell_type": "code",
   "execution_count": 48,
   "metadata": {
    "scrolled": true
   },
   "outputs": [
    {
     "data": {
      "image/png": "[encoded data removed]",
      "text/plain": [
       "<matplotlib.figure.Figure at 0x7f62446a6470>"
      ]
     },
     "metadata": {},
     "output_type": "display_data"
    }
   ],
   "source": [
    "import matplotlib.pyplot as plt\n",
    "\n",
    "# summarize history for loss\n",
    "plt.plot(history.history['loss'])\n",
    "plt.title('model loss')\n",
    "plt.ylabel('loss')\n",
    "plt.xlabel('epoch')\n",
    "plt.legend(['train', 'test'], loc='upper left')\n",
    "plt.show()"
   ]
  },
  {
   "cell_type": "markdown",
   "metadata": {
    "collapsed": true
   },
   "source": [
    "** Few observations **\n",
    "\n",
    " - Sometime model reaches local minima and perform worse. Rerunning fix the problem\n",
    " - Using more epoch is resulting in overfitting and increase abosulte error"
   ]
  },
  {
   "cell_type": "code",
   "execution_count": null,
   "metadata": {
    "collapsed": true
   },
   "outputs": [],
   "source": []
  }
 ],
 "metadata": {
  "kernelspec": {
   "display_name": "Python 3",
   "language": "python",
   "name": "python3"
  },
  "language_info": {
   "codemirror_mode": {
    "name": "ipython",
    "version": 3
   },
   "file_extension": ".py",
   "mimetype": "text/x-python",
   "name": "python",
   "nbconvert_exporter": "python",
   "pygments_lexer": "ipython3",
   "version": "3.5.2"
  }
 },
 "nbformat": 4,
 "nbformat_minor": 2
}
