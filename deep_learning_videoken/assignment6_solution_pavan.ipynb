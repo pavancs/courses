{
 "cells": [
  {
   "cell_type": "markdown",
   "metadata": {},
   "source": [
    "# Assignment 6\n",
    "\n",
    "Over 100 million people visit Quora every month, so it's no surprise that many people ask similarly worded questions. Multiple questions with the same intent can cause seekers to spend more time finding the best answer to their question, and make writers feel they need to answer multiple versions of the same question. Quora values canonical questions because they provide a better experience to active seekers and writers, and offer more value to both of these groups in the long term.\n",
    "\n",
    "In this assignment will be trying to identify similar question using deep learning models\n",
    "\n",
    "https://www.kaggle.com/c/quora-question-pairs"
   ]
  },
  {
   "cell_type": "markdown",
   "metadata": {},
   "source": [
    "** Observation **\n",
    "\n",
    "- To create baseline, cosine similarity using glove vectors between questions are computed to create a classifier which resulted in 56%.\n",
    "- Also in baseline, how well same question (label - 1) are abserved\n",
    "\n",
    "- To models were implemeted:\n",
    "    - Model 1: model to compute similarity with hinge loss\n",
    "    - Model 2: model as binary classification problem\n",
    "    \n",
    "- Both the models performed better than baseline model\n",
    "- Model 2 as binary classification problem performed significantly better than the other with accuary of 70%\n",
    "- Model 1 resulted in accuarcy of 59%"
   ]
  },
  {
   "cell_type": "code",
   "execution_count": 280,
   "metadata": {
    "collapsed": true
   },
   "outputs": [],
   "source": [
    "# import libraries\n",
    "\n",
    "import numpy as np\n",
    "import pandas as pd\n",
    "\n",
    "from collections import Counter\n",
    "import codecs\n",
    "\n",
    "import matplotlib.pyplot as plt"
   ]
  },
  {
   "cell_type": "code",
   "execution_count": 7,
   "metadata": {},
   "outputs": [],
   "source": [
    "# load data\n",
    "\n",
    "train_data = pd.read_csv(\"data/train.csv\",index_col=0)\n",
    "test_data = pd.read_csv(\"data/test_withlabels.csv\",index_col=0)"
   ]
  },
  {
   "cell_type": "code",
   "execution_count": 10,
   "metadata": {},
   "outputs": [
    {
     "data": {
      "text/html": [
       "<div>\n",
       "<table border=\"1\" class=\"dataframe\">\n",
       "  <thead>\n",
       "    <tr style=\"text-align: right;\">\n",
       "      <th></th>\n",
       "      <th>qid1</th>\n",
       "      <th>qid2</th>\n",
       "      <th>question1</th>\n",
       "      <th>question2</th>\n",
       "      <th>is_duplicate</th>\n",
       "    </tr>\n",
       "    <tr>\n",
       "      <th>id</th>\n",
       "      <th></th>\n",
       "      <th></th>\n",
       "      <th></th>\n",
       "      <th></th>\n",
       "      <th></th>\n",
       "    </tr>\n",
       "  </thead>\n",
       "  <tbody>\n",
       "    <tr>\n",
       "      <th>0</th>\n",
       "      <td>1</td>\n",
       "      <td>2</td>\n",
       "      <td>What is the step by step guide to invest in sh...</td>\n",
       "      <td>What is the step by step guide to invest in sh...</td>\n",
       "      <td>0</td>\n",
       "    </tr>\n",
       "    <tr>\n",
       "      <th>1</th>\n",
       "      <td>3</td>\n",
       "      <td>4</td>\n",
       "      <td>What is the story of Kohinoor (Koh-i-Noor) Dia...</td>\n",
       "      <td>What would happen if the Indian government sto...</td>\n",
       "      <td>0</td>\n",
       "    </tr>\n",
       "    <tr>\n",
       "      <th>2</th>\n",
       "      <td>5</td>\n",
       "      <td>6</td>\n",
       "      <td>How can I increase the speed of my internet co...</td>\n",
       "      <td>How can Internet speed be increased by hacking...</td>\n",
       "      <td>0</td>\n",
       "    </tr>\n",
       "    <tr>\n",
       "      <th>3</th>\n",
       "      <td>7</td>\n",
       "      <td>8</td>\n",
       "      <td>Why am I mentally very lonely? How can I solve...</td>\n",
       "      <td>Find the remainder when [math]23^{24}[/math] i...</td>\n",
       "      <td>0</td>\n",
       "    </tr>\n",
       "    <tr>\n",
       "      <th>4</th>\n",
       "      <td>9</td>\n",
       "      <td>10</td>\n",
       "      <td>Which one dissolve in water quikly sugar, salt...</td>\n",
       "      <td>Which fish would survive in salt water?</td>\n",
       "      <td>0</td>\n",
       "    </tr>\n",
       "  </tbody>\n",
       "</table>\n",
       "</div>"
      ],
      "text/plain": [
       "    qid1  qid2                                          question1  \\\n",
       "id                                                                  \n",
       "0      1     2  What is the step by step guide to invest in sh...   \n",
       "1      3     4  What is the story of Kohinoor (Koh-i-Noor) Dia...   \n",
       "2      5     6  How can I increase the speed of my internet co...   \n",
       "3      7     8  Why am I mentally very lonely? How can I solve...   \n",
       "4      9    10  Which one dissolve in water quikly sugar, salt...   \n",
       "\n",
       "                                            question2  is_duplicate  \n",
       "id                                                                   \n",
       "0   What is the step by step guide to invest in sh...             0  \n",
       "1   What would happen if the Indian government sto...             0  \n",
       "2   How can Internet speed be increased by hacking...             0  \n",
       "3   Find the remainder when [math]23^{24}[/math] i...             0  \n",
       "4             Which fish would survive in salt water?             0  "
      ]
     },
     "execution_count": 10,
     "metadata": {},
     "output_type": "execute_result"
    }
   ],
   "source": [
    "train_data.head()"
   ]
  },
  {
   "cell_type": "code",
   "execution_count": 11,
   "metadata": {},
   "outputs": [
    {
     "data": {
      "text/html": [
       "<div>\n",
       "<table border=\"1\" class=\"dataframe\">\n",
       "  <thead>\n",
       "    <tr style=\"text-align: right;\">\n",
       "      <th></th>\n",
       "      <th>qid1</th>\n",
       "      <th>qid2</th>\n",
       "      <th>question1</th>\n",
       "      <th>question2</th>\n",
       "      <th>is_duplicate</th>\n",
       "    </tr>\n",
       "    <tr>\n",
       "      <th>id</th>\n",
       "      <th></th>\n",
       "      <th></th>\n",
       "      <th></th>\n",
       "      <th></th>\n",
       "      <th></th>\n",
       "    </tr>\n",
       "  </thead>\n",
       "  <tbody>\n",
       "    <tr>\n",
       "      <th>403289</th>\n",
       "      <td>38530</td>\n",
       "      <td>375619</td>\n",
       "      <td>Can I still send direct message to someone who...</td>\n",
       "      <td>If you block someone on instagram can they sti...</td>\n",
       "      <td>0</td>\n",
       "    </tr>\n",
       "    <tr>\n",
       "      <th>403290</th>\n",
       "      <td>46732</td>\n",
       "      <td>356261</td>\n",
       "      <td>Is it ethical to list a minority race during c...</td>\n",
       "      <td>I ran a 8:45 for a 3 km when I was 16 years ol...</td>\n",
       "      <td>0</td>\n",
       "    </tr>\n",
       "    <tr>\n",
       "      <th>403291</th>\n",
       "      <td>206897</td>\n",
       "      <td>21086</td>\n",
       "      <td>Which app is the best educational app?</td>\n",
       "      <td>What are the best educational apps for Android...</td>\n",
       "      <td>1</td>\n",
       "    </tr>\n",
       "    <tr>\n",
       "      <th>403292</th>\n",
       "      <td>536858</td>\n",
       "      <td>536859</td>\n",
       "      <td>How are resources allocated in a market econom...</td>\n",
       "      <td>In a free market economy, how are resources al...</td>\n",
       "      <td>0</td>\n",
       "    </tr>\n",
       "    <tr>\n",
       "      <th>403293</th>\n",
       "      <td>464296</td>\n",
       "      <td>536860</td>\n",
       "      <td>Is India still a British dominion?</td>\n",
       "      <td>What is the difference between dependence, dom...</td>\n",
       "      <td>0</td>\n",
       "    </tr>\n",
       "  </tbody>\n",
       "</table>\n",
       "</div>"
      ],
      "text/plain": [
       "          qid1    qid2                                          question1  \\\n",
       "id                                                                          \n",
       "403289   38530  375619  Can I still send direct message to someone who...   \n",
       "403290   46732  356261  Is it ethical to list a minority race during c...   \n",
       "403291  206897   21086             Which app is the best educational app?   \n",
       "403292  536858  536859  How are resources allocated in a market econom...   \n",
       "403293  464296  536860                 Is India still a British dominion?   \n",
       "\n",
       "                                                question2  is_duplicate  \n",
       "id                                                                       \n",
       "403289  If you block someone on instagram can they sti...             0  \n",
       "403290  I ran a 8:45 for a 3 km when I was 16 years ol...             0  \n",
       "403291  What are the best educational apps for Android...             1  \n",
       "403292  In a free market economy, how are resources al...             0  \n",
       "403293  What is the difference between dependence, dom...             0  "
      ]
     },
     "execution_count": 11,
     "metadata": {},
     "output_type": "execute_result"
    }
   ],
   "source": [
    "test_data.head()"
   ]
  },
  {
   "cell_type": "markdown",
   "metadata": {},
   "source": [
    "## Preprocess data\n",
    "\n",
    "Note:  For word embedding, pretrained glove embedding are used of dimension 100"
   ]
  },
  {
   "cell_type": "code",
   "execution_count": 93,
   "metadata": {
    "collapsed": true
   },
   "outputs": [],
   "source": [
    "# function to clean data\n",
    "\n",
    "def preprocess_data(text, to_lower = True):\n",
    "    \n",
    "    symbols = \"! @ # $ % ^ & * ( ) _ - + = { } [ ] ; : \\\" \\' < > / ? . , \\\\\".split()\n",
    "    \n",
    "    for symbol in symbols:\n",
    "        text = text.replace(symbol, \" \" + symbol + \" \")\n",
    "        \n",
    "    if (to_lower):\n",
    "        text = text.lower()\n",
    "    \n",
    "    return text"
   ]
  },
  {
   "cell_type": "code",
   "execution_count": 94,
   "metadata": {},
   "outputs": [],
   "source": [
    "train_question1 = []\n",
    "train_question2 = []\n",
    "train_label = []\n",
    "\n",
    "\n",
    "for question in train_data.iloc[:,2]:\n",
    "    train_question1.append(preprocess_data(question))\n",
    "    \n",
    "for question in train_data.iloc[:,3]:\n",
    "    train_question2.append(preprocess_data(question))\n",
    "    \n",
    "for label in train_data.iloc[:,4]:\n",
    "    train_label.append(label)"
   ]
  },
  {
   "cell_type": "code",
   "execution_count": 95,
   "metadata": {
    "collapsed": true
   },
   "outputs": [],
   "source": [
    "test_question1 = []\n",
    "test_question2 = []\n",
    "test_label = []\n",
    "\n",
    "\n",
    "for question in test_data.iloc[:,2]:\n",
    "    test_question1.append(preprocess_data(question))\n",
    "    \n",
    "for question in test_data.iloc[:,3]:\n",
    "    test_question2.append(preprocess_data(question))\n",
    "    \n",
    "for label in test_data.iloc[:,4]:\n",
    "    test_label.append(label)"
   ]
  },
  {
   "cell_type": "code",
   "execution_count": 96,
   "metadata": {},
   "outputs": [
    {
     "data": {
      "text/plain": [
       "Counter({1: 18872, 2: 490, 3: 42, 4: 4, 6: 1})"
      ]
     },
     "execution_count": 96,
     "metadata": {},
     "output_type": "execute_result"
    }
   ],
   "source": [
    "#Count same question in dataset\n",
    "\n",
    "count =[value for value in Counter(train_question1 + train_question2).values()]\n",
    "\n",
    "\n",
    "Counter(sorted(count,reverse=True))"
   ]
  },
  {
   "cell_type": "code",
   "execution_count": 108,
   "metadata": {
    "collapsed": true
   },
   "outputs": [],
   "source": [
    "# create vocabulary for train and test data\n",
    "\n",
    "def create_vocab(data,vocab = None):\n",
    "    \n",
    "    if vocab is None:\n",
    "        vocab = {\n",
    "            '<none>': 0,\n",
    "            '<unk>': 1\n",
    "        }\n",
    "    else:\n",
    "        vocab = vocab\n",
    "    \n",
    "    def update_vocab(sentence):\n",
    "        for word in sentence.split():\n",
    "            if word in vocab:\n",
    "                continue\n",
    "            vocab[word] = len(vocab)\n",
    "    \n",
    "    for sent in data:\n",
    "            update_vocab(sent)\n",
    "    \n",
    "    return vocab\n"
   ]
  },
  {
   "cell_type": "code",
   "execution_count": 109,
   "metadata": {},
   "outputs": [
    {
     "name": "stdout",
     "output_type": "stream",
     "text": [
      "Vocabulary len: 16030\n"
     ]
    }
   ],
   "source": [
    "vocab = create_vocab(train_question1)\n",
    "vocab = create_vocab(train_question2,vocab)\n",
    "vocab = create_vocab(test_question1,vocab)\n",
    "vocab = create_vocab(test_question2,vocab)\n",
    "\n",
    "print(\"Vocabulary len: \" + str(len(vocab)))"
   ]
  },
  {
   "cell_type": "markdown",
   "metadata": {},
   "source": [
    "** Embed word using glove vectors **"
   ]
  },
  {
   "cell_type": "code",
   "execution_count": 110,
   "metadata": {
    "collapsed": true
   },
   "outputs": [],
   "source": [
    "embedding_dim = 100"
   ]
  },
  {
   "cell_type": "code",
   "execution_count": 111,
   "metadata": {},
   "outputs": [],
   "source": [
    "# prepare embedding data\n",
    "\n",
    "def get_embedding_index():\n",
    "    embeddings_index = {}\n",
    "    f = codecs.open('data/glove.6B.100d.txt',encoding = 'utf-8')\n",
    "    for line in f:\n",
    "        values = line.split()\n",
    "        word = values[0]\n",
    "        coefs = np.asarray(values[1:], dtype='float32')\n",
    "        embeddings_index[word] = coefs\n",
    "    f.close()\n",
    "    \n",
    "    return embeddings_index\n",
    "\n",
    "def get_embedding_matrix(vocab):\n",
    "    \n",
    "    #count out of vocabulary word\n",
    "    oov_count = 0\n",
    "    oov = []\n",
    "    \n",
    "    embedding_matrix = np.zeros((len(vocab), embedding_dim))\n",
    "    \n",
    "    for word in vocab:\n",
    "        wi = vocab[word]\n",
    "        \n",
    "        if word == '<none>':\n",
    "            continue\n",
    "        if word not in glove2vec.keys():\n",
    "            #print('warning: glove OOV', word)\n",
    "            embedding_matrix[wi] = np.array(glove2vec['<unk>'])\n",
    "            oov_count += 1\n",
    "            oov.append(word)\n",
    "        else:\n",
    "            embedding_matrix[wi] = np.array(glove2vec[word])\n",
    "            \n",
    "    \n",
    "    print(\"Vocabulary len: \" + str(len(vocab)))\n",
    "    print(\"Out of Vocabulary len: \" + str(oov_count))\n",
    "    \n",
    "    return embedding_matrix,oov"
   ]
  },
  {
   "cell_type": "code",
   "execution_count": 61,
   "metadata": {},
   "outputs": [],
   "source": [
    "glove2vec = get_embedding_index()\n",
    "glove2vec['<unk>'] = [0] *embedding_dim"
   ]
  },
  {
   "cell_type": "code",
   "execution_count": 112,
   "metadata": {},
   "outputs": [
    {
     "name": "stdout",
     "output_type": "stream",
     "text": [
      "Vocabulary len: 16030\n",
      "Out of Vocabulary len: 1394\n"
     ]
    }
   ],
   "source": [
    "embedding_matrix,oov = get_embedding_matrix(vocab)"
   ]
  },
  {
   "cell_type": "code",
   "execution_count": 113,
   "metadata": {
    "scrolled": true
   },
   "outputs": [
    {
     "data": {
      "text/plain": [
       "['blockchain',\n",
       " 'eatalo',\n",
       " 'illegalise',\n",
       " 'toptal',\n",
       " 'pckure',\n",
       " '1month',\n",
       " 'swtor',\n",
       " 'hadn',\n",
       " 'usmele',\n",
       " '60mg',\n",
       " 'desease',\n",
       " 'freegate',\n",
       " 'c50',\n",
       " '\\u200e',\n",
       " '“your”',\n",
       " 'deuteromycota',\n",
       " 'coolairshoes',\n",
       " 'm335',\n",
       " 'xb450',\n",
       " 'a547',\n",
       " '40℅',\n",
       " 'begginers',\n",
       " 'asvab',\n",
       " 'trevo',\n",
       " '“like”',\n",
       " 'angellist',\n",
       " 'venturimeter',\n",
       " 'contenvania',\n",
       " 'crypt8',\n",
       " '16800mah',\n",
       " 'india’s',\n",
       " 'aiiims',\n",
       " 'vssut',\n",
       " '000k',\n",
       " 'laaltain',\n",
       " 'upsee',\n",
       " 'cums',\n",
       " 'bsit',\n",
       " 'sqrt',\n",
       " 'dergree',\n",
       " 'qur’an',\n",
       " 'zhì',\n",
       " '“ذليل”',\n",
       " 'doxes',\n",
       " 'languates',\n",
       " 'counciling',\n",
       " 'upwork',\n",
       " 'student？',\n",
       " 'bootcamps',\n",
       " 'passout',\n",
       " 'five5r',\n",
       " 'unfollowed',\n",
       " 'trello',\n",
       " 'trunp',\n",
       " 'a6600',\n",
       " 'wwll',\n",
       " 'soonfor',\n",
       " 'pessat',\n",
       " 'accoustic',\n",
       " '1800mhz',\n",
       " 'excerted',\n",
       " 'xerosis',\n",
       " 'blackfyre',\n",
       " 'malkova',\n",
       " 'emoji',\n",
       " 'manaphy',\n",
       " 'hauntingme',\n",
       " 'featue',\n",
       " 'cibil',\n",
       " 'kedavra',\n",
       " 'jmeter',\n",
       " 'tunak',\n",
       " 'barvaria',\n",
       " 'transcendentals',\n",
       " 'officejet',\n",
       " 'containg',\n",
       " 'unfollow',\n",
       " '30am',\n",
       " 'punreal',\n",
       " 'paluvai',\n",
       " 'unremoved',\n",
       " 'byju',\n",
       " '1z0',\n",
       " 'ntse',\n",
       " 'iitans',\n",
       " 'indirectaly',\n",
       " 'kalyug',\n",
       " 'unfollows',\n",
       " 'gymming',\n",
       " 'councelling',\n",
       " '8440p',\n",
       " '11years',\n",
       " 'hirudaya',\n",
       " 'wechat',\n",
       " 'shorthands',\n",
       " 'alottt',\n",
       " 'sibm',\n",
       " 'comming',\n",
       " '9years',\n",
       " '\\u202acompany\\u202c']"
      ]
     },
     "execution_count": 113,
     "metadata": {},
     "output_type": "execute_result"
    }
   ],
   "source": [
    "oov[:100]"
   ]
  },
  {
   "cell_type": "markdown",
   "metadata": {},
   "source": [
    "** Baseline accuaracy of classification using cosine similarity **\n",
    "\n",
    "Approach: compute average vector representation of sentence and then compute cosine similarity to classify\n"
   ]
  },
  {
   "cell_type": "code",
   "execution_count": 114,
   "metadata": {
    "collapsed": true
   },
   "outputs": [],
   "source": [
    "from sklearn.metrics.pairwise import cosine_similarity\n",
    "\n",
    "def cosine_distance(w1,w2):\n",
    "    return cosine_similarity(w1,w2)[0][0]"
   ]
  },
  {
   "cell_type": "code",
   "execution_count": 115,
   "metadata": {
    "collapsed": true
   },
   "outputs": [],
   "source": [
    "def vectors(sentence):\n",
    "    \n",
    "    #get weighted glove word vector\n",
    "    \n",
    "    vector = np.zeros((1,100)) \n",
    "    \n",
    "    words = sentence.split()\n",
    "    \n",
    "    count = 0\n",
    "    for word in words:\n",
    "        count += 1\n",
    "        vector = vector +  embedding_matrix[vocab[word]]\n",
    "    \n",
    "    vector = vector/count\n",
    "    \n",
    "    \n",
    "    return vector"
   ]
  },
  {
   "cell_type": "code",
   "execution_count": 116,
   "metadata": {},
   "outputs": [],
   "source": [
    "train_cos_sim = []\n",
    "test_cos_sim = []\n",
    "\n",
    "for ques1,ques2 in zip(train_question1,train_question2):\n",
    "    train_cos_sim.append(cosine_distance(vectors(ques1),vectors(ques2)))\n",
    "\n",
    "for ques1,ques2 in zip(test_question1,test_question2):\n",
    "    test_cos_sim.append(cosine_distance(vectors(ques1),vectors(ques2)))"
   ]
  },
  {
   "cell_type": "code",
   "execution_count": 127,
   "metadata": {
    "collapsed": true
   },
   "outputs": [],
   "source": [
    "from sklearn import tree\n",
    "\n",
    "clf = tree.DecisionTreeClassifier()\n",
    "clf = clf.fit(pd.DataFrame(train_cos_sim), pd.DataFrame(train_label))"
   ]
  },
  {
   "cell_type": "code",
   "execution_count": 138,
   "metadata": {
    "collapsed": true
   },
   "outputs": [],
   "source": [
    "y_pred = clf.predict(pd.DataFrame(test_cos_sim))"
   ]
  },
  {
   "cell_type": "code",
   "execution_count": 144,
   "metadata": {},
   "outputs": [
    {
     "name": "stdout",
     "output_type": "stream",
     "text": [
      "1000\n",
      "322\n",
      "376\n"
     ]
    }
   ],
   "source": [
    "# positive prediction\n",
    "print(len(test_label))\n",
    "print(sum(test_label))\n",
    "print(sum(y_pred))"
   ]
  },
  {
   "cell_type": "code",
   "execution_count": 145,
   "metadata": {},
   "outputs": [
    {
     "name": "stdout",
     "output_type": "stream",
     "text": [
      "Accuracy is  56.2\n"
     ]
    }
   ],
   "source": [
    "from sklearn.metrics import accuracy_score\n",
    "print(\"Accuracy is \", accuracy_score(test_label,y_pred)*100)"
   ]
  },
  {
   "cell_type": "code",
   "execution_count": 149,
   "metadata": {},
   "outputs": [
    {
     "name": "stdout",
     "output_type": "stream",
     "text": [
      "Total number of actual similar question:322\n",
      "Total number of correctly clasified similar question:130\n",
      "Total number of incorrectly clasified similar question:192\n"
     ]
    }
   ],
   "source": [
    "count_true_1 = 0\n",
    "count_false_1 = 0\n",
    "\n",
    "\n",
    "for a,b in zip(test_label,y_pred):\n",
    "    if a == 1:\n",
    "        if b == 1:\n",
    "            count_true_1 += 1\n",
    "        else:\n",
    "            count_false_1 += 1\n",
    "            \n",
    "print(\"Total number of actual similar question:\" + str(sum(test_label)))\n",
    "print(\"Total number of correctly clasified similar question:\" + str(count_true_1))\n",
    "print(\"Total number of incorrectly clasified similar question:\" + str(count_false_1))"
   ]
  },
  {
   "cell_type": "markdown",
   "metadata": {},
   "source": [
    "## Build model"
   ]
  },
  {
   "cell_type": "code",
   "execution_count": 158,
   "metadata": {
    "collapsed": true
   },
   "outputs": [],
   "source": [
    "from keras import backend as K\n",
    "\n",
    "K.set_learning_phase(1) #set learning phase"
   ]
  },
  {
   "cell_type": "code",
   "execution_count": 233,
   "metadata": {},
   "outputs": [],
   "source": [
    "from keras.layers import Embedding, Input, LSTM, Dense, Bidirectional,merge,Reshape, Lambda, Dropout,concatenate, Activation, GRU,add,multiply\n",
    "from keras.layers.pooling import MaxPooling1D\n",
    "from keras.layers.convolutional import Conv1D\n",
    "from keras.models import Sequential, Model\n",
    "from keras import optimizers"
   ]
  },
  {
   "cell_type": "code",
   "execution_count": 151,
   "metadata": {
    "collapsed": true
   },
   "outputs": [],
   "source": [
    "#constants and flags\n",
    "\n",
    "embedding_dim = 100\n",
    "max_len = 100"
   ]
  },
  {
   "cell_type": "code",
   "execution_count": 152,
   "metadata": {
    "collapsed": true
   },
   "outputs": [],
   "source": [
    "def padding(text):\n",
    "    \n",
    "    text_vector = [vocab[word] for word in text.split()]\n",
    "    \n",
    "    if len(text_vector) >= max_len:\n",
    "        text_vector = text_vector[:max_len]\n",
    "    else:\n",
    "        text_vector =  [0] * (max_len - len(text_vector)) + text_vector\n",
    "        \n",
    "    return text_vector "
   ]
  },
  {
   "cell_type": "code",
   "execution_count": 187,
   "metadata": {
    "collapsed": true
   },
   "outputs": [],
   "source": [
    "def hinge_loss(y_true, y_pred):\n",
    "    y_true = y_true * 2 - 1\n",
    "    y_pred = y_pred *2 - 1\n",
    "    \n",
    "    \n",
    "    return K.mean(K.maximum(1. - y_true * y_pred, 0.), axis = -1)\n",
    "\n",
    "def cos_dist_output_shape(shapes):\n",
    "    shape1, shape2 = shapes\n",
    "    return (shape1[0],1)\n",
    "\n",
    "def cos_distance(y):\n",
    "    y_true, y_pred  = y\n",
    "    def l2_normalize(x, axis):\n",
    "        norm = K.sqrt(K.sum(K.square(x), axis=axis, keepdims=True))\n",
    "        return K.sign(x) * K.maximum(K.abs(x), K.epsilon()) / K.maximum(norm, K.epsilon())\n",
    "    y_true = l2_normalize(y_true, axis=-1)\n",
    "    y_pred = l2_normalize(y_pred, axis=-1)\n",
    "    \n",
    "    return K.sum(y_true * y_pred, axis=-1)"
   ]
  },
  {
   "cell_type": "code",
   "execution_count": 154,
   "metadata": {
    "collapsed": true
   },
   "outputs": [],
   "source": [
    "pad_question1_train = np.array([padding(q) for q in train_question1])\n",
    "pad_question2_train = np.array([padding(q) for q in train_question2])\n",
    "\n",
    "pad_question1_test = np.array([padding(q) for q in test_question1])\n",
    "pad_question2_test = np.array([padding(q) for q in test_question2])"
   ]
  },
  {
   "cell_type": "code",
   "execution_count": 168,
   "metadata": {
    "collapsed": true
   },
   "outputs": [],
   "source": [
    "train_label = np.array(train_label)"
   ]
  },
  {
   "cell_type": "code",
   "execution_count": 252,
   "metadata": {
    "collapsed": true
   },
   "outputs": [],
   "source": [
    "embedding_layer = Embedding(len(vocab),\n",
    "                            embedding_dim,\n",
    "                            weights=[embedding_matrix],\n",
    "                            input_length=max_len,\n",
    "                            trainable=False)"
   ]
  },
  {
   "cell_type": "markdown",
   "metadata": {},
   "source": [
    "** try model 1 **"
   ]
  },
  {
   "cell_type": "code",
   "execution_count": 286,
   "metadata": {},
   "outputs": [
    {
     "name": "stdout",
     "output_type": "stream",
     "text": [
      "(?, 100, 100)\n",
      "(?, 128)\n",
      "(?, 127, 500)\n"
     ]
    }
   ],
   "source": [
    "#build model\n",
    "input_question1 = Input(shape=(max_len,))\n",
    "input_question2 = Input(shape=(max_len,))\n",
    "\n",
    "embedded_question1 = embedding_layer(input_question1)\n",
    "embedded_question2 = embedding_layer(input_question2)\n",
    "\n",
    "print(embedded_question1.shape)\n",
    "\n",
    "shared_lstm = Bidirectional(LSTM(64,dropout=0.3))\n",
    "\n",
    "\n",
    "encoded_question1 = shared_lstm(embedded_question1)\n",
    "encoded_question2 = shared_lstm(embedded_question2)\n",
    "\n",
    "print(encoded_question1.shape)\n",
    "\n",
    "cnn_question1 = Conv1D(500,kernel_size = 2)(Reshape((128,1))(encoded_question1))\n",
    "cnn_question2 = Conv1D(500,kernel_size = 2)(Reshape((128,1))(encoded_question2))\n",
    "\n",
    "print(cnn_question1.shape)\n",
    "\n",
    "maxpool_question1 = MaxPooling1D(127)(cnn_question1)\n",
    "maxpool_question2 = MaxPooling1D(127)(cnn_question2)\n",
    "\n",
    "maxpool_question1 = Activation('tanh')(maxpool_question1)\n",
    "maxpool_question2 = Activation('tanh')(maxpool_question2)\n",
    "\n",
    "\n",
    "cos_similarities = Lambda(cos_distance,output_shape=cos_dist_output_shape)([maxpool_question1,maxpool_question2])\n",
    "\n",
    "model = Model([input_question1, input_question2], [cos_similarities])\n",
    "\n",
    "\n",
    "sgd = optimizers.SGD(lr=0.3, momentum=0.8, decay=0.0001, nesterov=False)\n",
    "\n",
    "model.compile('nadam', loss = hinge_loss)"
   ]
  },
  {
   "cell_type": "code",
   "execution_count": 287,
   "metadata": {
    "scrolled": true
   },
   "outputs": [
    {
     "name": "stderr",
     "output_type": "stream",
     "text": [
      "/opt/conda/lib/python3.5/site-packages/keras/backend/tensorflow_backend.py:2252: UserWarning: Expected no kwargs, you passed 1\n",
      "kwargs passed to function are ignored with Tensorflow backend\n",
      "  warnings.warn('\\n'.join(msg))\n"
     ]
    },
    {
     "name": "stdout",
     "output_type": "stream",
     "text": [
      "Train on 9000 samples, validate on 1000 samples\n",
      "Epoch 1/10\n",
      "41s - loss: 0.7758 - val_loss: 0.7625\n",
      "Epoch 2/10\n",
      "31s - loss: 0.7477 - val_loss: 0.7591\n",
      "Epoch 3/10\n",
      "31s - loss: 0.7428 - val_loss: 0.7567\n",
      "Epoch 4/10\n",
      "31s - loss: 0.7323 - val_loss: 0.7241\n",
      "Epoch 5/10\n",
      "31s - loss: 0.6879 - val_loss: 0.7264\n",
      "Epoch 6/10\n",
      "31s - loss: 0.6659 - val_loss: 0.6678\n",
      "Epoch 7/10\n",
      "31s - loss: 0.6457 - val_loss: 0.6378\n",
      "Epoch 8/10\n",
      "31s - loss: 0.6360 - val_loss: 0.6403\n",
      "Epoch 9/10\n",
      "31s - loss: 0.6341 - val_loss: 0.6711\n",
      "Epoch 10/10\n",
      "31s - loss: 0.6217 - val_loss: 0.6178\n"
     ]
    }
   ],
   "source": [
    "history = model.fit([pad_question1_train,pad_question2_train], \n",
    "          [train_label],\n",
    "          epochs=10, verbose=2,batch_size = 128,shuffle = True,validation_split=0.1)"
   ]
  },
  {
   "cell_type": "code",
   "execution_count": 288,
   "metadata": {},
   "outputs": [
    {
     "data": {
      "image/png": "[encoded data removed]",
      "text/plain": [
       "<matplotlib.figure.Figure at 0x7f5947b91f60>"
      ]
     },
     "metadata": {},
     "output_type": "display_data"
    }
   ],
   "source": [
    "# summarize history for loss\n",
    "plt.plot(history.history['loss'])\n",
    "plt.plot(history.history['val_loss'])\n",
    "plt.title('model loss')\n",
    "plt.ylabel('loss')\n",
    "plt.xlabel('epoch')\n",
    "plt.legend(['train', 'test'], loc='upper left')\n",
    "plt.show()"
   ]
  },
  {
   "cell_type": "code",
   "execution_count": 289,
   "metadata": {},
   "outputs": [
    {
     "name": "stderr",
     "output_type": "stream",
     "text": [
      "/opt/conda/lib/python3.5/site-packages/keras/backend/tensorflow_backend.py:2252: UserWarning: Expected no kwargs, you passed 1\n",
      "kwargs passed to function are ignored with Tensorflow backend\n",
      "  warnings.warn('\\n'.join(msg))\n"
     ]
    }
   ],
   "source": [
    "model_1_out_train = model.predict([pad_question1_train,pad_question2_train],verbose=2,batch_size = 128)\n",
    "model_1_out_test = model.predict([pad_question1_test,pad_question2_test],verbose=2,batch_size = 128)"
   ]
  },
  {
   "cell_type": "code",
   "execution_count": 290,
   "metadata": {},
   "outputs": [],
   "source": [
    "clf = tree.DecisionTreeClassifier()\n",
    "clf = clf.fit(pd.DataFrame(model_1_out_train), pd.DataFrame(train_label))\n",
    "y_pred = clf.predict(pd.DataFrame(model_1_out_test))"
   ]
  },
  {
   "cell_type": "code",
   "execution_count": 291,
   "metadata": {},
   "outputs": [
    {
     "name": "stdout",
     "output_type": "stream",
     "text": [
      "Accuracy is  59.4\n"
     ]
    }
   ],
   "source": [
    "from sklearn.metrics import accuracy_score\n",
    "print(\"Accuracy is \", accuracy_score(test_label,y_pred)*100)"
   ]
  },
  {
   "cell_type": "code",
   "execution_count": 292,
   "metadata": {},
   "outputs": [
    {
     "name": "stdout",
     "output_type": "stream",
     "text": [
      "Total number of actual similar question:322\n",
      "Total number of correctly clasified similar question:137\n",
      "Total number of incorrectly clasified similar question:185\n"
     ]
    }
   ],
   "source": [
    "count_true_1 = 0\n",
    "count_false_1 = 0\n",
    "\n",
    "\n",
    "for a,b in zip(test_label,y_pred):\n",
    "    if a == 1:\n",
    "        if b == 1:\n",
    "            count_true_1 += 1\n",
    "        else:\n",
    "            count_false_1 += 1\n",
    "            \n",
    "print(\"Total number of actual similar question:\" + str(sum(test_label)))\n",
    "print(\"Total number of correctly clasified similar question:\" + str(count_true_1))\n",
    "print(\"Total number of incorrectly clasified similar question:\" + str(count_false_1))"
   ]
  },
  {
   "cell_type": "code",
   "execution_count": 307,
   "metadata": {
    "scrolled": true
   },
   "outputs": [
    {
     "name": "stdout",
     "output_type": "stream",
     "text": [
      "Train on 9000 samples, validate on 1000 samples\n",
      "Epoch 1/10\n",
      "31s - loss: 0.6230 - val_loss: 0.6377\n",
      "Epoch 2/10\n",
      "31s - loss: 0.6097 - val_loss: 0.6285\n",
      "Epoch 3/10\n",
      "31s - loss: 0.6034 - val_loss: 0.6106\n",
      "Epoch 4/10\n",
      "31s - loss: 0.5914 - val_loss: 0.6785\n",
      "Epoch 5/10\n",
      "31s - loss: 0.5898 - val_loss: 0.6161\n",
      "Epoch 6/10\n",
      "31s - loss: 0.5846 - val_loss: 0.6139\n",
      "Epoch 7/10\n",
      "30s - loss: 0.5856 - val_loss: 0.5995\n",
      "Epoch 8/10\n",
      "30s - loss: 0.5742 - val_loss: 0.6098\n",
      "Epoch 9/10\n",
      "31s - loss: 0.5690 - val_loss: 0.6120\n",
      "Epoch 10/10\n",
      "31s - loss: 0.5736 - val_loss: 0.6119\n"
     ]
    }
   ],
   "source": [
    "history = model.fit([pad_question1_train,pad_question2_train], \n",
    "          [train_label],\n",
    "          epochs=10, verbose=2,batch_size = 128,shuffle = True,validation_split=0.1)"
   ]
  },
  {
   "cell_type": "code",
   "execution_count": 318,
   "metadata": {},
   "outputs": [
    {
     "data": {
      "image/png": "[encoded data removed]",
      "text/plain": [
       "<matplotlib.figure.Figure at 0x7f5944689d68>"
      ]
     },
     "metadata": {},
     "output_type": "display_data"
    }
   ],
   "source": [
    "# summarize history for loss\n",
    "plt.plot(history.history['loss'])\n",
    "plt.plot(history.history['val_loss'])\n",
    "plt.title('model loss')\n",
    "plt.ylabel('loss')\n",
    "plt.xlabel('epoch')\n",
    "plt.legend(['train', 'test'], loc='upper left')\n",
    "plt.show()"
   ]
  },
  {
   "cell_type": "code",
   "execution_count": 308,
   "metadata": {
    "collapsed": true
   },
   "outputs": [],
   "source": [
    "model_1_out_train = model.predict([pad_question1_train,pad_question2_train],verbose=2,batch_size = 128)\n",
    "model_1_out_test = model.predict([pad_question1_test,pad_question2_test],verbose=2,batch_size = 128)"
   ]
  },
  {
   "cell_type": "code",
   "execution_count": 309,
   "metadata": {
    "collapsed": true
   },
   "outputs": [],
   "source": [
    "clf = tree.DecisionTreeClassifier()\n",
    "clf = clf.fit(pd.DataFrame(model_1_out_train), pd.DataFrame(train_label))\n",
    "y_pred = clf.predict(pd.DataFrame(model_1_out_test))"
   ]
  },
  {
   "cell_type": "code",
   "execution_count": 310,
   "metadata": {},
   "outputs": [
    {
     "name": "stdout",
     "output_type": "stream",
     "text": [
      "Accuracy is  59.3\n"
     ]
    }
   ],
   "source": [
    "from sklearn.metrics import accuracy_score\n",
    "print(\"Accuracy is \", accuracy_score(test_label,y_pred)*100)"
   ]
  },
  {
   "cell_type": "code",
   "execution_count": 311,
   "metadata": {},
   "outputs": [
    {
     "name": "stdout",
     "output_type": "stream",
     "text": [
      "Total number of actual similar question:322\n",
      "Total number of correctly clasified similar question:139\n",
      "Total number of incorrectly clasified similar question:183\n"
     ]
    }
   ],
   "source": [
    "count_true_1 = 0\n",
    "count_false_1 = 0\n",
    "\n",
    "\n",
    "for a,b in zip(test_label,y_pred):\n",
    "    if a == 1:\n",
    "        if b == 1:\n",
    "            count_true_1 += 1\n",
    "        else:\n",
    "            count_false_1 += 1\n",
    "            \n",
    "print(\"Total number of actual similar question:\" + str(sum(test_label)))\n",
    "print(\"Total number of correctly clasified similar question:\" + str(count_true_1))\n",
    "print(\"Total number of incorrectly clasified similar question:\" + str(count_false_1))"
   ]
  },
  {
   "cell_type": "markdown",
   "metadata": {},
   "source": [
    "**try model 2 **"
   ]
  },
  {
   "cell_type": "code",
   "execution_count": 293,
   "metadata": {},
   "outputs": [
    {
     "name": "stdout",
     "output_type": "stream",
     "text": [
      "(?, 100, 100)\n",
      "(?, 256)\n"
     ]
    }
   ],
   "source": [
    "#build model\n",
    "input_question1 = Input(shape=(max_len,))\n",
    "input_question2 = Input(shape=(max_len,))\n",
    "\n",
    "embedded_question1 = embedding_layer(input_question1)\n",
    "embedded_question2 = embedding_layer(input_question2)\n",
    "\n",
    "print(embedded_question1.shape)\n",
    "\n",
    "shared_lstm = Bidirectional(LSTM(64,dropout=0.2))\n",
    "\n",
    "\n",
    "encoded_question1 = shared_lstm(embedded_question1)\n",
    "encoded_question2 = shared_lstm(embedded_question2)\n",
    "\n",
    "addition = add([encoded_question1,encoded_question2])\n",
    "minus_encoded_question2 = Lambda(lambda x:-x)(encoded_question2)\n",
    "merged = add([encoded_question1,minus_encoded_question2])\n",
    "merged = multiply([merged,merged])\n",
    "\n",
    "merged = concatenate([merged, addition])\n",
    "merged = Dropout(0.4)(merged)\n",
    "\n",
    "print(merged.shape)\n",
    "\n",
    "#dense_layer = Activation('relu')(merged)\n",
    "\n",
    "out = Dense(1, activation = \"sigmoid\")(merged)\n",
    "\n",
    "\n",
    "model2 = Model([input_question1, input_question2], [out])\n",
    "\n",
    "\n",
    "#sgd = optimizers.SGD(lr=0.3, momentum=0.8, decay=0.0001, nesterov=False)\n",
    "\n",
    "model2.compile('nadam', loss = 'binary_crossentropy')"
   ]
  },
  {
   "cell_type": "code",
   "execution_count": 294,
   "metadata": {
    "scrolled": true
   },
   "outputs": [
    {
     "name": "stderr",
     "output_type": "stream",
     "text": [
      "/opt/conda/lib/python3.5/site-packages/keras/backend/tensorflow_backend.py:2252: UserWarning: Expected no kwargs, you passed 1\n",
      "kwargs passed to function are ignored with Tensorflow backend\n",
      "  warnings.warn('\\n'.join(msg))\n"
     ]
    },
    {
     "name": "stdout",
     "output_type": "stream",
     "text": [
      "Train on 9000 samples, validate on 1000 samples\n",
      "Epoch 1/10\n",
      "41s - loss: 0.6447 - val_loss: 0.6151\n",
      "Epoch 2/10\n",
      "31s - loss: 0.6059 - val_loss: 0.6046\n",
      "Epoch 3/10\n",
      "31s - loss: 0.5882 - val_loss: 0.6151\n",
      "Epoch 4/10\n",
      "31s - loss: 0.5741 - val_loss: 0.5832\n",
      "Epoch 5/10\n",
      "32s - loss: 0.5575 - val_loss: 0.5936\n",
      "Epoch 6/10\n",
      "30s - loss: 0.5387 - val_loss: 0.5625\n",
      "Epoch 7/10\n",
      "28s - loss: 0.5328 - val_loss: 0.5573\n",
      "Epoch 8/10\n",
      "28s - loss: 0.5186 - val_loss: 0.5568\n",
      "Epoch 9/10\n",
      "28s - loss: 0.5042 - val_loss: 0.6274\n",
      "Epoch 10/10\n",
      "28s - loss: 0.4981 - val_loss: 0.5564\n"
     ]
    }
   ],
   "source": [
    "history = model2.fit([pad_question1_train,pad_question2_train], \n",
    "          [train_label],\n",
    "          epochs=10, verbose=2,batch_size = 128,shuffle = True,validation_split=0.1)"
   ]
  },
  {
   "cell_type": "code",
   "execution_count": 295,
   "metadata": {},
   "outputs": [
    {
     "data": {
      "image/png": "[encoded data removed]",
      "text/plain": [
       "<matplotlib.figure.Figure at 0x7f5944bc9160>"
      ]
     },
     "metadata": {},
     "output_type": "display_data"
    }
   ],
   "source": [
    "# summarize history for loss\n",
    "plt.plot(history.history['loss'])\n",
    "plt.plot(history.history['val_loss'])\n",
    "plt.title('model loss')\n",
    "plt.ylabel('loss')\n",
    "plt.xlabel('epoch')\n",
    "plt.legend(['train', 'test'], loc='upper left')\n",
    "plt.show()"
   ]
  },
  {
   "cell_type": "code",
   "execution_count": 296,
   "metadata": {},
   "outputs": [
    {
     "name": "stderr",
     "output_type": "stream",
     "text": [
      "/opt/conda/lib/python3.5/site-packages/keras/backend/tensorflow_backend.py:2252: UserWarning: Expected no kwargs, you passed 1\n",
      "kwargs passed to function are ignored with Tensorflow backend\n",
      "  warnings.warn('\\n'.join(msg))\n"
     ]
    }
   ],
   "source": [
    "model_2_out_train = model2.predict([pad_question1_train,pad_question2_train],verbose=2,batch_size = 128)\n",
    "model_2_out_test = model2.predict([pad_question1_test,pad_question2_test],verbose=2,batch_size = 128)"
   ]
  },
  {
   "cell_type": "code",
   "execution_count": 297,
   "metadata": {},
   "outputs": [],
   "source": [
    "clf = tree.DecisionTreeClassifier()\n",
    "clf = clf.fit(pd.DataFrame(model_2_out_train), pd.DataFrame(train_label))\n",
    "y_pred = clf.predict(pd.DataFrame(model_2_out_test))"
   ]
  },
  {
   "cell_type": "code",
   "execution_count": 298,
   "metadata": {},
   "outputs": [
    {
     "name": "stdout",
     "output_type": "stream",
     "text": [
      "Accuracy is  65.8\n"
     ]
    }
   ],
   "source": [
    "from sklearn.metrics import accuracy_score\n",
    "print(\"Accuracy is \", accuracy_score(test_label,y_pred)*100)"
   ]
  },
  {
   "cell_type": "code",
   "execution_count": 299,
   "metadata": {
    "scrolled": true
   },
   "outputs": [
    {
     "name": "stdout",
     "output_type": "stream",
     "text": [
      "Total number of actual similar question:322\n",
      "Total number of correctly clasified similar question:174\n",
      "Total number of incorrectly clasified similar question:148\n"
     ]
    }
   ],
   "source": [
    "count_true_1 = 0\n",
    "count_false_1 = 0\n",
    "\n",
    "\n",
    "for a,b in zip(test_label,y_pred):\n",
    "    if a == 1:\n",
    "        if b == 1:\n",
    "            count_true_1 += 1\n",
    "        else:\n",
    "            count_false_1 += 1\n",
    "            \n",
    "print(\"Total number of actual similar question:\" + str(sum(test_label)))\n",
    "print(\"Total number of correctly clasified similar question:\" + str(count_true_1))\n",
    "print(\"Total number of incorrectly clasified similar question:\" + str(count_false_1))"
   ]
  },
  {
   "cell_type": "code",
   "execution_count": 300,
   "metadata": {
    "scrolled": true
   },
   "outputs": [
    {
     "name": "stdout",
     "output_type": "stream",
     "text": [
      "Train on 9000 samples, validate on 1000 samples\n",
      "Epoch 1/10\n",
      "28s - loss: 0.4836 - val_loss: 0.5505\n",
      "Epoch 2/10\n",
      "28s - loss: 0.4719 - val_loss: 0.5502\n",
      "Epoch 3/10\n",
      "28s - loss: 0.4629 - val_loss: 0.5687\n",
      "Epoch 4/10\n",
      "28s - loss: 0.4464 - val_loss: 0.5452\n",
      "Epoch 5/10\n",
      "28s - loss: 0.4379 - val_loss: 0.5701\n",
      "Epoch 6/10\n",
      "28s - loss: 0.4247 - val_loss: 0.5586\n",
      "Epoch 7/10\n",
      "28s - loss: 0.4101 - val_loss: 0.5688\n",
      "Epoch 8/10\n",
      "28s - loss: 0.4019 - val_loss: 0.5953\n",
      "Epoch 9/10\n",
      "28s - loss: 0.3861 - val_loss: 0.5569\n",
      "Epoch 10/10\n",
      "28s - loss: 0.3958 - val_loss: 0.5485\n"
     ]
    }
   ],
   "source": [
    "history = model2.fit([pad_question1_train,pad_question2_train], \n",
    "          [train_label],\n",
    "          epochs=10, verbose=2,batch_size = 128,shuffle = True,validation_split=0.1)"
   ]
  },
  {
   "cell_type": "code",
   "execution_count": 301,
   "metadata": {},
   "outputs": [
    {
     "data": {
      "image/png": "[encoded data removed]",
      "text/plain": [
       "<matplotlib.figure.Figure at 0x7f5944bcdd30>"
      ]
     },
     "metadata": {},
     "output_type": "display_data"
    }
   ],
   "source": [
    "# summarize history for loss\n",
    "plt.plot(history.history['loss'])\n",
    "plt.plot(history.history['val_loss'])\n",
    "plt.title('model loss')\n",
    "plt.ylabel('loss')\n",
    "plt.xlabel('epoch')\n",
    "plt.legend(['train', 'test'], loc='upper left')\n",
    "plt.show()"
   ]
  },
  {
   "cell_type": "code",
   "execution_count": 302,
   "metadata": {
    "collapsed": true
   },
   "outputs": [],
   "source": [
    "model_2_out_train = model2.predict([pad_question1_train,pad_question2_train],verbose=2,batch_size = 128)\n",
    "model_2_out_test = model2.predict([pad_question1_test,pad_question2_test],verbose=2,batch_size = 128)"
   ]
  },
  {
   "cell_type": "code",
   "execution_count": 303,
   "metadata": {
    "collapsed": true
   },
   "outputs": [],
   "source": [
    "clf = tree.DecisionTreeClassifier()\n",
    "clf = clf.fit(pd.DataFrame(model_2_out_train), pd.DataFrame(train_label))\n",
    "y_pred = clf.predict(pd.DataFrame(model_2_out_test))"
   ]
  },
  {
   "cell_type": "code",
   "execution_count": 304,
   "metadata": {},
   "outputs": [
    {
     "name": "stdout",
     "output_type": "stream",
     "text": [
      "Accuracy is  70.2\n"
     ]
    }
   ],
   "source": [
    "from sklearn.metrics import accuracy_score\n",
    "print(\"Accuracy is \", accuracy_score(test_label,y_pred)*100)"
   ]
  },
  {
   "cell_type": "code",
   "execution_count": 306,
   "metadata": {},
   "outputs": [
    {
     "name": "stdout",
     "output_type": "stream",
     "text": [
      "Total number of actual similar question:322\n",
      "Total number of correctly clasified similar question:177\n",
      "Total number of incorrectly clasified similar question:145\n"
     ]
    }
   ],
   "source": [
    "count_true_1 = 0\n",
    "count_false_1 = 0\n",
    "\n",
    "\n",
    "for a,b in zip(test_label,y_pred):\n",
    "    if a == 1:\n",
    "        if b == 1:\n",
    "            count_true_1 += 1\n",
    "        else:\n",
    "            count_false_1 += 1\n",
    "            \n",
    "print(\"Total number of actual similar question:\" + str(sum(test_label)))\n",
    "print(\"Total number of correctly clasified similar question:\" + str(count_true_1))\n",
    "print(\"Total number of incorrectly clasified similar question:\" + str(count_false_1))"
   ]
  },
  {
   "cell_type": "code",
   "execution_count": 312,
   "metadata": {},
   "outputs": [
    {
     "name": "stdout",
     "output_type": "stream",
     "text": [
      "Train on 9000 samples, validate on 1000 samples\n",
      "Epoch 1/10\n",
      "28s - loss: 0.3823 - val_loss: 0.5958\n",
      "Epoch 2/10\n",
      "28s - loss: 0.3613 - val_loss: 0.5969\n",
      "Epoch 3/10\n",
      "28s - loss: 0.3548 - val_loss: 0.6002\n",
      "Epoch 4/10\n",
      "28s - loss: 0.3350 - val_loss: 0.6182\n",
      "Epoch 5/10\n",
      "28s - loss: 0.3278 - val_loss: 0.6029\n",
      "Epoch 6/10\n",
      "28s - loss: 0.3154 - val_loss: 0.6206\n",
      "Epoch 7/10\n",
      "28s - loss: 0.2989 - val_loss: 0.6815\n",
      "Epoch 8/10\n",
      "28s - loss: 0.2992 - val_loss: 0.6582\n",
      "Epoch 9/10\n",
      "27s - loss: 0.2832 - val_loss: 0.7511\n",
      "Epoch 10/10\n",
      "28s - loss: 0.2722 - val_loss: 0.7136\n"
     ]
    }
   ],
   "source": [
    "history = model2.fit([pad_question1_train,pad_question2_train], \n",
    "          [train_label],\n",
    "          epochs=10, verbose=2,batch_size = 128,shuffle = True,validation_split=0.1)"
   ]
  },
  {
   "cell_type": "code",
   "execution_count": 313,
   "metadata": {},
   "outputs": [
    {
     "data": {
      "image/png": "[encoded data removed]",
      "text/plain": [
       "<matplotlib.figure.Figure at 0x7f59449660f0>"
      ]
     },
     "metadata": {},
     "output_type": "display_data"
    }
   ],
   "source": [
    "# summarize history for loss\n",
    "plt.plot(history.history['loss'])\n",
    "plt.plot(history.history['val_loss'])\n",
    "plt.title('model loss')\n",
    "plt.ylabel('loss')\n",
    "plt.xlabel('epoch')\n",
    "plt.legend(['train', 'test'], loc='upper left')\n",
    "plt.show()"
   ]
  },
  {
   "cell_type": "code",
   "execution_count": 314,
   "metadata": {
    "collapsed": true
   },
   "outputs": [],
   "source": [
    "model_2_out_train = model2.predict([pad_question1_train,pad_question2_train],verbose=2,batch_size = 128)\n",
    "model_2_out_test = model2.predict([pad_question1_test,pad_question2_test],verbose=2,batch_size = 128)"
   ]
  },
  {
   "cell_type": "code",
   "execution_count": 315,
   "metadata": {
    "collapsed": true
   },
   "outputs": [],
   "source": [
    "clf = tree.DecisionTreeClassifier()\n",
    "clf = clf.fit(pd.DataFrame(model_2_out_train), pd.DataFrame(train_label))\n",
    "y_pred = clf.predict(pd.DataFrame(model_2_out_test))"
   ]
  },
  {
   "cell_type": "code",
   "execution_count": 316,
   "metadata": {},
   "outputs": [
    {
     "name": "stdout",
     "output_type": "stream",
     "text": [
      "Accuracy is  71.2\n"
     ]
    }
   ],
   "source": [
    "from sklearn.metrics import accuracy_score\n",
    "print(\"Accuracy is \", accuracy_score(test_label,y_pred)*100)"
   ]
  },
  {
   "cell_type": "code",
   "execution_count": 317,
   "metadata": {},
   "outputs": [
    {
     "name": "stdout",
     "output_type": "stream",
     "text": [
      "Total number of actual similar question:322\n",
      "Total number of correctly clasified similar question:170\n",
      "Total number of incorrectly clasified similar question:152\n"
     ]
    }
   ],
   "source": [
    "count_true_1 = 0\n",
    "count_false_1 = 0\n",
    "\n",
    "\n",
    "for a,b in zip(test_label,y_pred):\n",
    "    if a == 1:\n",
    "        if b == 1:\n",
    "            count_true_1 += 1\n",
    "        else:\n",
    "            count_false_1 += 1\n",
    "            \n",
    "print(\"Total number of actual similar question:\" + str(sum(test_label)))\n",
    "print(\"Total number of correctly clasified similar question:\" + str(count_true_1))\n",
    "print(\"Total number of incorrectly clasified similar question:\" + str(count_false_1))"
   ]
  },
  {
   "cell_type": "markdown",
   "metadata": {},
   "source": [
    "** Observation **\n",
    "\n",
    "Model 2 started overfitting data after 20 epoch. Number of coorectly identified same question decreased as seen above."
   ]
  },
  {
   "cell_type": "code",
   "execution_count": null,
   "metadata": {
    "collapsed": true
   },
   "outputs": [],
   "source": []
  }
 ],
 "metadata": {
  "kernelspec": {
   "display_name": "Python 3",
   "language": "python",
   "name": "python3"
  },
  "language_info": {
   "codemirror_mode": {
    "name": "ipython",
    "version": 3
   },
   "file_extension": ".py",
   "mimetype": "text/x-python",
   "name": "python",
   "nbconvert_exporter": "python",
   "pygments_lexer": "ipython3",
   "version": "3.5.2"
  }
 },
 "nbformat": 4,
 "nbformat_minor": 2
}
