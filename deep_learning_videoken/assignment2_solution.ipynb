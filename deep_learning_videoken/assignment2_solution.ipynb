{
 "cells": [
  {
   "cell_type": "markdown",
   "metadata": {},
   "source": [
    "# Facial Keypoints Detection"
   ]
  },
  {
   "cell_type": "markdown",
   "metadata": {},
   "source": [
    " - Version : 0.1\n",
    " - Python : 3"
   ]
  },
  {
   "cell_type": "markdown",
   "metadata": {},
   "source": [
    "The objective of this task is to predict keypoint positions on face images. This can be used as a building block in several applications, such as:\n",
    "\n",
    "tracking faces in images and video\n",
    "analysing facial expressions\n",
    "detecting dysmorphic facial signs for medical diagnosis\n",
    "biometrics / face recognition\n",
    "Detecing facial keypoints is a very challenging problem.  Facial features vary greatly from one individual to another, and even for a single individual, there is a large amount of variation due to 3D pose, size, position, viewing angle, and illumination conditions. Computer vision research has come a long way in addressing these difficulties, but there remain many opportunities for improvement.\n",
    "\n",
    "**kaggale link **\n",
    "\n",
    "https://www.kaggle.com/c/facial-keypoints-detection"
   ]
  },
  {
   "cell_type": "markdown",
   "metadata": {},
   "source": [
    "** Data **\n",
    "\n",
    "- train.csv\n",
    "- test.csv\n",
    "- testlabels.csv"
   ]
  },
  {
   "cell_type": "code",
   "execution_count": 28,
   "metadata": {
    "collapsed": true
   },
   "outputs": [],
   "source": [
    "#import libraries\n",
    "\n",
    "import numpy as np\n",
    "import pandas as pd\n",
    "\n",
    "import matplotlib.pyplot as plt\n",
    "from keras.preprocessing.image import ImageDataGenerator"
   ]
  },
  {
   "cell_type": "code",
   "execution_count": 29,
   "metadata": {
    "collapsed": true
   },
   "outputs": [],
   "source": [
    "# read data\n",
    "train_data = pd.read_csv('data/train.csv')\n",
    "test_data = pd.read_csv('data/test.csv',header = None)\n",
    "test_labels = pd.read_csv('data/testlabels.csv',header = None)"
   ]
  },
  {
   "cell_type": "markdown",
   "metadata": {},
   "source": [
    "### Handle 'nan' in data\n",
    "\n",
    "Drop corresponding image"
   ]
  },
  {
   "cell_type": "code",
   "execution_count": 30,
   "metadata": {
    "collapsed": true
   },
   "outputs": [],
   "source": [
    "train_data = train_data.dropna(axis=0, how='any')"
   ]
  },
  {
   "cell_type": "code",
   "execution_count": 31,
   "metadata": {
    "collapsed": true
   },
   "outputs": [],
   "source": [
    "test_labels = test_labels.iloc[:,1:]"
   ]
  },
  {
   "cell_type": "code",
   "execution_count": 32,
   "metadata": {},
   "outputs": [
    {
     "name": "stdout",
     "output_type": "stream",
     "text": [
      "(993, 31)\n",
      "(500, 2)\n",
      "(500, 30)\n"
     ]
    }
   ],
   "source": [
    "print(train_data.shape)\n",
    "print(test_data.shape)\n",
    "print(test_labels.shape)"
   ]
  },
  {
   "cell_type": "code",
   "execution_count": 33,
   "metadata": {},
   "outputs": [
    {
     "data": {
      "text/html": [
       "<div>\n",
       "<table border=\"1\" class=\"dataframe\">\n",
       "  <thead>\n",
       "    <tr style=\"text-align: right;\">\n",
       "      <th></th>\n",
       "      <th>1</th>\n",
       "      <th>2</th>\n",
       "      <th>3</th>\n",
       "      <th>4</th>\n",
       "      <th>5</th>\n",
       "      <th>6</th>\n",
       "      <th>7</th>\n",
       "      <th>8</th>\n",
       "      <th>9</th>\n",
       "      <th>10</th>\n",
       "      <th>...</th>\n",
       "      <th>21</th>\n",
       "      <th>22</th>\n",
       "      <th>23</th>\n",
       "      <th>24</th>\n",
       "      <th>25</th>\n",
       "      <th>26</th>\n",
       "      <th>27</th>\n",
       "      <th>28</th>\n",
       "      <th>29</th>\n",
       "      <th>30</th>\n",
       "    </tr>\n",
       "  </thead>\n",
       "  <tbody>\n",
       "    <tr>\n",
       "      <th>0</th>\n",
       "      <td>66.979368</td>\n",
       "      <td>33.665011</td>\n",
       "      <td>30.850526</td>\n",
       "      <td>34.794105</td>\n",
       "      <td>62.086737</td>\n",
       "      <td>34.794105</td>\n",
       "      <td>72.248421</td>\n",
       "      <td>35.170442</td>\n",
       "      <td>36.871579</td>\n",
       "      <td>35.546779</td>\n",
       "      <td>...</td>\n",
       "      <td>50.108632</td>\n",
       "      <td>48.452211</td>\n",
       "      <td>65.097263</td>\n",
       "      <td>70.546526</td>\n",
       "      <td>38.000842</td>\n",
       "      <td>69.417263</td>\n",
       "      <td>49.290947</td>\n",
       "      <td>61.890526</td>\n",
       "      <td>50.420211</td>\n",
       "      <td>79.202526</td>\n",
       "    </tr>\n",
       "    <tr>\n",
       "      <th>1</th>\n",
       "      <td>65.130173</td>\n",
       "      <td>36.037179</td>\n",
       "      <td>30.658960</td>\n",
       "      <td>36.037179</td>\n",
       "      <td>58.434035</td>\n",
       "      <td>37.277410</td>\n",
       "      <td>71.330220</td>\n",
       "      <td>36.533272</td>\n",
       "      <td>37.602590</td>\n",
       "      <td>37.029364</td>\n",
       "      <td>...</td>\n",
       "      <td>48.440046</td>\n",
       "      <td>53.176786</td>\n",
       "      <td>63.146358</td>\n",
       "      <td>71.500578</td>\n",
       "      <td>33.634960</td>\n",
       "      <td>71.748624</td>\n",
       "      <td>48.762451</td>\n",
       "      <td>64.556948</td>\n",
       "      <td>48.514405</td>\n",
       "      <td>80.924671</td>\n",
       "    </tr>\n",
       "    <tr>\n",
       "      <th>2</th>\n",
       "      <td>67.671429</td>\n",
       "      <td>42.036000</td>\n",
       "      <td>29.910857</td>\n",
       "      <td>37.412486</td>\n",
       "      <td>63.432857</td>\n",
       "      <td>41.651143</td>\n",
       "      <td>75.377143</td>\n",
       "      <td>43.962857</td>\n",
       "      <td>35.689714</td>\n",
       "      <td>37.797771</td>\n",
       "      <td>...</td>\n",
       "      <td>48.791143</td>\n",
       "      <td>60.145714</td>\n",
       "      <td>59.964857</td>\n",
       "      <td>81.723429</td>\n",
       "      <td>28.368857</td>\n",
       "      <td>78.255429</td>\n",
       "      <td>45.708000</td>\n",
       "      <td>75.173143</td>\n",
       "      <td>43.396286</td>\n",
       "      <td>91.356000</td>\n",
       "    </tr>\n",
       "    <tr>\n",
       "      <th>3</th>\n",
       "      <td>67.729394</td>\n",
       "      <td>35.792465</td>\n",
       "      <td>30.167104</td>\n",
       "      <td>36.504299</td>\n",
       "      <td>62.210788</td>\n",
       "      <td>35.436349</td>\n",
       "      <td>72.358108</td>\n",
       "      <td>36.148183</td>\n",
       "      <td>35.685710</td>\n",
       "      <td>36.504299</td>\n",
       "      <td>...</td>\n",
       "      <td>49.749112</td>\n",
       "      <td>53.772349</td>\n",
       "      <td>64.881261</td>\n",
       "      <td>72.464863</td>\n",
       "      <td>34.795419</td>\n",
       "      <td>73.354755</td>\n",
       "      <td>49.393394</td>\n",
       "      <td>71.752631</td>\n",
       "      <td>49.749112</td>\n",
       "      <td>83.145959</td>\n",
       "    </tr>\n",
       "    <tr>\n",
       "      <th>4</th>\n",
       "      <td>66.021293</td>\n",
       "      <td>36.013137</td>\n",
       "      <td>30.214737</td>\n",
       "      <td>35.367988</td>\n",
       "      <td>60.214376</td>\n",
       "      <td>36.335711</td>\n",
       "      <td>72.472782</td>\n",
       "      <td>36.980932</td>\n",
       "      <td>36.988872</td>\n",
       "      <td>36.335711</td>\n",
       "      <td>...</td>\n",
       "      <td>47.634045</td>\n",
       "      <td>58.916571</td>\n",
       "      <td>57.311278</td>\n",
       "      <td>78.593684</td>\n",
       "      <td>35.053714</td>\n",
       "      <td>78.593684</td>\n",
       "      <td>47.311398</td>\n",
       "      <td>73.110135</td>\n",
       "      <td>46.343459</td>\n",
       "      <td>87.948271</td>\n",
       "    </tr>\n",
       "  </tbody>\n",
       "</table>\n",
       "<p>5 rows × 30 columns</p>\n",
       "</div>"
      ],
      "text/plain": [
       "          1          2          3          4          5          6   \\\n",
       "0  66.979368  33.665011  30.850526  34.794105  62.086737  34.794105   \n",
       "1  65.130173  36.037179  30.658960  36.037179  58.434035  37.277410   \n",
       "2  67.671429  42.036000  29.910857  37.412486  63.432857  41.651143   \n",
       "3  67.729394  35.792465  30.167104  36.504299  62.210788  35.436349   \n",
       "4  66.021293  36.013137  30.214737  35.367988  60.214376  36.335711   \n",
       "\n",
       "          7          8          9          10    ...             21  \\\n",
       "0  72.248421  35.170442  36.871579  35.546779    ...      50.108632   \n",
       "1  71.330220  36.533272  37.602590  37.029364    ...      48.440046   \n",
       "2  75.377143  43.962857  35.689714  37.797771    ...      48.791143   \n",
       "3  72.358108  36.148183  35.685710  36.504299    ...      49.749112   \n",
       "4  72.472782  36.980932  36.988872  36.335711    ...      47.634045   \n",
       "\n",
       "          22         23         24         25         26         27  \\\n",
       "0  48.452211  65.097263  70.546526  38.000842  69.417263  49.290947   \n",
       "1  53.176786  63.146358  71.500578  33.634960  71.748624  48.762451   \n",
       "2  60.145714  59.964857  81.723429  28.368857  78.255429  45.708000   \n",
       "3  53.772349  64.881261  72.464863  34.795419  73.354755  49.393394   \n",
       "4  58.916571  57.311278  78.593684  35.053714  78.593684  47.311398   \n",
       "\n",
       "          28         29         30  \n",
       "0  61.890526  50.420211  79.202526  \n",
       "1  64.556948  48.514405  80.924671  \n",
       "2  75.173143  43.396286  91.356000  \n",
       "3  71.752631  49.749112  83.145959  \n",
       "4  73.110135  46.343459  87.948271  \n",
       "\n",
       "[5 rows x 30 columns]"
      ]
     },
     "execution_count": 33,
     "metadata": {},
     "output_type": "execute_result"
    }
   ],
   "source": [
    "test_labels.head()"
   ]
  },
  {
   "cell_type": "markdown",
   "metadata": {},
   "source": [
    "## Explore data"
   ]
  },
  {
   "cell_type": "code",
   "execution_count": 34,
   "metadata": {
    "collapsed": true
   },
   "outputs": [],
   "source": [
    "#display image\n",
    "\n",
    "def get_image(row):\n",
    "    \n",
    "    keypoints = row[:30]\n",
    "    #last column: image data\n",
    "    lastcol = row[30]\n",
    "    \n",
    "    #split with space delimiter, strip unnecessary characters\n",
    "    image = [int(x.strip()) for x in lastcol.split()]\n",
    "    \n",
    "    #image size is 96 x 96\n",
    "    assert(len(image) == 96*96)\n",
    "    \n",
    "    return keypoints,image\n",
    "\n",
    "def plot_image(row):\n",
    "    \n",
    "    keypoints, image = get_image(row)\n",
    "    \n",
    "    image_array = np.array(image, dtype=np.float32)\n",
    "    #reshape to 96 x 96\n",
    "    img = image_array.reshape((96,96))\n",
    "    \n",
    "    #plot image in grayscale\n",
    "    plt.imshow(img, cmap='gray')\n",
    "\n",
    "\n",
    "    #plot keypoints\n",
    "    \n",
    "    for i in range(len(keypoints)):\n",
    "        if ((i) * 2)+1 <= len(keypoints):\n",
    "            ind1 = (i) * 2\n",
    "            ind2 = ind1+1\n",
    "            \n",
    "            keypoints = keypoints\n",
    "            x,y = keypoints[ind1], keypoints[ind2]\n",
    "            \n",
    "            #add keypoint coordinates to the plot\n",
    "            plt.scatter([x], [y])\n",
    "\n",
    "    #show plot\n",
    "    plt.show()\n"
   ]
  },
  {
   "cell_type": "code",
   "execution_count": 35,
   "metadata": {},
   "outputs": [
    {
     "name": "stderr",
     "output_type": "stream",
     "text": [
      "/opt/conda/lib/python3.5/site-packages/ipykernel_launcher.py:3: FutureWarning: irow(i) is deprecated. Please use .iloc[i]\n",
      "  This is separate from the ipykernel package so we can avoid doing imports until\n"
     ]
    },
    {
     "data": {
      "image/png": "[encoded data removed]",
      "text/plain": [
       "<matplotlib.figure.Figure at 0x7f47145d0710>"
      ]
     },
     "metadata": {},
     "output_type": "display_data"
    }
   ],
   "source": [
    "# plot images to check\n",
    "\n",
    "plot_image(train_data.irow(206))"
   ]
  },
  {
   "cell_type": "markdown",
   "metadata": {},
   "source": [
    "## prepare data"
   ]
  },
  {
   "cell_type": "code",
   "execution_count": 36,
   "metadata": {
    "collapsed": true
   },
   "outputs": [],
   "source": [
    "#Function to prepare train adn test data\n",
    "\n",
    "def reshape_image(flat_array):\n",
    "    \n",
    "    return np.array(flat_array).reshape((96,96,1))\n",
    "    \n",
    "\n",
    "def prepare_data(data, train = True):\n",
    "    \n",
    "    features = []\n",
    "    labels = []\n",
    "    \n",
    "    n_col = data.shape[1]\n",
    "    \n",
    "    for i,row in data.iterrows():\n",
    "        \n",
    "        features.append(reshape_image([int(x.strip()) for x in row[n_col-1].split()]))\n",
    "        \n",
    "        if (train):\n",
    "            labels.append([y for y in row[:n_col-1]])\n",
    "        \n",
    "    \n",
    "    return np.array(features),np.array(labels)    "
   ]
  },
  {
   "cell_type": "code",
   "execution_count": 37,
   "metadata": {
    "collapsed": true
   },
   "outputs": [],
   "source": [
    "# get train and test data\n",
    "\n",
    "train_x, train_y = prepare_data(train_data)\n",
    "test_x,_ = prepare_data(test_data,train = False)\n",
    "test_y = test_labels.as_matrix()"
   ]
  },
  {
   "cell_type": "code",
   "execution_count": 38,
   "metadata": {},
   "outputs": [
    {
     "data": {
      "text/plain": [
       "(500, 96, 96, 1)"
      ]
     },
     "execution_count": 38,
     "metadata": {},
     "output_type": "execute_result"
    }
   ],
   "source": [
    "test_x.shape"
   ]
  },
  {
   "cell_type": "code",
   "execution_count": 39,
   "metadata": {
    "collapsed": true
   },
   "outputs": [],
   "source": [
    "#normalise data\n",
    "\n",
    "train_x = train_x/255\n",
    "train_y = train_y/95\n",
    "\n",
    "test_x = test_x/255\n",
    "test_y = test_y/95"
   ]
  },
  {
   "cell_type": "code",
   "execution_count": 40,
   "metadata": {
    "collapsed": true
   },
   "outputs": [],
   "source": [
    "# handle nan\n",
    "\n",
    "train_y = np.nan_to_num(train_y)\n",
    "test_y = np.nan_to_num(test_y)"
   ]
  },
  {
   "cell_type": "code",
   "execution_count": 41,
   "metadata": {},
   "outputs": [
    {
     "data": {
      "text/plain": [
       "(993, 30)"
      ]
     },
     "execution_count": 41,
     "metadata": {},
     "output_type": "execute_result"
    }
   ],
   "source": [
    "train_y.shape"
   ]
  },
  {
   "cell_type": "code",
   "execution_count": 42,
   "metadata": {
    "scrolled": true
   },
   "outputs": [
    {
     "data": {
      "text/plain": [
       "array([ 0.68558077,  0.37933873,  0.32272589,  0.37933873,  0.6150951 ,\n",
       "        0.39239379,  0.75084442,  0.38456075,  0.39581673,  0.38978278,\n",
       "        0.25224022,  0.39239379,  0.60204588,  0.27753258,  0.81349121,\n",
       "        0.3166861 ,  0.39842775,  0.27492157,  0.18958759,  0.3166861 ,\n",
       "        0.50989522,  0.55975564,  0.66469851,  0.75263766,  0.35405221,\n",
       "        0.75524868,  0.51328896,  0.67954682,  0.51067794,  0.85183864])"
      ]
     },
     "execution_count": 42,
     "metadata": {},
     "output_type": "execute_result"
    }
   ],
   "source": [
    "test_y[1]"
   ]
  },
  {
   "cell_type": "markdown",
   "metadata": {
    "collapsed": true
   },
   "source": [
    "## Build model"
   ]
  },
  {
   "cell_type": "code",
   "execution_count": 43,
   "metadata": {
    "collapsed": true
   },
   "outputs": [],
   "source": [
    "from keras.models import Sequential\n",
    "from keras.layers import Conv2D, MaxPooling2D\n",
    "from keras.layers import Activation, Dropout, Flatten, Dense\n",
    "from keras import optimizers"
   ]
  },
  {
   "cell_type": "code",
   "execution_count": 44,
   "metadata": {
    "collapsed": true
   },
   "outputs": [],
   "source": [
    "model = Sequential()\n",
    "\n",
    "model.add(Conv2D(32, (3, 3), input_shape=(96, 96,1)))\n",
    "model.add(Activation('relu'))\n",
    "model.add(MaxPooling2D(pool_size=(2, 2)))\n",
    "\n",
    "model.add(Conv2D(32, (3, 3)))\n",
    "model.add(Activation('relu'))\n",
    "model.add(MaxPooling2D(pool_size=(2, 2)))\n",
    "\n",
    "model.add(Conv2D(64, (3, 3)))\n",
    "model.add(Activation('relu'))\n",
    "model.add(MaxPooling2D(pool_size=(2, 2)))\n",
    "\n",
    "model.add(Flatten())  # this converts our 3D feature maps to 1D feature vectors\n",
    "model.add(Dense(64))\n",
    "model.add(Activation('relu'))\n",
    "model.add(Dropout(0.5))\n",
    "model.add(Dense(30))\n",
    "model.add(Activation('relu'))\n",
    "\n",
    "epochs = 50\n",
    "learning_rate = 0.1\n",
    "#decay_rate = 0.001\n",
    "decay_rate = learning_rate / epochs\n",
    "momentum = 0.8\n",
    "\n",
    "sgd = optimizers.SGD(lr=learning_rate, decay=decay_rate, momentum=momentum, nesterov=True,clipnorm=100)\n",
    "\n",
    "model.compile(loss='mean_squared_error',\n",
    "              optimizer=sgd)"
   ]
  },
  {
   "cell_type": "code",
   "execution_count": 45,
   "metadata": {},
   "outputs": [
    {
     "name": "stdout",
     "output_type": "stream",
     "text": [
      "_________________________________________________________________\n",
      "Layer (type)                 Output Shape              Param #   \n",
      "=================================================================\n",
      "conv2d_4 (Conv2D)            (None, 94, 94, 32)        320       \n",
      "_________________________________________________________________\n",
      "activation_6 (Activation)    (None, 94, 94, 32)        0         \n",
      "_________________________________________________________________\n",
      "max_pooling2d_4 (MaxPooling2 (None, 47, 47, 32)        0         \n",
      "_________________________________________________________________\n",
      "conv2d_5 (Conv2D)            (None, 45, 45, 32)        9248      \n",
      "_________________________________________________________________\n",
      "activation_7 (Activation)    (None, 45, 45, 32)        0         \n",
      "_________________________________________________________________\n",
      "max_pooling2d_5 (MaxPooling2 (None, 22, 22, 32)        0         \n",
      "_________________________________________________________________\n",
      "conv2d_6 (Conv2D)            (None, 20, 20, 64)        18496     \n",
      "_________________________________________________________________\n",
      "activation_8 (Activation)    (None, 20, 20, 64)        0         \n",
      "_________________________________________________________________\n",
      "max_pooling2d_6 (MaxPooling2 (None, 10, 10, 64)        0         \n",
      "_________________________________________________________________\n",
      "flatten_2 (Flatten)          (None, 6400)              0         \n",
      "_________________________________________________________________\n",
      "dense_3 (Dense)              (None, 64)                409664    \n",
      "_________________________________________________________________\n",
      "activation_9 (Activation)    (None, 64)                0         \n",
      "_________________________________________________________________\n",
      "dropout_2 (Dropout)          (None, 64)                0         \n",
      "_________________________________________________________________\n",
      "dense_4 (Dense)              (None, 30)                1950      \n",
      "_________________________________________________________________\n",
      "activation_10 (Activation)   (None, 30)                0         \n",
      "=================================================================\n",
      "Total params: 439,678\n",
      "Trainable params: 439,678\n",
      "Non-trainable params: 0\n",
      "_________________________________________________________________\n"
     ]
    }
   ],
   "source": [
    "model.summary()"
   ]
  },
  {
   "cell_type": "code",
   "execution_count": 46,
   "metadata": {
    "scrolled": true
   },
   "outputs": [
    {
     "name": "stderr",
     "output_type": "stream",
     "text": [
      "/opt/conda/lib/python3.5/site-packages/keras/backend/tensorflow_backend.py:2252: UserWarning: Expected no kwargs, you passed 1\n",
      "kwargs passed to function are ignored with Tensorflow backend\n",
      "  warnings.warn('\\n'.join(msg))\n"
     ]
    },
    {
     "name": "stdout",
     "output_type": "stream",
     "text": [
      "Train on 893 samples, validate on 100 samples\n",
      "Epoch 1/50\n",
      "6s - loss: 0.0719 - val_loss: 0.0073\n",
      "Epoch 2/50\n",
      "5s - loss: 0.0187 - val_loss: 0.0024\n",
      "Epoch 3/50\n",
      "5s - loss: 0.0098 - val_loss: 0.0015\n",
      "Epoch 4/50\n",
      "5s - loss: 0.0063 - val_loss: 0.0013\n",
      "Epoch 5/50\n",
      "5s - loss: 0.0047 - val_loss: 0.0011\n",
      "Epoch 6/50\n",
      "5s - loss: 0.0035 - val_loss: 9.5790e-04\n",
      "Epoch 7/50\n",
      "5s - loss: 0.0028 - val_loss: 9.7300e-04\n",
      "Epoch 8/50\n",
      "4s - loss: 0.0024 - val_loss: 8.3929e-04\n",
      "Epoch 9/50\n",
      "5s - loss: 0.0020 - val_loss: 7.5534e-04\n",
      "Epoch 10/50\n",
      "5s - loss: 0.0018 - val_loss: 7.9862e-04\n",
      "Epoch 11/50\n",
      "5s - loss: 0.0016 - val_loss: 6.9786e-04\n",
      "Epoch 12/50\n",
      "5s - loss: 0.0015 - val_loss: 7.9365e-04\n",
      "Epoch 13/50\n",
      "5s - loss: 0.0013 - val_loss: 7.3586e-04\n",
      "Epoch 14/50\n",
      "5s - loss: 0.0013 - val_loss: 7.3556e-04\n",
      "Epoch 15/50\n",
      "5s - loss: 0.0012 - val_loss: 6.9710e-04\n",
      "Epoch 16/50\n",
      "5s - loss: 0.0011 - val_loss: 6.8719e-04\n",
      "Epoch 17/50\n",
      "5s - loss: 0.0011 - val_loss: 7.0486e-04\n",
      "Epoch 18/50\n",
      "5s - loss: 0.0010 - val_loss: 6.8884e-04\n",
      "Epoch 19/50\n",
      "5s - loss: 9.9876e-04 - val_loss: 6.8996e-04\n",
      "Epoch 20/50\n",
      "5s - loss: 9.5692e-04 - val_loss: 6.9345e-04\n",
      "Epoch 21/50\n",
      "5s - loss: 9.4133e-04 - val_loss: 6.8099e-04\n",
      "Epoch 22/50\n",
      "5s - loss: 9.2253e-04 - val_loss: 6.9274e-04\n",
      "Epoch 23/50\n",
      "5s - loss: 8.8737e-04 - val_loss: 6.7969e-04\n",
      "Epoch 24/50\n",
      "5s - loss: 8.8113e-04 - val_loss: 6.6025e-04\n",
      "Epoch 25/50\n",
      "5s - loss: 8.6407e-04 - val_loss: 6.5735e-04\n",
      "Epoch 26/50\n",
      "5s - loss: 8.5394e-04 - val_loss: 6.7676e-04\n",
      "Epoch 27/50\n",
      "5s - loss: 8.5225e-04 - val_loss: 6.5376e-04\n",
      "Epoch 28/50\n",
      "5s - loss: 8.4190e-04 - val_loss: 6.5078e-04\n",
      "Epoch 29/50\n",
      "5s - loss: 8.3584e-04 - val_loss: 6.5949e-04\n",
      "Epoch 30/50\n",
      "5s - loss: 8.2086e-04 - val_loss: 6.6784e-04\n",
      "Epoch 31/50\n",
      "5s - loss: 8.0272e-04 - val_loss: 6.4480e-04\n",
      "Epoch 32/50\n",
      "5s - loss: 7.9999e-04 - val_loss: 6.5836e-04\n",
      "Epoch 33/50\n",
      "5s - loss: 7.9402e-04 - val_loss: 6.5446e-04\n",
      "Epoch 34/50\n",
      "5s - loss: 7.9217e-04 - val_loss: 6.6533e-04\n",
      "Epoch 35/50\n",
      "5s - loss: 7.9093e-04 - val_loss: 6.4773e-04\n",
      "Epoch 36/50\n",
      "5s - loss: 7.8715e-04 - val_loss: 6.4753e-04\n",
      "Epoch 37/50\n",
      "5s - loss: 7.8149e-04 - val_loss: 6.4709e-04\n",
      "Epoch 38/50\n",
      "5s - loss: 7.7040e-04 - val_loss: 6.4104e-04\n",
      "Epoch 39/50\n",
      "5s - loss: 7.7682e-04 - val_loss: 6.4041e-04\n",
      "Epoch 40/50\n",
      "5s - loss: 7.6992e-04 - val_loss: 6.4903e-04\n",
      "Epoch 41/50\n",
      "5s - loss: 7.7171e-04 - val_loss: 6.4342e-04\n",
      "Epoch 42/50\n",
      "5s - loss: 7.6658e-04 - val_loss: 6.4163e-04\n",
      "Epoch 43/50\n",
      "5s - loss: 7.6156e-04 - val_loss: 6.3978e-04\n",
      "Epoch 44/50\n",
      "5s - loss: 7.6303e-04 - val_loss: 6.3680e-04\n",
      "Epoch 45/50\n",
      "5s - loss: 7.5849e-04 - val_loss: 6.3958e-04\n",
      "Epoch 46/50\n",
      "5s - loss: 7.6162e-04 - val_loss: 6.3645e-04\n",
      "Epoch 47/50\n",
      "5s - loss: 7.6021e-04 - val_loss: 6.3885e-04\n",
      "Epoch 48/50\n",
      "5s - loss: 7.5735e-04 - val_loss: 6.3507e-04\n",
      "Epoch 49/50\n",
      "5s - loss: 7.5460e-04 - val_loss: 6.3868e-04\n",
      "Epoch 50/50\n",
      "5s - loss: 7.5272e-04 - val_loss: 6.3821e-04\n"
     ]
    }
   ],
   "source": [
    "history = model.fit(train_x, train_y, batch_size=16, epochs=epochs,verbose = 2,shuffle = True, validation_split = 0.1)"
   ]
  },
  {
   "cell_type": "code",
   "execution_count": 47,
   "metadata": {},
   "outputs": [
    {
     "data": {
      "image/png": "[encoded data removed]",
      "text/plain": [
       "<matplotlib.figure.Figure at 0x7f47145f29e8>"
      ]
     },
     "metadata": {},
     "output_type": "display_data"
    }
   ],
   "source": [
    "# summarize history for loss\n",
    "plt.plot(history.history['loss'])\n",
    "plt.plot(history.history['val_loss'])\n",
    "plt.title('model loss')\n",
    "plt.ylabel('loss')\n",
    "plt.xlabel('epoch')\n",
    "plt.legend(['train', 'test'], loc='upper left')\n",
    "plt.show()"
   ]
  },
  {
   "cell_type": "code",
   "execution_count": 48,
   "metadata": {},
   "outputs": [
    {
     "name": "stdout",
     "output_type": "stream",
     "text": [
      "500/500 [==============================] - 0s     \n"
     ]
    },
    {
     "data": {
      "text/plain": [
       "0.0012357305358164012"
      ]
     },
     "execution_count": 48,
     "metadata": {},
     "output_type": "execute_result"
    }
   ],
   "source": [
    "model.evaluate(test_x,test_y)"
   ]
  },
  {
   "cell_type": "code",
   "execution_count": 49,
   "metadata": {},
   "outputs": [
    {
     "name": "stderr",
     "output_type": "stream",
     "text": [
      "/opt/conda/lib/python3.5/site-packages/keras/backend/tensorflow_backend.py:2252: UserWarning: Expected no kwargs, you passed 1\n",
      "kwargs passed to function are ignored with Tensorflow backend\n",
      "  warnings.warn('\\n'.join(msg))\n"
     ]
    }
   ],
   "source": [
    "check = model.predict(test_x)"
   ]
  },
  {
   "cell_type": "code",
   "execution_count": 50,
   "metadata": {
    "collapsed": true
   },
   "outputs": [],
   "source": [
    "check = check*95"
   ]
  },
  {
   "cell_type": "code",
   "execution_count": 51,
   "metadata": {},
   "outputs": [
    {
     "data": {
      "text/plain": [
       "array([ 65.92667389,  36.313694  ,  29.47575569,  36.86549759,\n",
       "        59.13843918,  37.07318497,  71.96007538,  37.2777977 ,\n",
       "        35.51356125,  37.08224869,  23.68302536,  37.05500031,\n",
       "        56.68576431,  28.49666786,  78.43366241,  29.290308  ,\n",
       "        38.26355743,  28.87605858,  16.38817024,  30.01310158,\n",
       "        47.82040405,  54.20861816,  61.83177567,  74.44804382,\n",
       "        33.93946838,  74.49360657,  47.53812027,  68.95323181,\n",
       "        47.41110992,  82.16001129], dtype=float32)"
      ]
     },
     "execution_count": 51,
     "metadata": {},
     "output_type": "execute_result"
    }
   ],
   "source": [
    "check[10]"
   ]
  },
  {
   "cell_type": "markdown",
   "metadata": {},
   "source": [
    "## Results"
   ]
  },
  {
   "cell_type": "code",
   "execution_count": 52,
   "metadata": {
    "collapsed": true
   },
   "outputs": [],
   "source": [
    "#\n",
    "\n",
    "def plot_predicted_image(features,keypoints):\n",
    "    \n",
    "    image_array = np.array([int(x.strip()) for x in features.split()])\n",
    "    \n",
    "    img = image_array.reshape((96,96))\n",
    "    \n",
    "    #plot image in grayscale\n",
    "    plt.imshow(img, cmap='gray')\n",
    "\n",
    "\n",
    "    #plot keypoints\n",
    "    \n",
    "    for i in range(len(keypoints)):\n",
    "        if ((i) * 2)+1 <= len(keypoints):\n",
    "            ind1 = (i) * 2\n",
    "            ind2 = ind1+1\n",
    "            \n",
    "            keypoints = keypoints\n",
    "            x,y = keypoints[ind1], keypoints[ind2]\n",
    "            \n",
    "            #add keypoint coordinates to the plot\n",
    "            plt.scatter([x], [y])\n",
    "\n",
    "    #show plot\n",
    "    plt.show()\n",
    "    "
   ]
  },
  {
   "cell_type": "code",
   "execution_count": 58,
   "metadata": {
    "scrolled": true
   },
   "outputs": [
    {
     "name": "stderr",
     "output_type": "stream",
     "text": [
      "/opt/conda/lib/python3.5/site-packages/ipykernel_launcher.py:3: FutureWarning: irow(i) is deprecated. Please use .iloc[i]\n",
      "  This is separate from the ipykernel package so we can avoid doing imports until\n"
     ]
    },
    {
     "data": {
      "image/png": "[encoded data removed]",
      "text/plain": [
       "<matplotlib.figure.Figure at 0x7f470c036cf8>"
      ]
     },
     "metadata": {},
     "output_type": "display_data"
    }
   ],
   "source": [
    "image_number = 150\n",
    "\n",
    "plot_predicted_image(test_data.irow(image_number)[1],check[image_number])"
   ]
  },
  {
   "cell_type": "code",
   "execution_count": 59,
   "metadata": {
    "scrolled": true
   },
   "outputs": [
    {
     "name": "stderr",
     "output_type": "stream",
     "text": [
      "/opt/conda/lib/python3.5/site-packages/ipykernel_launcher.py:1: FutureWarning: irow(i) is deprecated. Please use .iloc[i]\n",
      "  \"\"\"Entry point for launching an IPython kernel.\n"
     ]
    },
    {
     "data": {
      "image/png": "[encoded data removed]",
      "text/plain": [
       "<matplotlib.figure.Figure at 0x7f46e8786240>"
      ]
     },
     "metadata": {},
     "output_type": "display_data"
    }
   ],
   "source": [
    "plot_predicted_image(test_data.irow(image_number)[1],[x for x in test_labels.irow(image_number)])"
   ]
  },
  {
   "cell_type": "markdown",
   "metadata": {
    "collapsed": true
   },
   "source": [
    "## Improvements "
   ]
  },
  {
   "cell_type": "markdown",
   "metadata": {},
   "source": [
    "Image agumentation would help in better generalization"
   ]
  },
  {
   "cell_type": "code",
   "execution_count": null,
   "metadata": {
    "collapsed": true
   },
   "outputs": [],
   "source": []
  }
 ],
 "metadata": {
  "kernelspec": {
   "display_name": "Python 3",
   "language": "python",
   "name": "python3"
  },
  "language_info": {
   "codemirror_mode": {
    "name": "ipython",
    "version": 3
   },
   "file_extension": ".py",
   "mimetype": "text/x-python",
   "name": "python",
   "nbconvert_exporter": "python",
   "pygments_lexer": "ipython3",
   "version": "3.5.2"
  }
 },
 "nbformat": 4,
 "nbformat_minor": 2
}
